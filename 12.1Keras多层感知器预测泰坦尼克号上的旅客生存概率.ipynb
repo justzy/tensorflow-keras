{
 "cells": [
  {
   "cell_type": "markdown",
   "metadata": {},
   "source": [
    "![](./lesson12/1.jpg)\n",
    "\n",
    "![](./lesson12/2.jpg)"
   ]
  },
  {
   "cell_type": "markdown",
   "metadata": {},
   "source": [
    "## 12.1 数据预处理"
   ]
  },
  {
   "cell_type": "code",
   "execution_count": 1,
   "metadata": {},
   "outputs": [],
   "source": [
    "# 1 导入所需模块\n",
    "import urllib.request\n",
    "import os\n",
    "import tarfile\n",
    "import pandas as pd\n",
    "import numpy as np"
   ]
  },
  {
   "cell_type": "code",
   "execution_count": 2,
   "metadata": {},
   "outputs": [],
   "source": [
    "# 2 读取泰坦尼克号数据集\n",
    "all_df = pd.read_excel('./data/titanic3.xls')"
   ]
  },
  {
   "cell_type": "code",
   "execution_count": 3,
   "metadata": {},
   "outputs": [],
   "source": [
    "# 3 选取所需要的字段\n",
    "cols = ['survived', 'pclass', 'name', 'sex', 'age', 'sibsp', 'parch', 'fare', 'embarked']\n",
    "all_df = all_df[cols]"
   ]
  },
  {
   "cell_type": "code",
   "execution_count": 4,
   "metadata": {},
   "outputs": [],
   "source": [
    "# 4 依照8:2 的比例将数据分为训练数据和测试数据\n",
    "msk = np.random.rand(len(all_df)) < 0.8\n",
    "train_df = all_df[msk]\n",
    "test_df = all_df[~msk]"
   ]
  },
  {
   "cell_type": "code",
   "execution_count": 5,
   "metadata": {},
   "outputs": [
    {
     "name": "stdout",
     "output_type": "stream",
     "text": [
      " total :  1309\n",
      " train :  1043\n",
      " test :  266\n"
     ]
    }
   ],
   "source": [
    "# 5 显示训练数据和测试数据项数\n",
    "print(' total : ', len(all_df))\n",
    "print(' train : ', len(train_df))\n",
    "print(' test : ', len(test_df))"
   ]
  },
  {
   "cell_type": "code",
   "execution_count": 6,
   "metadata": {},
   "outputs": [],
   "source": [
    "from sklearn import preprocessing"
   ]
  },
  {
   "cell_type": "code",
   "execution_count": 7,
   "metadata": {},
   "outputs": [],
   "source": [
    "# 将训练数据和测试数据进行预处理， 预处理过程参考上节预处理\n",
    "def PreprocessData(raw_df):\n",
    "    print(' origin data is preprocessing...')\n",
    "#     删除name字段，对age，fare空数据进行均值填充\n",
    "    df = raw_df.drop(['name'], axis=1)\n",
    "    age_mean = df['age'].mean()\n",
    "    df['age'] = df['age'].fillna(age_mean)\n",
    "    fare_mean = df['fare'].mean()\n",
    "    df['fare'] = df['fare'].fillna(fare_mean)\n",
    "#     字符串类型sex转为int类型\n",
    "    df['sex'] = df['sex'].map({'female':0, 'male':1}).astype(int)\n",
    "#     对embarked字段进行oneHot 编码\n",
    "    x_OneHot_df = pd.get_dummies(data=df, columns=['embarked'])\n",
    "    \n",
    "#     预处理基本完成， 把dataframe 转成array\n",
    "    ndarray = x_OneHot_df.values\n",
    "#     返回数据为 特征值 和 标签\n",
    "    Features = ndarray[:, 1:]\n",
    "    Label = ndarray[:, 0]\n",
    "    \n",
    "#     最后把特征值进行标准化处理，使训练效果更好，预测结果更加精确\n",
    "    minmax_scale = preprocessing.MinMaxScaler()\n",
    "    scaledFeatures = minmax_scale.fit_transform(Features)\n",
    "    print(' processing is ok')\n",
    "    return scaledFeatures, Label"
   ]
  },
  {
   "cell_type": "code",
   "execution_count": 8,
   "metadata": {},
   "outputs": [
    {
     "name": "stdout",
     "output_type": "stream",
     "text": [
      " origin data is preprocessing...\n",
      " processing is ok\n",
      " origin data is preprocessing...\n",
      " processing is ok\n"
     ]
    }
   ],
   "source": [
    "train_features, train_label = PreprocessData(train_df)\n",
    "test_features, test_label = PreprocessData(test_df)"
   ]
  },
  {
   "cell_type": "markdown",
   "metadata": {},
   "source": [
    "***"
   ]
  },
  {
   "cell_type": "markdown",
   "metadata": {},
   "source": [
    "## 12.2 建立模型\n",
    "\n",
    "### 将建立一下多层感知器模型，输入层（9个神经元），隐藏层1（40个神经元）， 隐藏层2（30个神经元），输出层（1个神经元）， 如下图所示\n",
    "\n",
    "![](./lesson12/3.jpg)"
   ]
  },
  {
   "cell_type": "code",
   "execution_count": 9,
   "metadata": {},
   "outputs": [
    {
     "name": "stderr",
     "output_type": "stream",
     "text": [
      "Using TensorFlow backend.\n",
      "F:\\python\\Anaconda3\\envs\\tensorFLow-gpu\\lib\\site-packages\\tensorflow\\python\\framework\\dtypes.py:523: FutureWarning: Passing (type, 1) or '1type' as a synonym of type is deprecated; in a future version of numpy, it will be understood as (type, (1,)) / '(1,)type'.\n",
      "  _np_qint8 = np.dtype([(\"qint8\", np.int8, 1)])\n",
      "F:\\python\\Anaconda3\\envs\\tensorFLow-gpu\\lib\\site-packages\\tensorflow\\python\\framework\\dtypes.py:524: FutureWarning: Passing (type, 1) or '1type' as a synonym of type is deprecated; in a future version of numpy, it will be understood as (type, (1,)) / '(1,)type'.\n",
      "  _np_quint8 = np.dtype([(\"quint8\", np.uint8, 1)])\n",
      "F:\\python\\Anaconda3\\envs\\tensorFLow-gpu\\lib\\site-packages\\tensorflow\\python\\framework\\dtypes.py:525: FutureWarning: Passing (type, 1) or '1type' as a synonym of type is deprecated; in a future version of numpy, it will be understood as (type, (1,)) / '(1,)type'.\n",
      "  _np_qint16 = np.dtype([(\"qint16\", np.int16, 1)])\n",
      "F:\\python\\Anaconda3\\envs\\tensorFLow-gpu\\lib\\site-packages\\tensorflow\\python\\framework\\dtypes.py:526: FutureWarning: Passing (type, 1) or '1type' as a synonym of type is deprecated; in a future version of numpy, it will be understood as (type, (1,)) / '(1,)type'.\n",
      "  _np_quint16 = np.dtype([(\"quint16\", np.uint16, 1)])\n",
      "F:\\python\\Anaconda3\\envs\\tensorFLow-gpu\\lib\\site-packages\\tensorflow\\python\\framework\\dtypes.py:527: FutureWarning: Passing (type, 1) or '1type' as a synonym of type is deprecated; in a future version of numpy, it will be understood as (type, (1,)) / '(1,)type'.\n",
      "  _np_qint32 = np.dtype([(\"qint32\", np.int32, 1)])\n",
      "F:\\python\\Anaconda3\\envs\\tensorFLow-gpu\\lib\\site-packages\\tensorflow\\python\\framework\\dtypes.py:532: FutureWarning: Passing (type, 1) or '1type' as a synonym of type is deprecated; in a future version of numpy, it will be understood as (type, (1,)) / '(1,)type'.\n",
      "  np_resource = np.dtype([(\"resource\", np.ubyte, 1)])\n"
     ]
    }
   ],
   "source": [
    "# 导入所需模块\n",
    "from keras.models import Sequential\n",
    "from keras.layers import Dense, Dropout"
   ]
  },
  {
   "cell_type": "code",
   "execution_count": 10,
   "metadata": {},
   "outputs": [],
   "source": [
    "# 建立一个线性堆叠模型，后续只需要把各个神经网络层加入即可\n",
    "model = Sequential()"
   ]
  },
  {
   "cell_type": "code",
   "execution_count": 11,
   "metadata": {},
   "outputs": [],
   "source": [
    "# 建立隐藏层1与输入层1\n",
    "model.add(Dense(units=40,\n",
    "                               input_dim=9,\n",
    "                               kernel_initializer='uniform',\n",
    "                               activation='relu'))"
   ]
  },
  {
   "cell_type": "markdown",
   "metadata": {},
   "source": [
    "### 参数解释\n",
    "- **units=40:** 输出是“隐藏层1” 共有40个神经元\n",
    "- **input_dim=9:** 输入层有9个神经元的输入，因为数据预处理后有9个特征值字段\n",
    "- **kernel_initializer='uniform':** 使用 unisorm distribution分布的随机数初始化 weight 和 bias\n",
    "- **activation='relu':** 定义激活函数 ReLU"
   ]
  },
  {
   "cell_type": "code",
   "execution_count": 12,
   "metadata": {},
   "outputs": [],
   "source": [
    "# 建立隐藏层2和输入层2\n",
    "model.add(Dense(units=30,\n",
    "                               kernel_initializer='uniform',\n",
    "                               activation='relu'))"
   ]
  },
  {
   "cell_type": "markdown",
   "metadata": {},
   "source": [
    "### 参数解释\n",
    "- **units=30:** 输出是“隐藏层1” 共有30个神经元\n",
    "- **kernel_initializer='uniform':** 使用 unisorm distribution分布的随机数初始化 weight 和 bias\n",
    "- **activation='relu':** 定义激活函数 ReLU"
   ]
  },
  {
   "cell_type": "code",
   "execution_count": 13,
   "metadata": {},
   "outputs": [],
   "source": [
    "# 建立输出层\n",
    "model.add(Dense(units=1,\n",
    "                               kernel_initializer='uniform',\n",
    "                               activation='sigmoid'))"
   ]
  },
  {
   "cell_type": "markdown",
   "metadata": {},
   "source": [
    "***"
   ]
  },
  {
   "cell_type": "markdown",
   "metadata": {},
   "source": [
    "## 12.3 开始训练\n",
    "\n",
    "### 建立好模型后，可以使用 _<u>反向传播法</u>_ 进行训练\n"
   ]
  },
  {
   "cell_type": "code",
   "execution_count": 14,
   "metadata": {},
   "outputs": [],
   "source": [
    "# 1 定义训练方式， 在模型训练之前，必须先对模型进行设置\n",
    "# binary_crossentropy（亦称作对数损失，logloss）\n",
    "model.compile(loss='binary_crossentropy', optimizer='adam', metrics=['accuracy'])"
   ]
  },
  {
   "cell_type": "code",
   "execution_count": 15,
   "metadata": {},
   "outputs": [
    {
     "name": "stdout",
     "output_type": "stream",
     "text": [
      "Train on 938 samples, validate on 105 samples\n",
      "Epoch 1/30\n",
      " - 1s - loss: 0.6891 - acc: 0.6002 - val_loss: 0.6642 - val_acc: 0.8000\n",
      "Epoch 2/30\n",
      " - 0s - loss: 0.6645 - acc: 0.6013 - val_loss: 0.5693 - val_acc: 0.8000\n",
      "Epoch 3/30\n",
      " - 0s - loss: 0.6087 - acc: 0.6642 - val_loss: 0.4809 - val_acc: 0.8190\n",
      "Epoch 4/30\n",
      " - 0s - loss: 0.5489 - acc: 0.7495 - val_loss: 0.4629 - val_acc: 0.8095\n",
      "Epoch 5/30\n",
      " - 0s - loss: 0.5142 - acc: 0.7676 - val_loss: 0.4294 - val_acc: 0.8095\n",
      "Epoch 6/30\n",
      " - 0s - loss: 0.4945 - acc: 0.7676 - val_loss: 0.4316 - val_acc: 0.8095\n",
      "Epoch 7/30\n",
      " - 0s - loss: 0.4878 - acc: 0.7751 - val_loss: 0.4231 - val_acc: 0.8095\n",
      "Epoch 8/30\n",
      " - 0s - loss: 0.4856 - acc: 0.7783 - val_loss: 0.4190 - val_acc: 0.8095\n",
      "Epoch 9/30\n",
      " - 0s - loss: 0.4770 - acc: 0.7751 - val_loss: 0.4157 - val_acc: 0.8286\n",
      "Epoch 10/30\n",
      " - 0s - loss: 0.4738 - acc: 0.7900 - val_loss: 0.4114 - val_acc: 0.8571\n",
      "Epoch 11/30\n",
      " - 0s - loss: 0.4734 - acc: 0.7846 - val_loss: 0.4099 - val_acc: 0.8095\n",
      "Epoch 12/30\n",
      " - 0s - loss: 0.4704 - acc: 0.7910 - val_loss: 0.4079 - val_acc: 0.8476\n",
      "Epoch 13/30\n",
      " - 0s - loss: 0.4654 - acc: 0.7996 - val_loss: 0.4201 - val_acc: 0.8095\n",
      "Epoch 14/30\n",
      " - 0s - loss: 0.4687 - acc: 0.7772 - val_loss: 0.4060 - val_acc: 0.8476\n",
      "Epoch 15/30\n",
      " - 0s - loss: 0.4648 - acc: 0.7942 - val_loss: 0.4050 - val_acc: 0.8571\n",
      "Epoch 16/30\n",
      " - 0s - loss: 0.4630 - acc: 0.7910 - val_loss: 0.4037 - val_acc: 0.8571\n",
      "Epoch 17/30\n",
      " - 0s - loss: 0.4611 - acc: 0.7964 - val_loss: 0.4020 - val_acc: 0.8571\n",
      "Epoch 18/30\n",
      " - 0s - loss: 0.4612 - acc: 0.7900 - val_loss: 0.4019 - val_acc: 0.8571\n",
      "Epoch 19/30\n",
      " - 0s - loss: 0.4592 - acc: 0.7974 - val_loss: 0.4005 - val_acc: 0.8571\n",
      "Epoch 20/30\n",
      " - 0s - loss: 0.4594 - acc: 0.7964 - val_loss: 0.4009 - val_acc: 0.8571\n",
      "Epoch 21/30\n",
      " - 0s - loss: 0.4584 - acc: 0.7953 - val_loss: 0.4018 - val_acc: 0.8571\n",
      "Epoch 22/30\n",
      " - 0s - loss: 0.4579 - acc: 0.7964 - val_loss: 0.4005 - val_acc: 0.8571\n",
      "Epoch 23/30\n",
      " - 0s - loss: 0.4578 - acc: 0.7921 - val_loss: 0.3991 - val_acc: 0.8190\n",
      "Epoch 24/30\n",
      " - 0s - loss: 0.4559 - acc: 0.8081 - val_loss: 0.3971 - val_acc: 0.8571\n",
      "Epoch 25/30\n",
      " - 0s - loss: 0.4534 - acc: 0.8038 - val_loss: 0.4006 - val_acc: 0.8571\n",
      "Epoch 26/30\n",
      " - 0s - loss: 0.4551 - acc: 0.7974 - val_loss: 0.3989 - val_acc: 0.8667\n",
      "Epoch 27/30\n",
      " - 0s - loss: 0.4525 - acc: 0.7932 - val_loss: 0.3963 - val_acc: 0.8571\n",
      "Epoch 28/30\n",
      " - 0s - loss: 0.4519 - acc: 0.8038 - val_loss: 0.3965 - val_acc: 0.8667\n",
      "Epoch 29/30\n",
      " - 0s - loss: 0.4536 - acc: 0.8028 - val_loss: 0.3997 - val_acc: 0.8571\n",
      "Epoch 30/30\n",
      " - 0s - loss: 0.4572 - acc: 0.7985 - val_loss: 0.3976 - val_acc: 0.8571\n"
     ]
    }
   ],
   "source": [
    "# 2 开始训练\n",
    "train_history = model.fit(x=train_features, y=train_label, validation_split=0.1, epochs=30, batch_size=30, verbose=2)"
   ]
  },
  {
   "cell_type": "markdown",
   "metadata": {},
   "source": [
    "![](./lesson12/4.jpg)"
   ]
  },
  {
   "cell_type": "code",
   "execution_count": 16,
   "metadata": {},
   "outputs": [],
   "source": [
    "# 建立show_train_history显示训练过程\n",
    "# 可以使用如下方法，读取train_history，以图表显示训练过程。\n",
    "import matplotlib.pyplot as plt\n",
    "def show_train_history(train_history, train, validation):\n",
    "    plt.plot(train_history.history[train])\n",
    "    plt.plot(train_history.history[validation])\n",
    "    plt.title('Train History')\n",
    "    plt.xlabel('Epoch')\n",
    "    plt.ylabel('Train')\n",
    "    plt.legend(['train', 'validation'], loc='upper left')\n",
    "    plt.show()"
   ]
  },
  {
   "cell_type": "code",
   "execution_count": 17,
   "metadata": {},
   "outputs": [
    {
     "data": {
      "image/png": "[encoded data removed]",
      "text/plain": [
       "<Figure size 432x288 with 1 Axes>"
      ]
     },
     "metadata": {
      "needs_background": "light"
     },
     "output_type": "display_data"
    }
   ],
   "source": [
    "# 画出准确率的执行结果\n",
    "show_train_history(train_history, 'acc', 'val_acc')"
   ]
  },
  {
   "cell_type": "code",
   "execution_count": 18,
   "metadata": {},
   "outputs": [
    {
     "data": {
      "image/png": "[encoded data removed]",
      "text/plain": [
       "<Figure size 432x288 with 1 Axes>"
      ]
     },
     "metadata": {
      "needs_background": "light"
     },
     "output_type": "display_data"
    }
   ],
   "source": [
    "# 画出误差的执行结果\n",
    "show_train_history(train_history, 'loss', 'val_loss')"
   ]
  },
  {
   "cell_type": "markdown",
   "metadata": {},
   "source": [
    "***"
   ]
  },
  {
   "cell_type": "markdown",
   "metadata": {},
   "source": [
    "## 12.4 评估模型准确率\n",
    "\n",
    "### 已经训练完成模型，现在使用验证集test来评估模型的准确率"
   ]
  },
  {
   "cell_type": "code",
   "execution_count": 19,
   "metadata": {},
   "outputs": [
    {
     "name": "stdout",
     "output_type": "stream",
     "text": [
      "266/266 [==============================] - 0s 38us/step\n",
      "0.7894736846586815\n"
     ]
    }
   ],
   "source": [
    "scores = model.evaluate(x=test_features, y=test_label)\n",
    "print(scores[1])"
   ]
  },
  {
   "cell_type": "markdown",
   "metadata": {},
   "source": [
    "#### 从以上结果可以看出，准确率为 0.78\n",
    "***"
   ]
  },
  {
   "cell_type": "markdown",
   "metadata": {},
   "source": [
    "## 10.5 加入《泰坦尼克号》电影中Jack 和 Rose 的数据\n",
    "\n",
    "![](./lesson12/5.jpg)"
   ]
  },
  {
   "cell_type": "code",
   "execution_count": 20,
   "metadata": {},
   "outputs": [],
   "source": [
    "Jack = pd.Series([0, 3, 'Jack', 'male',  23, 1, 0, 5.0000, 'S'])\n",
    "Rose = pd.Series([1, 1, 'Rose', 'female', 20, 1, 0, 100.0000, 'S'])"
   ]
  },
  {
   "cell_type": "code",
   "execution_count": 24,
   "metadata": {},
   "outputs": [],
   "source": [
    "# 创建Jack和Rose的DataFrame\n",
    "JR_df = pd.DataFrame([list(Jack), list(Rose)], columns=['survived', 'pclass', 'name', 'sex', 'age', 'sibsp', 'parch', 'fare', 'embarked'])"
   ]
  },
  {
   "cell_type": "code",
   "execution_count": 25,
   "metadata": {},
   "outputs": [
    {
     "data": {
      "text/html": [
       "<div>\n",
       "<style scoped>\n",
       "    .dataframe tbody tr th:only-of-type {\n",
       "        vertical-align: middle;\n",
       "    }\n",
       "\n",
       "    .dataframe tbody tr th {\n",
       "        vertical-align: top;\n",
       "    }\n",
       "\n",
       "    .dataframe thead th {\n",
       "        text-align: right;\n",
       "    }\n",
       "</style>\n",
       "<table border=\"1\" class=\"dataframe\">\n",
       "  <thead>\n",
       "    <tr style=\"text-align: right;\">\n",
       "      <th></th>\n",
       "      <th>survived</th>\n",
       "      <th>pclass</th>\n",
       "      <th>name</th>\n",
       "      <th>sex</th>\n",
       "      <th>age</th>\n",
       "      <th>sibsp</th>\n",
       "      <th>parch</th>\n",
       "      <th>fare</th>\n",
       "      <th>embarked</th>\n",
       "    </tr>\n",
       "  </thead>\n",
       "  <tbody>\n",
       "    <tr>\n",
       "      <th>0</th>\n",
       "      <td>0</td>\n",
       "      <td>3</td>\n",
       "      <td>Jack</td>\n",
       "      <td>male</td>\n",
       "      <td>23</td>\n",
       "      <td>1</td>\n",
       "      <td>0</td>\n",
       "      <td>5.0</td>\n",
       "      <td>S</td>\n",
       "    </tr>\n",
       "    <tr>\n",
       "      <th>1</th>\n",
       "      <td>1</td>\n",
       "      <td>1</td>\n",
       "      <td>Rose</td>\n",
       "      <td>female</td>\n",
       "      <td>20</td>\n",
       "      <td>1</td>\n",
       "      <td>0</td>\n",
       "      <td>100.0</td>\n",
       "      <td>S</td>\n",
       "    </tr>\n",
       "  </tbody>\n",
       "</table>\n",
       "</div>"
      ],
      "text/plain": [
       "   survived  pclass  name     sex  age  sibsp  parch   fare embarked\n",
       "0         0       3  Jack    male   23      1      0    5.0        S\n",
       "1         1       1  Rose  female   20      1      0  100.0        S"
      ]
     },
     "execution_count": 25,
     "metadata": {},
     "output_type": "execute_result"
    }
   ],
   "source": [
    "JR_df"
   ]
  },
  {
   "cell_type": "code",
   "execution_count": 26,
   "metadata": {},
   "outputs": [],
   "source": [
    "# JR_df 加入all_df\n",
    "all_df = pd.concat([all_df, JR_df])"
   ]
  },
  {
   "cell_type": "code",
   "execution_count": 27,
   "metadata": {},
   "outputs": [
    {
     "data": {
      "text/html": [
       "<div>\n",
       "<style scoped>\n",
       "    .dataframe tbody tr th:only-of-type {\n",
       "        vertical-align: middle;\n",
       "    }\n",
       "\n",
       "    .dataframe tbody tr th {\n",
       "        vertical-align: top;\n",
       "    }\n",
       "\n",
       "    .dataframe thead th {\n",
       "        text-align: right;\n",
       "    }\n",
       "</style>\n",
       "<table border=\"1\" class=\"dataframe\">\n",
       "  <thead>\n",
       "    <tr style=\"text-align: right;\">\n",
       "      <th></th>\n",
       "      <th>survived</th>\n",
       "      <th>pclass</th>\n",
       "      <th>name</th>\n",
       "      <th>sex</th>\n",
       "      <th>age</th>\n",
       "      <th>sibsp</th>\n",
       "      <th>parch</th>\n",
       "      <th>fare</th>\n",
       "      <th>embarked</th>\n",
       "    </tr>\n",
       "  </thead>\n",
       "  <tbody>\n",
       "    <tr>\n",
       "      <th>0</th>\n",
       "      <td>0</td>\n",
       "      <td>3</td>\n",
       "      <td>Jack</td>\n",
       "      <td>male</td>\n",
       "      <td>23.0</td>\n",
       "      <td>1</td>\n",
       "      <td>0</td>\n",
       "      <td>5.0</td>\n",
       "      <td>S</td>\n",
       "    </tr>\n",
       "    <tr>\n",
       "      <th>1</th>\n",
       "      <td>1</td>\n",
       "      <td>1</td>\n",
       "      <td>Rose</td>\n",
       "      <td>female</td>\n",
       "      <td>20.0</td>\n",
       "      <td>1</td>\n",
       "      <td>0</td>\n",
       "      <td>100.0</td>\n",
       "      <td>S</td>\n",
       "    </tr>\n",
       "  </tbody>\n",
       "</table>\n",
       "</div>"
      ],
      "text/plain": [
       "   survived  pclass  name     sex   age  sibsp  parch   fare embarked\n",
       "0         0       3  Jack    male  23.0      1      0    5.0        S\n",
       "1         1       1  Rose  female  20.0      1      0  100.0        S"
      ]
     },
     "execution_count": 27,
     "metadata": {},
     "output_type": "execute_result"
    }
   ],
   "source": [
    "# 查看最后两项数据，是否拼接成功\n",
    "all_df[-2:]"
   ]
  },
  {
   "cell_type": "markdown",
   "metadata": {},
   "source": [
    "## 12.6 进行预测"
   ]
  },
  {
   "cell_type": "code",
   "execution_count": 28,
   "metadata": {},
   "outputs": [
    {
     "name": "stdout",
     "output_type": "stream",
     "text": [
      " origin data is preprocessing...\n",
      " processing is ok\n"
     ]
    }
   ],
   "source": [
    "# 执行数据预处理\n",
    "all_Features, all_Label = PreprocessData(all_df)"
   ]
  },
  {
   "cell_type": "code",
   "execution_count": 29,
   "metadata": {},
   "outputs": [],
   "source": [
    "# 执行预测\n",
    "all_probability = model.predict(all_Features)"
   ]
  },
  {
   "cell_type": "code",
   "execution_count": 30,
   "metadata": {},
   "outputs": [
    {
     "data": {
      "text/plain": [
       "array([[0.9681405 ],\n",
       "       [0.64581966],\n",
       "       [0.96448296],\n",
       "       [0.44576836],\n",
       "       [0.96040815]], dtype=float32)"
      ]
     },
     "execution_count": 30,
     "metadata": {},
     "output_type": "execute_result"
    }
   ],
   "source": [
    "# 查看预测结果\n",
    "all_probability[:5]"
   ]
  },
  {
   "cell_type": "markdown",
   "metadata": {},
   "source": [
    "### 以上结果就是每一位旅客生存的概率"
   ]
  },
  {
   "cell_type": "markdown",
   "metadata": {},
   "source": [
    "#### DataFrame.insert(loc, column, value, allow_duplicates=False)  \n",
    "Insert column into DataFrame at specified location.\n",
    "**Parameters:**\n",
    "- loc : int, Insertion index. Must verify 0 <= loc <= len(columns)  要插入的那一列\n",
    "- column : string, number, or hashable object, label of the inserted column    要插入那列的标签\n",
    "- value : int, Series, or array-like\n",
    "- allow_duplicates : bool, optional    布尔类型，可选择"
   ]
  },
  {
   "cell_type": "code",
   "execution_count": 31,
   "metadata": {},
   "outputs": [],
   "source": [
    "# 将all_df 与 all_probability 整合成一个dataFrame\n",
    "\n",
    "all_df_predict = all_df\n",
    "all_df_predict.insert(len(all_df.columns), 'probability', all_probability)"
   ]
  },
  {
   "cell_type": "code",
   "execution_count": 32,
   "metadata": {},
   "outputs": [
    {
     "data": {
      "text/html": [
       "<div>\n",
       "<style scoped>\n",
       "    .dataframe tbody tr th:only-of-type {\n",
       "        vertical-align: middle;\n",
       "    }\n",
       "\n",
       "    .dataframe tbody tr th {\n",
       "        vertical-align: top;\n",
       "    }\n",
       "\n",
       "    .dataframe thead th {\n",
       "        text-align: right;\n",
       "    }\n",
       "</style>\n",
       "<table border=\"1\" class=\"dataframe\">\n",
       "  <thead>\n",
       "    <tr style=\"text-align: right;\">\n",
       "      <th></th>\n",
       "      <th>survived</th>\n",
       "      <th>pclass</th>\n",
       "      <th>name</th>\n",
       "      <th>sex</th>\n",
       "      <th>age</th>\n",
       "      <th>sibsp</th>\n",
       "      <th>parch</th>\n",
       "      <th>fare</th>\n",
       "      <th>embarked</th>\n",
       "      <th>probability</th>\n",
       "    </tr>\n",
       "  </thead>\n",
       "  <tbody>\n",
       "    <tr>\n",
       "      <th>0</th>\n",
       "      <td>0</td>\n",
       "      <td>3</td>\n",
       "      <td>Jack</td>\n",
       "      <td>male</td>\n",
       "      <td>23.0</td>\n",
       "      <td>1</td>\n",
       "      <td>0</td>\n",
       "      <td>5.0</td>\n",
       "      <td>S</td>\n",
       "      <td>0.134412</td>\n",
       "    </tr>\n",
       "    <tr>\n",
       "      <th>1</th>\n",
       "      <td>1</td>\n",
       "      <td>1</td>\n",
       "      <td>Rose</td>\n",
       "      <td>female</td>\n",
       "      <td>20.0</td>\n",
       "      <td>1</td>\n",
       "      <td>0</td>\n",
       "      <td>100.0</td>\n",
       "      <td>S</td>\n",
       "      <td>0.960866</td>\n",
       "    </tr>\n",
       "  </tbody>\n",
       "</table>\n",
       "</div>"
      ],
      "text/plain": [
       "   survived  pclass  name     sex   age  sibsp  parch   fare embarked  \\\n",
       "0         0       3  Jack    male  23.0      1      0    5.0        S   \n",
       "1         1       1  Rose  female  20.0      1      0  100.0        S   \n",
       "\n",
       "   probability  \n",
       "0     0.134412  \n",
       "1     0.960866  "
      ]
     },
     "execution_count": 32,
     "metadata": {},
     "output_type": "execute_result"
    }
   ],
   "source": [
    "# 查看Jack 和 Rose的预测结果\n",
    "all_df_predict[-2:]"
   ]
  },
  {
   "cell_type": "markdown",
   "metadata": {},
   "source": [
    "***"
   ]
  },
  {
   "cell_type": "markdown",
   "metadata": {},
   "source": [
    "## 12.7 找出泰坦尼克号背后的感人故事\n",
    "\n",
    "![](./lesson12/6.jpg)"
   ]
  },
  {
   "cell_type": "code",
   "execution_count": 34,
   "metadata": {},
   "outputs": [
    {
     "data": {
      "text/html": [
       "<div>\n",
       "<style scoped>\n",
       "    .dataframe tbody tr th:only-of-type {\n",
       "        vertical-align: middle;\n",
       "    }\n",
       "\n",
       "    .dataframe tbody tr th {\n",
       "        vertical-align: top;\n",
       "    }\n",
       "\n",
       "    .dataframe thead th {\n",
       "        text-align: right;\n",
       "    }\n",
       "</style>\n",
       "<table border=\"1\" class=\"dataframe\">\n",
       "  <thead>\n",
       "    <tr style=\"text-align: right;\">\n",
       "      <th></th>\n",
       "      <th>survived</th>\n",
       "      <th>pclass</th>\n",
       "      <th>name</th>\n",
       "      <th>sex</th>\n",
       "      <th>age</th>\n",
       "      <th>sibsp</th>\n",
       "      <th>parch</th>\n",
       "      <th>fare</th>\n",
       "      <th>embarked</th>\n",
       "      <th>probability</th>\n",
       "    </tr>\n",
       "  </thead>\n",
       "  <tbody>\n",
       "    <tr>\n",
       "      <th>2</th>\n",
       "      <td>0</td>\n",
       "      <td>1</td>\n",
       "      <td>Allison, Miss. Helen Loraine</td>\n",
       "      <td>female</td>\n",
       "      <td>2.0</td>\n",
       "      <td>1</td>\n",
       "      <td>2</td>\n",
       "      <td>151.5500</td>\n",
       "      <td>S</td>\n",
       "      <td>0.964483</td>\n",
       "    </tr>\n",
       "    <tr>\n",
       "      <th>4</th>\n",
       "      <td>0</td>\n",
       "      <td>1</td>\n",
       "      <td>Allison, Mrs. Hudson J C (Bessie Waldo Daniels)</td>\n",
       "      <td>female</td>\n",
       "      <td>25.0</td>\n",
       "      <td>1</td>\n",
       "      <td>2</td>\n",
       "      <td>151.5500</td>\n",
       "      <td>S</td>\n",
       "      <td>0.960408</td>\n",
       "    </tr>\n",
       "    <tr>\n",
       "      <th>105</th>\n",
       "      <td>0</td>\n",
       "      <td>1</td>\n",
       "      <td>Evans, Miss. Edith Corse</td>\n",
       "      <td>female</td>\n",
       "      <td>36.0</td>\n",
       "      <td>0</td>\n",
       "      <td>0</td>\n",
       "      <td>31.6792</td>\n",
       "      <td>C</td>\n",
       "      <td>0.972695</td>\n",
       "    </tr>\n",
       "    <tr>\n",
       "      <th>169</th>\n",
       "      <td>0</td>\n",
       "      <td>1</td>\n",
       "      <td>Isham, Miss. Ann Elizabeth</td>\n",
       "      <td>female</td>\n",
       "      <td>50.0</td>\n",
       "      <td>0</td>\n",
       "      <td>0</td>\n",
       "      <td>28.7125</td>\n",
       "      <td>C</td>\n",
       "      <td>0.968959</td>\n",
       "    </tr>\n",
       "    <tr>\n",
       "      <th>286</th>\n",
       "      <td>0</td>\n",
       "      <td>1</td>\n",
       "      <td>Straus, Mrs. Isidor (Rosalie Ida Blun)</td>\n",
       "      <td>female</td>\n",
       "      <td>63.0</td>\n",
       "      <td>1</td>\n",
       "      <td>0</td>\n",
       "      <td>221.7792</td>\n",
       "      <td>S</td>\n",
       "      <td>0.933705</td>\n",
       "    </tr>\n",
       "  </tbody>\n",
       "</table>\n",
       "</div>"
      ],
      "text/plain": [
       "     survived  pclass                                             name  \\\n",
       "2           0       1                     Allison, Miss. Helen Loraine   \n",
       "4           0       1  Allison, Mrs. Hudson J C (Bessie Waldo Daniels)   \n",
       "105         0       1                         Evans, Miss. Edith Corse   \n",
       "169         0       1                       Isham, Miss. Ann Elizabeth   \n",
       "286         0       1           Straus, Mrs. Isidor (Rosalie Ida Blun)   \n",
       "\n",
       "        sex   age  sibsp  parch      fare embarked  probability  \n",
       "2    female   2.0      1      2  151.5500        S     0.964483  \n",
       "4    female  25.0      1      2  151.5500        S     0.960408  \n",
       "105  female  36.0      0      0   31.6792        C     0.972695  \n",
       "169  female  50.0      0      0   28.7125        C     0.968959  \n",
       "286  female  63.0      1      0  221.7792        S     0.933705  "
      ]
     },
     "execution_count": 34,
     "metadata": {},
     "output_type": "execute_result"
    }
   ],
   "source": [
    "all_df_predict[(all_df_predict['probability']>0.9) & (all_df_predict['survived']==0)]"
   ]
  },
  {
   "cell_type": "markdown",
   "metadata": {},
   "source": [
    "### 查出以上这些人的存活概率极高， 但是最终却没有存活下来"
   ]
  },
  {
   "cell_type": "code",
   "execution_count": 35,
   "metadata": {
    "scrolled": true
   },
   "outputs": [
    {
     "data": {
      "text/html": [
       "<div>\n",
       "<style scoped>\n",
       "    .dataframe tbody tr th:only-of-type {\n",
       "        vertical-align: middle;\n",
       "    }\n",
       "\n",
       "    .dataframe tbody tr th {\n",
       "        vertical-align: top;\n",
       "    }\n",
       "\n",
       "    .dataframe thead th {\n",
       "        text-align: right;\n",
       "    }\n",
       "</style>\n",
       "<table border=\"1\" class=\"dataframe\">\n",
       "  <thead>\n",
       "    <tr style=\"text-align: right;\">\n",
       "      <th></th>\n",
       "      <th>survived</th>\n",
       "      <th>pclass</th>\n",
       "      <th>name</th>\n",
       "      <th>sex</th>\n",
       "      <th>age</th>\n",
       "      <th>sibsp</th>\n",
       "      <th>parch</th>\n",
       "      <th>fare</th>\n",
       "      <th>embarked</th>\n",
       "      <th>probability</th>\n",
       "    </tr>\n",
       "  </thead>\n",
       "  <tbody>\n",
       "    <tr>\n",
       "      <th>0</th>\n",
       "      <td>1</td>\n",
       "      <td>1</td>\n",
       "      <td>Allen, Miss. Elisabeth Walton</td>\n",
       "      <td>female</td>\n",
       "      <td>29.0000</td>\n",
       "      <td>0</td>\n",
       "      <td>0</td>\n",
       "      <td>211.3375</td>\n",
       "      <td>S</td>\n",
       "      <td>0.968140</td>\n",
       "    </tr>\n",
       "    <tr>\n",
       "      <th>1</th>\n",
       "      <td>1</td>\n",
       "      <td>1</td>\n",
       "      <td>Allison, Master. Hudson Trevor</td>\n",
       "      <td>male</td>\n",
       "      <td>0.9167</td>\n",
       "      <td>1</td>\n",
       "      <td>2</td>\n",
       "      <td>151.5500</td>\n",
       "      <td>S</td>\n",
       "      <td>0.645820</td>\n",
       "    </tr>\n",
       "    <tr>\n",
       "      <th>2</th>\n",
       "      <td>0</td>\n",
       "      <td>1</td>\n",
       "      <td>Allison, Miss. Helen Loraine</td>\n",
       "      <td>female</td>\n",
       "      <td>2.0000</td>\n",
       "      <td>1</td>\n",
       "      <td>2</td>\n",
       "      <td>151.5500</td>\n",
       "      <td>S</td>\n",
       "      <td>0.964483</td>\n",
       "    </tr>\n",
       "    <tr>\n",
       "      <th>3</th>\n",
       "      <td>0</td>\n",
       "      <td>1</td>\n",
       "      <td>Allison, Mr. Hudson Joshua Creighton</td>\n",
       "      <td>male</td>\n",
       "      <td>30.0000</td>\n",
       "      <td>1</td>\n",
       "      <td>2</td>\n",
       "      <td>151.5500</td>\n",
       "      <td>S</td>\n",
       "      <td>0.445768</td>\n",
       "    </tr>\n",
       "    <tr>\n",
       "      <th>4</th>\n",
       "      <td>0</td>\n",
       "      <td>1</td>\n",
       "      <td>Allison, Mrs. Hudson J C (Bessie Waldo Daniels)</td>\n",
       "      <td>female</td>\n",
       "      <td>25.0000</td>\n",
       "      <td>1</td>\n",
       "      <td>2</td>\n",
       "      <td>151.5500</td>\n",
       "      <td>S</td>\n",
       "      <td>0.960408</td>\n",
       "    </tr>\n",
       "  </tbody>\n",
       "</table>\n",
       "</div>"
      ],
      "text/plain": [
       "   survived  pclass                                             name     sex  \\\n",
       "0         1       1                    Allen, Miss. Elisabeth Walton  female   \n",
       "1         1       1                   Allison, Master. Hudson Trevor    male   \n",
       "2         0       1                     Allison, Miss. Helen Loraine  female   \n",
       "3         0       1             Allison, Mr. Hudson Joshua Creighton    male   \n",
       "4         0       1  Allison, Mrs. Hudson J C (Bessie Waldo Daniels)  female   \n",
       "\n",
       "       age  sibsp  parch      fare embarked  probability  \n",
       "0  29.0000      0      0  211.3375        S     0.968140  \n",
       "1   0.9167      1      2  151.5500        S     0.645820  \n",
       "2   2.0000      1      2  151.5500        S     0.964483  \n",
       "3  30.0000      1      2  151.5500        S     0.445768  \n",
       "4  25.0000      1      2  151.5500        S     0.960408  "
      ]
     },
     "execution_count": 35,
     "metadata": {},
     "output_type": "execute_result"
    }
   ],
   "source": [
    "all_df_predict[:5]"
   ]
  },
  {
   "cell_type": "markdown",
   "metadata": {},
   "source": [
    "### Allison 家族的故事\n",
    "\n",
    "![](./lesson12/7.jpg)\n",
    "\n",
    "#### ..."
   ]
  },
  {
   "cell_type": "code",
   "execution_count": null,
   "metadata": {},
   "outputs": [],
   "source": []
  },
  {
   "cell_type": "code",
   "execution_count": null,
   "metadata": {},
   "outputs": [],
   "source": []
  },
  {
   "cell_type": "code",
   "execution_count": null,
   "metadata": {},
   "outputs": [],
   "source": []
  },
  {
   "cell_type": "code",
   "execution_count": null,
   "metadata": {},
   "outputs": [],
   "source": []
  },
  {
   "cell_type": "code",
   "execution_count": null,
   "metadata": {},
   "outputs": [],
   "source": []
  },
  {
   "cell_type": "code",
   "execution_count": null,
   "metadata": {},
   "outputs": [],
   "source": []
  },
  {
   "cell_type": "code",
   "execution_count": null,
   "metadata": {},
   "outputs": [],
   "source": []
  },
  {
   "cell_type": "code",
   "execution_count": null,
   "metadata": {},
   "outputs": [],
   "source": []
  }
 ],
 "metadata": {
  "kernelspec": {
   "display_name": "Python tf-gpu",
   "language": "python",
   "name": "tensorflow-gpu"
  },
  "language_info": {
   "codemirror_mode": {
    "name": "ipython",
    "version": 3
   },
   "file_extension": ".py",
   "mimetype": "text/x-python",
   "name": "python",
   "nbconvert_exporter": "python",
   "pygments_lexer": "ipython3",
   "version": "3.6.12"
  }
 },
 "nbformat": 4,
 "nbformat_minor": 2
}
