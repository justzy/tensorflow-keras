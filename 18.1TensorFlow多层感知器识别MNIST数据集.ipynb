{
 "cells": [
  {
   "cell_type": "markdown",
   "metadata": {},
   "source": [
    "## 使用TensorFlow建立多层感知器，训练模型，评估模型的准确率，然后使用训练完成的模型来识别MNIST手写数字，并在尝试将模型加宽，加深以提高准确率"
   ]
  },
  {
   "cell_type": "markdown",
   "metadata": {},
   "source": [
    "## 1. TensorFlow多层感知器介绍\n",
    "### 建立如下所示的多层感知器模型\n",
    "\n",
    "![](./lesson18/1.jpg)\n",
    "\n",
    "### 具体步骤说明\n",
    "\n",
    "![](./lesson18/2.jpg)"
   ]
  },
  {
   "cell_type": "markdown",
   "metadata": {},
   "source": [
    "## 2. 数据准备"
   ]
  },
  {
   "cell_type": "code",
   "execution_count": 1,
   "metadata": {},
   "outputs": [
    {
     "name": "stderr",
     "output_type": "stream",
     "text": [
      "F:\\python\\Anaconda3\\envs\\tensorFLow-gpu\\lib\\site-packages\\tensorflow\\python\\framework\\dtypes.py:523: FutureWarning: Passing (type, 1) or '1type' as a synonym of type is deprecated; in a future version of numpy, it will be understood as (type, (1,)) / '(1,)type'.\n",
      "  _np_qint8 = np.dtype([(\"qint8\", np.int8, 1)])\n",
      "F:\\python\\Anaconda3\\envs\\tensorFLow-gpu\\lib\\site-packages\\tensorflow\\python\\framework\\dtypes.py:524: FutureWarning: Passing (type, 1) or '1type' as a synonym of type is deprecated; in a future version of numpy, it will be understood as (type, (1,)) / '(1,)type'.\n",
      "  _np_quint8 = np.dtype([(\"quint8\", np.uint8, 1)])\n",
      "F:\\python\\Anaconda3\\envs\\tensorFLow-gpu\\lib\\site-packages\\tensorflow\\python\\framework\\dtypes.py:525: FutureWarning: Passing (type, 1) or '1type' as a synonym of type is deprecated; in a future version of numpy, it will be understood as (type, (1,)) / '(1,)type'.\n",
      "  _np_qint16 = np.dtype([(\"qint16\", np.int16, 1)])\n",
      "F:\\python\\Anaconda3\\envs\\tensorFLow-gpu\\lib\\site-packages\\tensorflow\\python\\framework\\dtypes.py:526: FutureWarning: Passing (type, 1) or '1type' as a synonym of type is deprecated; in a future version of numpy, it will be understood as (type, (1,)) / '(1,)type'.\n",
      "  _np_quint16 = np.dtype([(\"quint16\", np.uint16, 1)])\n",
      "F:\\python\\Anaconda3\\envs\\tensorFLow-gpu\\lib\\site-packages\\tensorflow\\python\\framework\\dtypes.py:527: FutureWarning: Passing (type, 1) or '1type' as a synonym of type is deprecated; in a future version of numpy, it will be understood as (type, (1,)) / '(1,)type'.\n",
      "  _np_qint32 = np.dtype([(\"qint32\", np.int32, 1)])\n",
      "F:\\python\\Anaconda3\\envs\\tensorFLow-gpu\\lib\\site-packages\\tensorflow\\python\\framework\\dtypes.py:532: FutureWarning: Passing (type, 1) or '1type' as a synonym of type is deprecated; in a future version of numpy, it will be understood as (type, (1,)) / '(1,)type'.\n",
      "  np_resource = np.dtype([(\"resource\", np.ubyte, 1)])\n"
     ]
    },
    {
     "name": "stdout",
     "output_type": "stream",
     "text": [
      "WARNING:tensorflow:From <ipython-input-1-36cafb879233>:4: read_data_sets (from tensorflow.contrib.learn.python.learn.datasets.mnist) is deprecated and will be removed in a future version.\n",
      "Instructions for updating:\n",
      "Please use alternatives such as official/mnist/dataset.py from tensorflow/models.\n",
      "WARNING:tensorflow:From F:\\python\\Anaconda3\\envs\\tensorFLow-gpu\\lib\\site-packages\\tensorflow\\contrib\\learn\\python\\learn\\datasets\\mnist.py:260: maybe_download (from tensorflow.contrib.learn.python.learn.datasets.base) is deprecated and will be removed in a future version.\n",
      "Instructions for updating:\n",
      "Please write your own downloading logic.\n",
      "WARNING:tensorflow:From F:\\python\\Anaconda3\\envs\\tensorFLow-gpu\\lib\\site-packages\\tensorflow\\contrib\\learn\\python\\learn\\datasets\\mnist.py:262: extract_images (from tensorflow.contrib.learn.python.learn.datasets.mnist) is deprecated and will be removed in a future version.\n",
      "Instructions for updating:\n",
      "Please use tf.data to implement this functionality.\n",
      "Extracting data\\train-images-idx3-ubyte.gz\n",
      "WARNING:tensorflow:From F:\\python\\Anaconda3\\envs\\tensorFLow-gpu\\lib\\site-packages\\tensorflow\\contrib\\learn\\python\\learn\\datasets\\mnist.py:267: extract_labels (from tensorflow.contrib.learn.python.learn.datasets.mnist) is deprecated and will be removed in a future version.\n",
      "Instructions for updating:\n",
      "Please use tf.data to implement this functionality.\n",
      "Extracting data\\train-labels-idx1-ubyte.gz\n",
      "WARNING:tensorflow:From F:\\python\\Anaconda3\\envs\\tensorFLow-gpu\\lib\\site-packages\\tensorflow\\contrib\\learn\\python\\learn\\datasets\\mnist.py:110: dense_to_one_hot (from tensorflow.contrib.learn.python.learn.datasets.mnist) is deprecated and will be removed in a future version.\n",
      "Instructions for updating:\n",
      "Please use tf.one_hot on tensors.\n",
      "Extracting data\\t10k-images-idx3-ubyte.gz\n",
      "Extracting data\\t10k-labels-idx1-ubyte.gz\n",
      "WARNING:tensorflow:From F:\\python\\Anaconda3\\envs\\tensorFLow-gpu\\lib\\site-packages\\tensorflow\\contrib\\learn\\python\\learn\\datasets\\mnist.py:290: DataSet.__init__ (from tensorflow.contrib.learn.python.learn.datasets.mnist) is deprecated and will be removed in a future version.\n",
      "Instructions for updating:\n",
      "Please use alternatives such as official/mnist/dataset.py from tensorflow/models.\n"
     ]
    }
   ],
   "source": [
    "import tensorflow as tf\n",
    "import tensorflow.examples.tutorials.mnist.input_data as input_data\n",
    "\n",
    "mnist = input_data.read_data_sets('data', one_hot=True)"
   ]
  },
  {
   "cell_type": "code",
   "execution_count": 2,
   "metadata": {},
   "outputs": [
    {
     "name": "stdout",
     "output_type": "stream",
     "text": [
      "train:  (55000, 784) , labels:  (55000, 10)\n",
      "validation:  (5000, 784) , labels:  (5000, 10)\n",
      "test:  (10000, 784) , labels:  (10000, 10)\n"
     ]
    }
   ],
   "source": [
    "print('train: ', mnist.train.images.shape, ', labels: ', mnist.train.labels.shape)\n",
    "print('validation: ', mnist.validation.images.shape, ', labels: ', mnist.validation.labels.shape)\n",
    "print('test: ', mnist.test.images.shape, ', labels: ', mnist.test.labels.shape)"
   ]
  },
  {
   "cell_type": "markdown",
   "metadata": {},
   "source": [
    "## 3. 建立模型\n",
    "\n",
    "### TensorFlow和Keras建立模型的方式有所不同，说明如下：\n",
    "- #### keras建立模型：只需要使用model = Sequential()建立线性堆叠模型，在使用model.add方法将各个神经网络层加入模型即可\n",
    "- #### TensorFlow建立模型： 必须自定义layer函数（处理张量运算），然后使用layer函数构建多层感知器"
   ]
  },
  {
   "cell_type": "code",
   "execution_count": 2,
   "metadata": {},
   "outputs": [],
   "source": [
    "\"\"\"\n",
    "1. 建立 layer函数\n",
    "\"\"\"\n",
    "def layer(output_dim, input_dim, inputs, activation=None):\n",
    "    W = tf.Variable(tf.random.normal([input_dim, output_dim]))\n",
    "    b = tf.Variable(tf.random.normal([1, output_dim]))\n",
    "    XWb = tf.matmul(inputs, W) + b\n",
    "    if activation is None:\n",
    "        outputs = XWb\n",
    "    else:\n",
    "        outputs = activation(XWb)\n",
    "    return outputs"
   ]
  },
  {
   "cell_type": "code",
   "execution_count": 4,
   "metadata": {},
   "outputs": [],
   "source": [
    "\"\"\"\n",
    "2 建立输入层\n",
    "使用tf.placeholder方法建立输入层（x）, placeholder是TensorFlow“计算图”的输入，在后续训练时传入数据\n",
    "\"\"\"\n",
    "x = tf.placeholder('float', [None, 784])"
   ]
  },
  {
   "cell_type": "code",
   "execution_count": 5,
   "metadata": {},
   "outputs": [],
   "source": [
    "\"\"\"\n",
    "3.建立隐藏层\n",
    "\"\"\"\n",
    "h1 = layer(output_dim=256, input_dim=784, inputs=x, activation=tf.nn.relu)"
   ]
  },
  {
   "cell_type": "code",
   "execution_count": 6,
   "metadata": {},
   "outputs": [],
   "source": [
    "\"\"\"\n",
    "4.建立输出层\n",
    " 隐藏层的输出作为输出层的输入\n",
    "\"\"\"\n",
    "y_predict = layer(output_dim=10, input_dim=256, inputs=h1, activation=None)"
   ]
  },
  {
   "cell_type": "markdown",
   "metadata": {},
   "source": [
    "## 4.定义训练方式\n",
    "\n",
    "### 以下说明Keras和TensorFlow训练方式的不同\n",
    "- #### Keras定义训练方式：只需要使用model.compile设置损失函数，优化器，并使用metrics设置评估模型的方式\n",
    "- #### TensorFlow定义训练方式：必须自行定义损失函数的公式、优化器和设置参数，并定义评估模型准确率的公式"
   ]
  },
  {
   "cell_type": "code",
   "execution_count": 7,
   "metadata": {},
   "outputs": [],
   "source": [
    "\"\"\"\n",
    "1. 建立训练数据的真实值的label\n",
    "\"\"\"\n",
    "y_label = tf.placeholder('float', [None, 10])"
   ]
  },
  {
   "cell_type": "code",
   "execution_count": 8,
   "metadata": {},
   "outputs": [
    {
     "name": "stdout",
     "output_type": "stream",
     "text": [
      "WARNING:tensorflow:From <ipython-input-8-cee9c5daa2a4>:5: softmax_cross_entropy_with_logits (from tensorflow.python.ops.nn_ops) is deprecated and will be removed in a future version.\n",
      "Instructions for updating:\n",
      "\n",
      "Future major versions of TensorFlow will allow gradients to flow\n",
      "into the labels input on backprop by default.\n",
      "\n",
      "See `tf.nn.softmax_cross_entropy_with_logits_v2`.\n",
      "\n"
     ]
    }
   ],
   "source": [
    "\"\"\"\n",
    "2.定义损失函数\n",
    "在深度学习模型的训练中，使用cross_entropy交叉熵训练的效果比较好\n",
    "\"\"\"\n",
    "loss_function = tf.reduce_mean(tf.nn.softmax_cross_entropy_with_logits(logits=y_predict, labels=y_label))"
   ]
  },
  {
   "cell_type": "markdown",
   "metadata": {},
   "source": [
    "![](./lesson18/3.jpg)"
   ]
  },
  {
   "cell_type": "code",
   "execution_count": 9,
   "metadata": {},
   "outputs": [],
   "source": [
    "\"\"\"\n",
    "3. 定义优化器\n",
    "\"\"\"\n",
    "optimizer = tf.train.AdamOptimizer(learning_rate=0.001).minimize(loss_function)"
   ]
  },
  {
   "cell_type": "markdown",
   "metadata": {},
   "source": [
    "![](./lesson18/4.jpg)"
   ]
  },
  {
   "cell_type": "markdown",
   "metadata": {},
   "source": [
    "## 5. 定义评估模型准确率的方式\n",
    "\n",
    "### 训练完成后，我们希望能够评估模型的准确率。在TensorFlow必须定义评估模型准确率的方式"
   ]
  },
  {
   "cell_type": "code",
   "execution_count": 10,
   "metadata": {},
   "outputs": [],
   "source": [
    "\"\"\"\n",
    "步骤1：计算每一项数据是否预测正确\n",
    "\"\"\"\n",
    "correct_prediction = tf.equal(tf.argmax(y_label, 1), tf.argmax(y_predict, 1))"
   ]
  },
  {
   "cell_type": "markdown",
   "metadata": {},
   "source": [
    "![](./lesson18/5.jpg)"
   ]
  },
  {
   "cell_type": "code",
   "execution_count": 11,
   "metadata": {},
   "outputs": [],
   "source": [
    "\"\"\"\n",
    "步骤2：计算预测正确结果的平均值\n",
    " 将之前的correct_prediction进行平均运算。\n",
    "\"\"\"\n",
    "accuracy = tf.reduce_mean(tf.cast(correct_prediction, 'float'))"
   ]
  },
  {
   "cell_type": "markdown",
   "metadata": {},
   "source": [
    "## 6.进行训练\n",
    "\n",
    "### TensorFlow和Keras进行训练的比较如下\n",
    "- #### Keras进行训练：只需要使用model.fit就可以开始训练。\n",
    "- #### TensorFlow进行训练：必须编写程序来控制训练的每一个过程。\n",
    "\n",
    "#### 使用TensorFlow进行训练，训练数据供55000项，每一批次100项，要将所有数据训练完成需要550个批次，当所有的数据全部训练完成，称为完成一个训练周期。我们将执行15个训练周期，尽量是误差降低，并且提高准确率。\n",
    "\n",
    "![](./lesson18/6.jpg)"
   ]
  },
  {
   "cell_type": "code",
   "execution_count": 12,
   "metadata": {},
   "outputs": [],
   "source": [
    "\"\"\"\n",
    "1. 定义训练参数\n",
    "\"\"\"\n",
    "trainEpoches = 15\n",
    "batchSize = 100\n",
    "loss_List = []; epoch_list = []; accuracy_list = []\n",
    "from time import time\n",
    "\n",
    "startTime = time()\n",
    "session = tf.Session()\n",
    "session.run(tf.global_variables_initializer())"
   ]
  },
  {
   "cell_type": "code",
   "execution_count": 13,
   "metadata": {},
   "outputs": [
    {
     "name": "stdout",
     "output_type": "stream",
     "text": [
      "Train Epoch:  01 , Loss= 6.086976528 , Accuracy=0.8452\n",
      "Train Epoch:  02 , Loss= 3.907341480 , Accuracy=0.891\n",
      "Train Epoch:  03 , Loss= 3.012500048 , Accuracy=0.9068\n",
      "Train Epoch:  04 , Loss= 2.561098814 , Accuracy=0.9186\n",
      "Train Epoch:  05 , Loss= 2.220691681 , Accuracy=0.9214\n",
      "Train Epoch:  06 , Loss= 1.918957472 , Accuracy=0.9306\n",
      "Train Epoch:  07 , Loss= 1.734117627 , Accuracy=0.9348\n",
      "Train Epoch:  08 , Loss= 1.606866837 , Accuracy=0.9368\n",
      "Train Epoch:  09 , Loss= 1.538544893 , Accuracy=0.938\n",
      "Train Epoch:  10 , Loss= 1.496632576 , Accuracy=0.9376\n",
      "Train Epoch:  11 , Loss= 1.428768277 , Accuracy=0.9408\n",
      "Train Epoch:  12 , Loss= 1.343892336 , Accuracy=0.9412\n",
      "Train Epoch:  13 , Loss= 1.341390371 , Accuracy=0.9416\n",
      "Train Epoch:  14 , Loss= 1.297633171 , Accuracy=0.9478\n",
      "Train Epoch:  15 , Loss= 1.361977935 , Accuracy=0.944\n",
      "Train finished takes:  34.94735670089722\n"
     ]
    }
   ],
   "source": [
    "\"\"\"\n",
    "2. 进行训练\n",
    "\"\"\"\n",
    "total_Batchs = int(mnist.train.num_examples / batchSize)\n",
    "for epoch in range(trainEpoches):\n",
    "    for i in range(total_Batchs):\n",
    "        batch_x, batch_y = mnist.train.next_batch(batch_size=batchSize)\n",
    "        session.run(optimizer, feed_dict={x: batch_x, y_label: batch_y})\n",
    "    loss, acc = session.run([loss_function, accuracy], feed_dict={x: mnist.validation.images, y_label: mnist.validation.labels})\n",
    "    \n",
    "    epoch_list.append(epoch)\n",
    "    loss_List.append(loss)\n",
    "    accuracy_list.append(acc)\n",
    "    print('Train Epoch: ', '%02d' %(epoch+1), ', Loss=', '{:.9f}'.format(loss), ', Accuracy='+str(acc))\n",
    "    \n",
    "duration = time() - startTime\n",
    "print('Train finished takes: ', duration)"
   ]
  },
  {
   "cell_type": "code",
   "execution_count": 14,
   "metadata": {},
   "outputs": [
    {
     "data": {
      "text/plain": [
       "<matplotlib.legend.Legend at 0x2079502fba8>"
      ]
     },
     "execution_count": 14,
     "metadata": {},
     "output_type": "execute_result"
    },
    {
     "data": {
      "image/png": "[encoded data removed]",
      "text/plain": [
       "<Figure size 288x144 with 1 Axes>"
      ]
     },
     "metadata": {
      "needs_background": "light"
     },
     "output_type": "display_data"
    }
   ],
   "source": [
    "\"\"\"\n",
    "3. 画出误差执行结果\n",
    "\"\"\"\n",
    "%matplotlib inline\n",
    "import matplotlib.pyplot as plt\n",
    "fig = plt.gcf()\n",
    "fig.set_size_inches(4,2)\n",
    "plt.plot(epoch_list, loss_List, label='loss')\n",
    "plt.xlabel('epoch')\n",
    "plt.ylabel('loss')\n",
    "plt.legend(['loss'], loc='upper left')"
   ]
  },
  {
   "cell_type": "code",
   "execution_count": 15,
   "metadata": {},
   "outputs": [
    {
     "name": "stdout",
     "output_type": "stream",
     "text": [
      "[0, 1, 2, 3, 4, 5, 6, 7, 8, 9, 10, 11, 12, 13, 14]\n",
      "[6.0869765, 3.9073415, 3.0125, 2.5610988, 2.2206917, 1.9189575, 1.7341176, 1.6068668, 1.5385449, 1.4966326, 1.4287683, 1.3438923, 1.3413904, 1.2976332, 1.3619779]\n",
      "[0.8452, 0.891, 0.9068, 0.9186, 0.9214, 0.9306, 0.9348, 0.9368, 0.938, 0.9376, 0.9408, 0.9412, 0.9416, 0.9478, 0.944]\n"
     ]
    },
    {
     "data": {
      "image/png": "[encoded data removed]",
      "text/plain": [
       "<Figure size 288x144 with 1 Axes>"
      ]
     },
     "metadata": {
      "needs_background": "light"
     },
     "output_type": "display_data"
    }
   ],
   "source": [
    "\"\"\"\n",
    "4. 画出准确率的执行结果\n",
    "\"\"\"\n",
    "print(epoch_list)\n",
    "print(loss_List)\n",
    "print(accuracy_list)\n",
    "plt.plot(epoch_list, accuracy_list, label='accuracy')\n",
    "fig = plt.gcf()\n",
    "fig.set_size_inches(4,2)\n",
    "plt.ylim(0.8, 1)\n",
    "plt.ylabel('accuracy')\n",
    "plt.xlabel('epoch')\n",
    "plt.legend()\n",
    "plt.show()"
   ]
  },
  {
   "cell_type": "markdown",
   "metadata": {},
   "source": [
    "## 7. 评估模型的准确率\n",
    "\n",
    "### 之前已经完成了训练，现在要使用test测试数据集，评估模型的准确率"
   ]
  },
  {
   "cell_type": "code",
   "execution_count": 16,
   "metadata": {},
   "outputs": [
    {
     "name": "stdout",
     "output_type": "stream",
     "text": [
      "Accuracy:  0.942\n"
     ]
    }
   ],
   "source": [
    "print('Accuracy: ', session.run(accuracy, feed_dict={x:mnist.test.images, y_label: mnist.test.labels}))"
   ]
  },
  {
   "cell_type": "markdown",
   "metadata": {},
   "source": [
    "## 8.进行预测\n",
    "\n",
    "### 前面已经建立了模型，并且完成了模型的训练，准确率还达到可以接受的0.94，接下来进行预测"
   ]
  },
  {
   "cell_type": "code",
   "execution_count": 17,
   "metadata": {},
   "outputs": [],
   "source": [
    "\"\"\"\n",
    "执行预测\n",
    "\"\"\"\n",
    "prediction_result = session.run(tf.argmax(y_predict, 1), feed_dict={x: mnist.test.images})"
   ]
  },
  {
   "cell_type": "code",
   "execution_count": 18,
   "metadata": {},
   "outputs": [
    {
     "data": {
      "text/plain": [
       "array([7, 2, 1, 0, 4, 1, 4, 9, 6, 9], dtype=int64)"
      ]
     },
     "execution_count": 18,
     "metadata": {},
     "output_type": "execute_result"
    }
   ],
   "source": [
    "prediction_result[:10]"
   ]
  },
  {
   "cell_type": "code",
   "execution_count": 3,
   "metadata": {},
   "outputs": [],
   "source": [
    "import numpy as np\n",
    "def plot_images_labels_prediction(images, labels, prediction, idx, num=10):\n",
    "    fig = plt.gcf()\n",
    "    fig.set_size_inches(12, 14)\n",
    "    if num>25:\n",
    "        num = 25\n",
    "    for i in range(0, num):\n",
    "        ax = plt.subplot(5, 5, i+1)\n",
    "        ax.imshow(np.reshape(images[idx], (28, 28)),cmap='binary')\n",
    "        title = 'label='+ str(np.argmax(labels[idx]))\n",
    "        if len(prediction) >0:\n",
    "            title += ', predict='+ str(prediction[idx])\n",
    "        ax.set_title(title, fontsize=10)\n",
    "        ax.set_xticks([]); ax.set_yticks([])\n",
    "        idx+=1\n",
    "    plt.show()"
   ]
  },
  {
   "cell_type": "code",
   "execution_count": 20,
   "metadata": {},
   "outputs": [
    {
     "data": {
      "image/png": "[encoded data removed]",
      "text/plain": [
       "<Figure size 864x1008 with 10 Axes>"
      ]
     },
     "metadata": {},
     "output_type": "display_data"
    }
   ],
   "source": [
    "plot_images_labels_prediction(mnist.test.images, mnist.test.labels, prediction_result, 0)"
   ]
  },
  {
   "cell_type": "markdown",
   "metadata": {},
   "source": [
    "## 9. 隐藏层加入更多神经元\n",
    "\n",
    "### 为了增加模型的准确率，将原本256个神经元的隐藏层改为1000"
   ]
  },
  {
   "cell_type": "code",
   "execution_count": 4,
   "metadata": {},
   "outputs": [
    {
     "name": "stdout",
     "output_type": "stream",
     "text": [
      "WARNING:tensorflow:From <ipython-input-4-eec4c58ece18>:8: softmax_cross_entropy_with_logits (from tensorflow.python.ops.nn_ops) is deprecated and will be removed in a future version.\n",
      "Instructions for updating:\n",
      "\n",
      "Future major versions of TensorFlow will allow gradients to flow\n",
      "into the labels input on backprop by default.\n",
      "\n",
      "See `tf.nn.softmax_cross_entropy_with_logits_v2`.\n",
      "\n"
     ]
    }
   ],
   "source": [
    "# 建立输入层1\n",
    "x = tf.placeholder('float', [None, 784])\n",
    "# 建立隐藏层1\n",
    "h1 = layer(output_dim=1000, input_dim=784, inputs=x, activation=tf.nn.relu)\n",
    "# 建立输出层\n",
    "y_predict = layer(output_dim=10, input_dim=1000, inputs=h1, activation=None)\n",
    "y_label = tf.placeholder('float', [None, 10])\n",
    "loss_function = tf.reduce_mean(tf.nn.softmax_cross_entropy_with_logits(logits=y_predict, labels=y_label))\n",
    "optimizer = tf.train.AdamOptimizer(learning_rate=0.001).minimize(loss_function)\n",
    "\"\"\"\n",
    "步骤1：计算每一项数据是否预测正确\n",
    "\"\"\"\n",
    "correct_prediction = tf.equal(tf.argmax(y_label, 1), tf.argmax(y_predict, 1))\n",
    "\"\"\"\n",
    "步骤2：计算预测正确结果的平均值\n",
    " 将之前的correct_prediction进行平均运算。\n",
    "\"\"\"\n",
    "accuracy = tf.reduce_mean(tf.cast(correct_prediction, 'float'))"
   ]
  },
  {
   "cell_type": "code",
   "execution_count": 5,
   "metadata": {},
   "outputs": [
    {
     "name": "stdout",
     "output_type": "stream",
     "text": [
      "Train Epoch:  01 , Loss= 8.615473747 , Accuracy=0.8864\n",
      "Train Epoch:  02 , Loss= 5.585938454 , Accuracy=0.9154\n",
      "Train Epoch:  03 , Loss= 4.443417072 , Accuracy=0.93\n",
      "Train Epoch:  04 , Loss= 3.951128960 , Accuracy=0.9354\n",
      "Train Epoch:  05 , Loss= 3.533078909 , Accuracy=0.9372\n",
      "Train Epoch:  06 , Loss= 3.132580280 , Accuracy=0.9446\n",
      "Train Epoch:  07 , Loss= 3.031724215 , Accuracy=0.9454\n",
      "Train Epoch:  08 , Loss= 2.890598774 , Accuracy=0.9482\n",
      "Train Epoch:  09 , Loss= 2.749699116 , Accuracy=0.951\n",
      "Train Epoch:  10 , Loss= 2.589007139 , Accuracy=0.9512\n",
      "Train Epoch:  11 , Loss= 2.407113314 , Accuracy=0.955\n",
      "Train Epoch:  12 , Loss= 2.868568659 , Accuracy=0.9508\n",
      "Train Epoch:  13 , Loss= 2.467785835 , Accuracy=0.9548\n",
      "Train Epoch:  14 , Loss= 2.608200788 , Accuracy=0.9546\n",
      "Train Epoch:  15 , Loss= 2.396567106 , Accuracy=0.957\n",
      "Train finished takes:  114.18840527534485\n"
     ]
    }
   ],
   "source": [
    "trainEpoches = 15\n",
    "batchSize = 100\n",
    "loss_List = []; epoch_list = []; accuracy_list = []\n",
    "from time import time\n",
    "\n",
    "startTime = time()\n",
    "session = tf.Session()\n",
    "session.run(tf.global_variables_initializer())\n",
    "\n",
    "total_Batchs = int(mnist.train.num_examples / batchSize)\n",
    "for epoch in range(trainEpoches):\n",
    "    for i in range(total_Batchs):\n",
    "        batch_x, batch_y = mnist.train.next_batch(batch_size=batchSize)\n",
    "        session.run(optimizer, feed_dict={x: batch_x, y_label: batch_y})\n",
    "    loss, acc = session.run([loss_function, accuracy], feed_dict={x: mnist.validation.images, y_label: mnist.validation.labels})\n",
    "    \n",
    "    epoch_list.append(epoch)\n",
    "    loss_List.append(loss)\n",
    "    accuracy_list.append(acc)\n",
    "    print('Train Epoch: ', '%02d' %(epoch+1), ', Loss=', '{:.9f}'.format(loss), ', Accuracy='+str(acc))\n",
    "    \n",
    "duration = time() - startTime\n",
    "print('Train finished takes: ', duration)"
   ]
  },
  {
   "cell_type": "code",
   "execution_count": 6,
   "metadata": {},
   "outputs": [
    {
     "name": "stdout",
     "output_type": "stream",
     "text": [
      "Accuracy:  0.957\n"
     ]
    }
   ],
   "source": [
    "print('Accuracy: ', session.run(accuracy, feed_dict={x:mnist.test.images, y_label: mnist.test.labels}))"
   ]
  },
  {
   "cell_type": "markdown",
   "metadata": {},
   "source": [
    "### 准确率0.95比原先的0.94稍高了一些"
   ]
  },
  {
   "cell_type": "markdown",
   "metadata": {},
   "source": [
    "___"
   ]
  },
  {
   "cell_type": "markdown",
   "metadata": {},
   "source": [
    "## 10. 建立包含两个隐藏层的多层感知器模型\n",
    "\n",
    "### 为了更进一步增加模型的准确率，本次建立两个隐藏层"
   ]
  },
  {
   "cell_type": "code",
   "execution_count": 7,
   "metadata": {},
   "outputs": [],
   "source": [
    "# 建立输入层1\n",
    "x = tf.placeholder('float', [None, 784])\n",
    "# 建立隐藏层1\n",
    "h1 = layer(output_dim=1000, input_dim=784, inputs=x, activation=tf.nn.relu)\n",
    "\"\"\"\n",
    "增加隐藏层2\n",
    "\"\"\"\n",
    "h2 = layer(output_dim=1000, input_dim=1000, inputs=h1, activation=tf.nn.relu)\n",
    "# 建立输出层\n",
    "y_predict = layer(output_dim=10, input_dim=1000, inputs=h2, activation=None)\n",
    "y_label = tf.placeholder('float', [None, 10])\n",
    "loss_function = tf.reduce_mean(tf.nn.softmax_cross_entropy_with_logits(logits=y_predict, labels=y_label))\n",
    "optimizer = tf.train.AdamOptimizer(learning_rate=0.001).minimize(loss_function)\n",
    "\"\"\"\n",
    "步骤1：计算每一项数据是否预测正确\n",
    "\"\"\"\n",
    "correct_prediction = tf.equal(tf.argmax(y_label, 1), tf.argmax(y_predict, 1))\n",
    "\"\"\"\n",
    "步骤2：计算预测正确结果的平均值\n",
    " 将之前的correct_prediction进行平均运算。\n",
    "\"\"\"\n",
    "accuracy = tf.reduce_mean(tf.cast(correct_prediction, 'float'))"
   ]
  },
  {
   "cell_type": "code",
   "execution_count": 8,
   "metadata": {},
   "outputs": [
    {
     "name": "stdout",
     "output_type": "stream",
     "text": [
      "Train Epoch:  01 , Loss= 123.090873718 , Accuracy=0.9242\n",
      "Train Epoch:  02 , Loss= 90.454750061 , Accuracy=0.9342\n",
      "Train Epoch:  03 , Loss= 68.744674683 , Accuracy=0.9446\n",
      "Train Epoch:  04 , Loss= 58.131126404 , Accuracy=0.9506\n",
      "Train Epoch:  05 , Loss= 63.629024506 , Accuracy=0.9504\n",
      "Train Epoch:  06 , Loss= 60.120700836 , Accuracy=0.9524\n",
      "Train Epoch:  07 , Loss= 50.906997681 , Accuracy=0.9588\n",
      "Train Epoch:  08 , Loss= 53.213520050 , Accuracy=0.961\n",
      "Train Epoch:  09 , Loss= 64.319503784 , Accuracy=0.95\n",
      "Train Epoch:  10 , Loss= 53.453025818 , Accuracy=0.9626\n",
      "Train Epoch:  11 , Loss= 47.631507874 , Accuracy=0.9622\n",
      "Train Epoch:  12 , Loss= 48.300369263 , Accuracy=0.9646\n",
      "Train Epoch:  13 , Loss= 49.463363647 , Accuracy=0.9636\n",
      "Train Epoch:  14 , Loss= 47.569343567 , Accuracy=0.967\n",
      "Train Epoch:  15 , Loss= 48.646762848 , Accuracy=0.9626\n",
      "Train finished takes:  262.6894881725311\n"
     ]
    }
   ],
   "source": [
    "trainEpoches = 15\n",
    "batchSize = 100\n",
    "loss_List = []; epoch_list = []; accuracy_list = []\n",
    "from time import time\n",
    "\n",
    "startTime = time()\n",
    "session = tf.Session()\n",
    "session.run(tf.global_variables_initializer())\n",
    "\n",
    "total_Batchs = int(mnist.train.num_examples / batchSize)\n",
    "for epoch in range(trainEpoches):\n",
    "    for i in range(total_Batchs):\n",
    "        batch_x, batch_y = mnist.train.next_batch(batch_size=batchSize)\n",
    "        session.run(optimizer, feed_dict={x: batch_x, y_label: batch_y})\n",
    "    loss, acc = session.run([loss_function, accuracy], feed_dict={x: mnist.validation.images, y_label: mnist.validation.labels})\n",
    "    \n",
    "    epoch_list.append(epoch)\n",
    "    loss_List.append(loss)\n",
    "    accuracy_list.append(acc)\n",
    "    print('Train Epoch: ', '%02d' %(epoch+1), ', Loss=', '{:.9f}'.format(loss), ', Accuracy='+str(acc))\n",
    "    \n",
    "duration = time() - startTime\n",
    "print('Train finished takes: ', duration)"
   ]
  },
  {
   "cell_type": "code",
   "execution_count": 9,
   "metadata": {},
   "outputs": [
    {
     "name": "stdout",
     "output_type": "stream",
     "text": [
      "Accuracy:  0.9667\n"
     ]
    }
   ],
   "source": [
    "print('Accuracy: ', session.run(accuracy, feed_dict={x:mnist.test.images, y_label: mnist.test.labels}))"
   ]
  },
  {
   "cell_type": "markdown",
   "metadata": {},
   "source": [
    "### 执行结果是0.96，比上次的模型又稍高了一些\n",
    "\n",
    "### 还可以继续加深模型以提高准确率，但是多层感知器有极限，如果还要进一步提高准确率，就必须使用卷积神经网络"
   ]
  },
  {
   "cell_type": "code",
   "execution_count": null,
   "metadata": {},
   "outputs": [],
   "source": []
  },
  {
   "cell_type": "code",
   "execution_count": null,
   "metadata": {},
   "outputs": [],
   "source": []
  },
  {
   "cell_type": "code",
   "execution_count": null,
   "metadata": {},
   "outputs": [],
   "source": []
  },
  {
   "cell_type": "code",
   "execution_count": null,
   "metadata": {},
   "outputs": [],
   "source": []
  },
  {
   "cell_type": "code",
   "execution_count": null,
   "metadata": {},
   "outputs": [],
   "source": []
  },
  {
   "cell_type": "code",
   "execution_count": null,
   "metadata": {},
   "outputs": [],
   "source": []
  },
  {
   "cell_type": "code",
   "execution_count": null,
   "metadata": {},
   "outputs": [],
   "source": []
  },
  {
   "cell_type": "code",
   "execution_count": null,
   "metadata": {},
   "outputs": [],
   "source": []
  }
 ],
 "metadata": {
  "kernelspec": {
   "display_name": "Python tf-gpu",
   "language": "python",
   "name": "tensorflow-gpu"
  },
  "language_info": {
   "codemirror_mode": {
    "name": "ipython",
    "version": 3
   },
   "file_extension": ".py",
   "mimetype": "text/x-python",
   "name": "python",
   "nbconvert_exporter": "python",
   "pygments_lexer": "ipython3",
   "version": "3.6.12"
  }
 },
 "nbformat": 4,
 "nbformat_minor": 2
}
