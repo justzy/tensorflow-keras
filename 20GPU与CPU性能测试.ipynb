{
 "cells": [
  {
   "cell_type": "code",
   "execution_count": 1,
   "metadata": {},
   "outputs": [
    {
     "name": "stderr",
     "output_type": "stream",
     "text": [
      "F:\\python\\Anaconda3\\envs\\tensorFLow-gpu\\lib\\site-packages\\tensorflow\\python\\framework\\dtypes.py:523: FutureWarning: Passing (type, 1) or '1type' as a synonym of type is deprecated; in a future version of numpy, it will be understood as (type, (1,)) / '(1,)type'.\n",
      "  _np_qint8 = np.dtype([(\"qint8\", np.int8, 1)])\n",
      "F:\\python\\Anaconda3\\envs\\tensorFLow-gpu\\lib\\site-packages\\tensorflow\\python\\framework\\dtypes.py:524: FutureWarning: Passing (type, 1) or '1type' as a synonym of type is deprecated; in a future version of numpy, it will be understood as (type, (1,)) / '(1,)type'.\n",
      "  _np_quint8 = np.dtype([(\"quint8\", np.uint8, 1)])\n",
      "F:\\python\\Anaconda3\\envs\\tensorFLow-gpu\\lib\\site-packages\\tensorflow\\python\\framework\\dtypes.py:525: FutureWarning: Passing (type, 1) or '1type' as a synonym of type is deprecated; in a future version of numpy, it will be understood as (type, (1,)) / '(1,)type'.\n",
      "  _np_qint16 = np.dtype([(\"qint16\", np.int16, 1)])\n",
      "F:\\python\\Anaconda3\\envs\\tensorFLow-gpu\\lib\\site-packages\\tensorflow\\python\\framework\\dtypes.py:526: FutureWarning: Passing (type, 1) or '1type' as a synonym of type is deprecated; in a future version of numpy, it will be understood as (type, (1,)) / '(1,)type'.\n",
      "  _np_quint16 = np.dtype([(\"quint16\", np.uint16, 1)])\n",
      "F:\\python\\Anaconda3\\envs\\tensorFLow-gpu\\lib\\site-packages\\tensorflow\\python\\framework\\dtypes.py:527: FutureWarning: Passing (type, 1) or '1type' as a synonym of type is deprecated; in a future version of numpy, it will be understood as (type, (1,)) / '(1,)type'.\n",
      "  _np_qint32 = np.dtype([(\"qint32\", np.int32, 1)])\n",
      "F:\\python\\Anaconda3\\envs\\tensorFLow-gpu\\lib\\site-packages\\tensorflow\\python\\framework\\dtypes.py:532: FutureWarning: Passing (type, 1) or '1type' as a synonym of type is deprecated; in a future version of numpy, it will be understood as (type, (1,)) / '(1,)type'.\n",
      "  np_resource = np.dtype([(\"resource\", np.ubyte, 1)])\n"
     ]
    }
   ],
   "source": [
    "# 导入TensorFlow模块\n",
    "import tensorflow as tf\n",
    "import time"
   ]
  },
  {
   "cell_type": "code",
   "execution_count": 3,
   "metadata": {},
   "outputs": [
    {
     "name": "stdout",
     "output_type": "stream",
     "text": [
      "result =  13348.319\n"
     ]
    }
   ],
   "source": [
    "# 建立TensorFlow计算图\n",
    "size= 500\n",
    "W = tf.random_normal([size, size], name='W')\n",
    "X = tf.random_normal([size, size], name='X')\n",
    "mul = tf.matmul(W, X, name='mul')\n",
    "sum_result = tf.reduce_sum(mul, name='sum')\n",
    "\n",
    "with tf.Session(config=tfconfig) as sess:\n",
    "    result = sess.run(sum_result)\n",
    "    \n",
    "print('result = ', result)"
   ]
  },
  {
   "cell_type": "code",
   "execution_count": 5,
   "metadata": {},
   "outputs": [
    {
     "name": "stdout",
     "output_type": "stream",
     "text": [
      "result =  -7232.993\n"
     ]
    }
   ],
   "source": [
    "# 显示详细的GPU信息\n",
    "\"\"\"使用tf.ConfigProto建立session的配置设置tfconfig，传入参数log_device_placement=True，代表要显示设备相关的信息\n",
    "并在session打开的时候传入配置信息\n",
    "\"\"\"\n",
    "tfconfig = tf.ConfigProto(log_device_placement=True)\n",
    "with tf.Session(config=tfconfig) as sess:\n",
    "    result = sess.run(sum_result)\n",
    "    \n",
    "print('result = ', result)"
   ]
  },
  {
   "cell_type": "markdown",
   "metadata": {},
   "source": [
    "### 还可以使用 with tf.device来指定使用CPU或者GPU"
   ]
  },
  {
   "cell_type": "code",
   "execution_count": 10,
   "metadata": {},
   "outputs": [
    {
     "name": "stdout",
     "output_type": "stream",
     "text": [
      "result =  -4508.9854\n"
     ]
    }
   ],
   "source": [
    "\"\"\"1. 指定用CPU计算的程序代码\"\"\"\n",
    "size= 500\n",
    "with tf.device('/gpu:0'):\n",
    "    W = tf.random_normal([size, size], name='W')\n",
    "    X = tf.random_normal([size, size], name='X')\n",
    "    mul = tf.matmul(W, X, name='mul')\n",
    "    sum_result = tf.reduce_sum(mul, name='sum')\n",
    "\n",
    "with tf.Session(config=tfconfig) as sess:\n",
    "    result = sess.run(sum_result)\n",
    "    \n",
    "print('result = ', result)"
   ]
  },
  {
   "cell_type": "markdown",
   "metadata": {},
   "source": [
    "## 测试GPU和CPU的性能"
   ]
  },
  {
   "cell_type": "code",
   "execution_count": 5,
   "metadata": {},
   "outputs": [],
   "source": [
    "def test_performance(device_name, size):\n",
    "    with tf.device(device_name):\n",
    "        W = tf.random_normal([size, size], name='W')\n",
    "        X = tf.random_normal([size, size], name='X')\n",
    "        mul = tf.matmul(W, X, name='mul')\n",
    "        sum_result = tf.reduce_sum(mul, name='sum')\n",
    "    startTime = time.time()\n",
    "    tfConfig = tf.ConfigProto(log_device_placement=True)\n",
    "    with tf.Session() as sess:\n",
    "        result = sess.run(sum_result)\n",
    "    takeTime = time.time()-startTime\n",
    "    print(device_name, ', size = ', size, ', Time = ', takeTime)\n",
    "    return takeTime"
   ]
  },
  {
   "cell_type": "code",
   "execution_count": 12,
   "metadata": {},
   "outputs": [
    {
     "name": "stdout",
     "output_type": "stream",
     "text": [
      "/gpu:0 , size =  100 , Time =  0.3510580062866211\n",
      "/cpu:0 , size =  100 , Time =  0.04687070846557617\n"
     ]
    }
   ],
   "source": [
    "g = test_performance('/gpu:0', 100)\n",
    "c = test_performance('/cpu:0', 100)"
   ]
  },
  {
   "cell_type": "code",
   "execution_count": 15,
   "metadata": {},
   "outputs": [
    {
     "name": "stdout",
     "output_type": "stream",
     "text": [
      "0\n",
      "500\n",
      "1000\n",
      "1500\n",
      "2000\n",
      "2500\n",
      "3000\n",
      "3500\n",
      "4000\n",
      "4500\n",
      "5000\n"
     ]
    }
   ],
   "source": [
    "for i in range(0, 5001, 500):\n",
    "    print(i)"
   ]
  },
  {
   "cell_type": "code",
   "execution_count": 16,
   "metadata": {},
   "outputs": [
    {
     "name": "stdout",
     "output_type": "stream",
     "text": [
      "/gpu:0 , size =  0 , Time =  0.36986231803894043\n",
      "/cpu:0 , size =  0 , Time =  0.031249284744262695\n",
      "/gpu:0 , size =  500 , Time =  0.04686927795410156\n",
      "/cpu:0 , size =  500 , Time =  0.04687070846557617\n",
      "/gpu:0 , size =  1000 , Time =  0.050843238830566406\n",
      "/cpu:0 , size =  1000 , Time =  0.08985710144042969\n",
      "/gpu:0 , size =  1500 , Time =  0.04687023162841797\n",
      "/cpu:0 , size =  1500 , Time =  0.19997549057006836\n",
      "/gpu:0 , size =  2000 , Time =  0.07630276679992676\n",
      "/cpu:0 , size =  2000 , Time =  0.37427663803100586\n",
      "/gpu:0 , size =  2500 , Time =  0.09374141693115234\n",
      "/cpu:0 , size =  2500 , Time =  0.6507406234741211\n",
      "/gpu:0 , size =  3000 , Time =  0.14061355590820312\n",
      "/cpu:0 , size =  3000 , Time =  1.0097084045410156\n",
      "/gpu:0 , size =  3500 , Time =  0.18689322471618652\n",
      "/cpu:0 , size =  3500 , Time =  1.747990608215332\n",
      "/gpu:0 , size =  4000 , Time =  0.2572340965270996\n",
      "/cpu:0 , size =  4000 , Time =  2.186642646789551\n",
      "/gpu:0 , size =  4500 , Time =  0.32494115829467773\n",
      "/cpu:0 , size =  4500 , Time =  2.973710536956787\n",
      "/gpu:0 , size =  5000 , Time =  0.4667062759399414\n",
      "/cpu:0 , size =  5000 , Time =  3.89569091796875\n"
     ]
    }
   ],
   "source": [
    "# 重复执行程序代码\n",
    "gpu_set = []\n",
    "cpu_set = []\n",
    "i_set = []\n",
    "for i in range(0, 5001, 500):\n",
    "    g = test_performance('/gpu:0', i)\n",
    "    c = test_performance('/cpu:0', i)\n",
    "    gpu_set.append(g)\n",
    "    cpu_set.append(c)\n",
    "    i_set.append(i)"
   ]
  },
  {
   "cell_type": "markdown",
   "metadata": {},
   "source": [
    "### 产生的矩阵越大，GPU的计算优势越明显，用时越短"
   ]
  },
  {
   "cell_type": "code",
   "execution_count": 17,
   "metadata": {},
   "outputs": [
    {
     "data": {
      "image/png": "[encoded data removed]",
      "text/plain": [
       "<Figure size 432x288 with 1 Axes>"
      ]
     },
     "metadata": {
      "needs_background": "light"
     },
     "output_type": "display_data"
    }
   ],
   "source": [
    "%matplotlib inline\n",
    "import matplotlib.pyplot as plt\n",
    "fig = plt.gcf()\n",
    "fig.set_size_inches(6, 4)\n",
    "plt.plot(i_set, gpu_set, label='gpu')\n",
    "plt.plot(i_set, cpu_set, label='cpu')\n",
    "plt.legend()\n",
    "plt.show()"
   ]
  },
  {
   "cell_type": "markdown",
   "metadata": {},
   "source": [
    "### 从上方图片看出，矩阵越大，CPU和GPU的差距越大。矩阵越大，GPU越能发挥性能"
   ]
  },
  {
   "cell_type": "code",
   "execution_count": null,
   "metadata": {},
   "outputs": [],
   "source": [
    "# 测试超出显卡内存限制\n",
    "g = test_performance('/gpu:0', 9000)\n",
    "# c = test_performance('/cpu:0', 6000)"
   ]
  },
  {
   "cell_type": "markdown",
   "metadata": {},
   "source": [
    "## 经过测试，当矩阵为9000， 会发生显卡内存溢出错误"
   ]
  },
  {
   "cell_type": "markdown",
   "metadata": {},
   "source": [
    "![](./lesson20/1.jpg)"
   ]
  },
  {
   "cell_type": "code",
   "execution_count": null,
   "metadata": {},
   "outputs": [],
   "source": []
  },
  {
   "cell_type": "code",
   "execution_count": null,
   "metadata": {},
   "outputs": [],
   "source": []
  },
  {
   "cell_type": "code",
   "execution_count": null,
   "metadata": {},
   "outputs": [],
   "source": []
  },
  {
   "cell_type": "code",
   "execution_count": null,
   "metadata": {},
   "outputs": [],
   "source": []
  },
  {
   "cell_type": "code",
   "execution_count": null,
   "metadata": {},
   "outputs": [],
   "source": []
  },
  {
   "cell_type": "code",
   "execution_count": null,
   "metadata": {},
   "outputs": [],
   "source": []
  },
  {
   "cell_type": "code",
   "execution_count": null,
   "metadata": {},
   "outputs": [],
   "source": []
  },
  {
   "cell_type": "code",
   "execution_count": null,
   "metadata": {},
   "outputs": [],
   "source": []
  }
 ],
 "metadata": {
  "kernelspec": {
   "display_name": "Python tf-gpu",
   "language": "python",
   "name": "tensorflow-gpu"
  },
  "language_info": {
   "codemirror_mode": {
    "name": "ipython",
    "version": 3
   },
   "file_extension": ".py",
   "mimetype": "text/x-python",
   "name": "python",
   "nbconvert_exporter": "python",
   "pygments_lexer": "ipython3",
   "version": "3.6.12"
  }
 },
 "nbformat": 4,
 "nbformat_minor": 2
}
