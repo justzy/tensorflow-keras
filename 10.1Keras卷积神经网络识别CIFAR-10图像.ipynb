{
 "cells": [
  {
   "cell_type": "markdown",
   "metadata": {},
   "source": [
    "## 10.1 卷积神经网络简介\n",
    "\n",
    "![](./lesson_img/16.jpg)\n",
    "\n",
    "### 将建立如下图所示的卷积神经网络\n",
    "\n",
    "![](./lesson_img/17.jpg)\n",
    "\n",
    "### 卷积神经网络可以分为以下两大部分\n",
    "\n",
    "![](./lesson_img/18.jpg)"
   ]
  },
  {
   "cell_type": "markdown",
   "metadata": {},
   "source": [
    "## 10.2 数据预处理"
   ]
  },
  {
   "cell_type": "code",
   "execution_count": 1,
   "metadata": {},
   "outputs": [],
   "source": [
    "# 导入所需模块\n",
    "from keras.datasets import cifar10\n",
    "import numpy as np\n",
    "np.random.seed(10)"
   ]
  },
  {
   "cell_type": "code",
   "execution_count": 2,
   "metadata": {},
   "outputs": [],
   "source": [
    "# 读取CIFAR-10数据\n",
    "(x_train_img, y_train_label),(x_test_img, y_test_label) = cifar10.load_data()"
   ]
  },
  {
   "cell_type": "code",
   "execution_count": 6,
   "metadata": {},
   "outputs": [
    {
     "name": "stdout",
     "output_type": "stream",
     "text": [
      "x_train_img.shape:  (50000, 32, 32, 3)  y_train_label.shape:  (50000, 1)\n",
      "x_test_img.shape:  (10000, 32, 32, 3)  y_test_label.shape:  (10000, 1)\n"
     ]
    }
   ],
   "source": [
    "# 显示训练和验证数据的shape\n",
    "print('x_train_img.shape: ', x_train_img.shape, ' y_train_label.shape: ', y_train_label.shape)\n",
    "print('x_test_img.shape: ', x_test_img.shape, ' y_test_label.shape: ', y_test_label.shape)"
   ]
  },
  {
   "cell_type": "code",
   "execution_count": 7,
   "metadata": {},
   "outputs": [],
   "source": [
    "# 将features（照片的特征值）标准化\n",
    "# 标准化可以提高预测精度，并且可以更快收敛\n",
    "x_train_img_normalize = x_train_img.astype('float32') / 255.0\n",
    "x_test_img_normalize = x_test_img.astype('float32') / 255.0"
   ]
  },
  {
   "cell_type": "code",
   "execution_count": 8,
   "metadata": {},
   "outputs": [],
   "source": [
    "# label以一位有效编码进行转换\n",
    "from keras.utils import np_utils\n",
    "y_train_label_OneHot = np_utils.to_categorical(y_train_label)\n",
    "y_test_label_OneHot = np_utils.to_categorical(y_test_label)"
   ]
  },
  {
   "cell_type": "markdown",
   "metadata": {},
   "source": [
    "## 10.3 建立模型"
   ]
  },
  {
   "cell_type": "code",
   "execution_count": 11,
   "metadata": {},
   "outputs": [],
   "source": [
    "# 1.导入所需模块\n",
    "from keras.models import Sequential\n",
    "from keras.layers import Dropout, Flatten, Dense, Activation\n",
    "from keras.layers import Conv2D, MaxPooling2D, ZeroPadding2D"
   ]
  },
  {
   "cell_type": "markdown",
   "metadata": {},
   "source": [
    "### 将使用下面的方法建立卷积神经网络\n",
    "![](./lesson_img/19.jpg)"
   ]
  },
  {
   "cell_type": "code",
   "execution_count": 12,
   "metadata": {},
   "outputs": [],
   "source": [
    "# 2. 建立模型\n",
    "model = Sequential()"
   ]
  },
  {
   "cell_type": "code",
   "execution_count": 13,
   "metadata": {},
   "outputs": [],
   "source": [
    "# 3. 建立卷积层1和池化层1（一个完整的卷积运算包含 一个卷积层和一个池化层）\n",
    "# 建立卷积层1\n",
    "model.add(Conv2D(filters=32,\n",
    "                                kernel_size=(3, 3),\n",
    "                                input_shape=(32, 32, 3),\n",
    "                                activation='relu',\n",
    "                                padding='same'))"
   ]
  },
  {
   "cell_type": "markdown",
   "metadata": {},
   "source": [
    "![](./lesson_img/20.jpg)"
   ]
  },
  {
   "cell_type": "code",
   "execution_count": 14,
   "metadata": {},
   "outputs": [],
   "source": [
    "# 加入DropOut，避免过度拟合\n",
    "model.add(Dropout(rate=0.25))"
   ]
  },
  {
   "cell_type": "code",
   "execution_count": 15,
   "metadata": {},
   "outputs": [],
   "source": [
    "# 建立池化层1，执行缩减采样\n",
    "model.add(MaxPooling2D(pool_size=(2,2)))"
   ]
  },
  {
   "cell_type": "code",
   "execution_count": 16,
   "metadata": {},
   "outputs": [],
   "source": [
    "# 4.建立卷积层2和池化层2\n",
    "model.add(Conv2D(filters=64,\n",
    "                                kernel_size=(3, 3),\n",
    "                                activation='relu',\n",
    "                                padding='same'))"
   ]
  },
  {
   "cell_type": "code",
   "execution_count": 17,
   "metadata": {},
   "outputs": [],
   "source": [
    "# 加入DropOut，避免过度拟合\n",
    "model.add(Dropout(rate=0.25))"
   ]
  },
  {
   "cell_type": "code",
   "execution_count": 18,
   "metadata": {},
   "outputs": [],
   "source": [
    "# 建立池化层2，执行第二次缩减采样\n",
    "model.add(MaxPooling2D(pool_size=(2,2)))"
   ]
  },
  {
   "cell_type": "code",
   "execution_count": 19,
   "metadata": {},
   "outputs": [],
   "source": [
    "# 5. 建立神经网络层（平坦层，隐藏层， 输出层）\n",
    "# 建立平坦层\n",
    "model.add(Flatten())\n",
    "model.add(Dropout(0.25))"
   ]
  },
  {
   "cell_type": "code",
   "execution_count": 20,
   "metadata": {},
   "outputs": [],
   "source": [
    "# 建立隐藏层\n",
    "model.add(Dense(1024, activation='relu'))\n",
    "model.add(Dropout(0.25))"
   ]
  },
  {
   "cell_type": "code",
   "execution_count": 21,
   "metadata": {},
   "outputs": [],
   "source": [
    "# 建立输出层\n",
    "model.add(Dense(10, activation='softmax'))"
   ]
  },
  {
   "cell_type": "code",
   "execution_count": 22,
   "metadata": {},
   "outputs": [
    {
     "name": "stdout",
     "output_type": "stream",
     "text": [
      "_________________________________________________________________\n",
      "Layer (type)                 Output Shape              Param #   \n",
      "=================================================================\n",
      "conv2d_1 (Conv2D)            (None, 32, 32, 32)        896       \n",
      "_________________________________________________________________\n",
      "dropout_1 (Dropout)          (None, 32, 32, 32)        0         \n",
      "_________________________________________________________________\n",
      "max_pooling2d_1 (MaxPooling2 (None, 16, 16, 32)        0         \n",
      "_________________________________________________________________\n",
      "conv2d_2 (Conv2D)            (None, 16, 16, 64)        18496     \n",
      "_________________________________________________________________\n",
      "dropout_2 (Dropout)          (None, 16, 16, 64)        0         \n",
      "_________________________________________________________________\n",
      "max_pooling2d_2 (MaxPooling2 (None, 8, 8, 64)          0         \n",
      "_________________________________________________________________\n",
      "flatten_1 (Flatten)          (None, 4096)              0         \n",
      "_________________________________________________________________\n",
      "dropout_3 (Dropout)          (None, 4096)              0         \n",
      "_________________________________________________________________\n",
      "dense_1 (Dense)              (None, 1024)              4195328   \n",
      "_________________________________________________________________\n",
      "dropout_4 (Dropout)          (None, 1024)              0         \n",
      "_________________________________________________________________\n",
      "dense_2 (Dense)              (None, 10)                10250     \n",
      "=================================================================\n",
      "Total params: 4,224,970\n",
      "Trainable params: 4,224,970\n",
      "Non-trainable params: 0\n",
      "_________________________________________________________________\n",
      "None\n"
     ]
    }
   ],
   "source": [
    "# 6. 查看模型摘要\n",
    "print(model.summary())"
   ]
  },
  {
   "cell_type": "markdown",
   "metadata": {},
   "source": [
    "![](./lesson_img/21.jpg)"
   ]
  },
  {
   "cell_type": "markdown",
   "metadata": {},
   "source": [
    "## 10.4 进行训练"
   ]
  },
  {
   "cell_type": "code",
   "execution_count": 23,
   "metadata": {},
   "outputs": [],
   "source": [
    "# 定义训练方式\n",
    "model.compile(loss='categorical_crossentropy', optimizer='adam', metrics=['accuracy'])"
   ]
  },
  {
   "cell_type": "code",
   "execution_count": 24,
   "metadata": {
    "scrolled": false
   },
   "outputs": [
    {
     "name": "stdout",
     "output_type": "stream",
     "text": [
      "Train on 40000 samples, validate on 10000 samples\n",
      "Epoch 1/10\n",
      " - 241s - loss: 1.5008 - acc: 0.4609 - val_loss: 1.2841 - val_acc: 0.5812\n",
      "Epoch 2/10\n",
      " - 236s - loss: 1.1380 - acc: 0.5958 - val_loss: 1.1162 - val_acc: 0.6351\n",
      "Epoch 3/10\n",
      " - 243s - loss: 0.9797 - acc: 0.6552 - val_loss: 1.0264 - val_acc: 0.6580\n",
      "Epoch 4/10\n",
      " - 268s - loss: 0.8737 - acc: 0.6922 - val_loss: 0.9549 - val_acc: 0.6879\n",
      "Epoch 5/10\n",
      " - 257s - loss: 0.7854 - acc: 0.7238 - val_loss: 0.8833 - val_acc: 0.7056\n",
      "Epoch 6/10\n",
      " - 241s - loss: 0.6981 - acc: 0.7530 - val_loss: 0.8423 - val_acc: 0.7215\n",
      "Epoch 7/10\n",
      " - 257s - loss: 0.6220 - acc: 0.7809 - val_loss: 0.8187 - val_acc: 0.7249\n",
      "Epoch 8/10\n",
      " - 251s - loss: 0.5516 - acc: 0.8060 - val_loss: 0.7701 - val_acc: 0.7461\n",
      "Epoch 9/10\n",
      " - 254s - loss: 0.4844 - acc: 0.8314 - val_loss: 0.7885 - val_acc: 0.7293\n",
      "Epoch 10/10\n",
      " - 244s - loss: 0.4360 - acc: 0.8480 - val_loss: 0.7712 - val_acc: 0.7351\n"
     ]
    }
   ],
   "source": [
    "train_history = model.fit(x=x_train_img_normalize, y=y_train_label_OneHot,\n",
    "                                     validation_split=0.2, epochs=10, batch_size=128, verbose=2)"
   ]
  },
  {
   "cell_type": "code",
   "execution_count": 25,
   "metadata": {},
   "outputs": [],
   "source": [
    "# 建立show_train_history显示训练过程\n",
    "# 可以使用如下方法，读取train_history，以图表显示训练过程。\n",
    "import matplotlib.pyplot as plt\n",
    "def show_train_history(train_history, train, validation):\n",
    "    plt.plot(train_history.history[train])\n",
    "    plt.plot(train_history.history[validation])\n",
    "    plt.title('Train History')\n",
    "    plt.xlabel('Epoch')\n",
    "    plt.ylabel('Train')\n",
    "    plt.legend(['train', 'validation'], loc='upper left')\n",
    "    plt.show()"
   ]
  },
  {
   "cell_type": "code",
   "execution_count": 26,
   "metadata": {},
   "outputs": [
    {
     "data": {
      "image/png": "[encoded data removed]",
      "text/plain": [
       "<Figure size 432x288 with 1 Axes>"
      ]
     },
     "metadata": {},
     "output_type": "display_data"
    }
   ],
   "source": [
    "# 画出准确率的执行结果\n",
    "show_train_history(train_history, 'acc', 'val_acc')"
   ]
  },
  {
   "cell_type": "markdown",
   "metadata": {},
   "source": [
    "![](./lesson_img/22.jpg)"
   ]
  },
  {
   "cell_type": "code",
   "execution_count": 27,
   "metadata": {},
   "outputs": [
    {
     "data": {
      "image/png": "[encoded data removed]",
      "text/plain": [
       "<Figure size 432x288 with 1 Axes>"
      ]
     },
     "metadata": {},
     "output_type": "display_data"
    }
   ],
   "source": [
    "# 画出误差的执行结果\n",
    "show_train_history(train_history, 'loss', 'val_loss')"
   ]
  },
  {
   "cell_type": "markdown",
   "metadata": {},
   "source": [
    "![](./lesson_img/23.jpg)"
   ]
  },
  {
   "cell_type": "markdown",
   "metadata": {},
   "source": [
    "## 10.5 评估模型的准确率"
   ]
  },
  {
   "cell_type": "code",
   "execution_count": 29,
   "metadata": {},
   "outputs": [
    {
     "name": "stdout",
     "output_type": "stream",
     "text": [
      "10000/10000 [==============================] - 18s 2ms/step\n"
     ]
    },
    {
     "data": {
      "text/plain": [
       "0.729"
      ]
     },
     "execution_count": 29,
     "metadata": {},
     "output_type": "execute_result"
    }
   ],
   "source": [
    "scores = model.evaluate(x_test_img_normalize, y_test_label_OneHot)\n",
    "scores[1]"
   ]
  },
  {
   "cell_type": "markdown",
   "metadata": {},
   "source": [
    "## 10.6 预测"
   ]
  },
  {
   "cell_type": "code",
   "execution_count": 30,
   "metadata": {},
   "outputs": [],
   "source": [
    "prediction = model.predict_classes(x_test_img_normalize)"
   ]
  },
  {
   "cell_type": "code",
   "execution_count": 31,
   "metadata": {},
   "outputs": [
    {
     "data": {
      "text/plain": [
       "array([5, 8, 8, 0, 6, 6, 1, 6, 3, 1], dtype=int64)"
      ]
     },
     "execution_count": 31,
     "metadata": {},
     "output_type": "execute_result"
    }
   ],
   "source": [
    "# 显示前10项的预测结果\n",
    "prediction[:10]"
   ]
  },
  {
   "cell_type": "code",
   "execution_count": 32,
   "metadata": {},
   "outputs": [],
   "source": [
    "def plot_images_labels_prediction(images, labels, prediction, idx, num=10):\n",
    "    fig = plt.gcf()\n",
    "    fig.set_size_inches(12,14)\n",
    "    if num > 25:\n",
    "        num = 25\n",
    "        pass\n",
    "    for i in range(0, num):\n",
    "        ax = plt.subplot(5, 5, i+1) #建立 subgraph子图形 为 5行 5列\n",
    "        ax.imshow(images[idx], cmap='binary') # 画出 subgraph 子图形\n",
    "        title= 'label=' + str(labels[idx]) # 设置子图形的title， 显示标签字段\n",
    "        if len(prediction)>0: # 如果传入的预测结果\n",
    "            title += ', predict='+str(prediction[idx]) # 标题\n",
    "        ax.set_title(title, fontsize=10) # 设置子图形的标题\n",
    "        ax.set_xticks([]) # 设置不显示刻度\n",
    "        ax.set_yticks([])\n",
    "        idx+=1\n",
    "    plt.show()"
   ]
  },
  {
   "cell_type": "code",
   "execution_count": 33,
   "metadata": {},
   "outputs": [
    {
     "data": {
      "image/png": "[encoded data removed]",
      "text/plain": [
       "<Figure size 864x1008 with 10 Axes>"
      ]
     },
     "metadata": {},
     "output_type": "display_data"
    }
   ],
   "source": [
    "# 显示前10项预测结果\n",
    "plot_images_labels_prediction(x_test_img, y_test_label, prediction, 0, 10)"
   ]
  },
  {
   "cell_type": "markdown",
   "metadata": {},
   "source": [
    "### label_dict = {0:'airplane', 1:'automobile', 2:'bird', 3:'cat', 4:'deer', 5:'dog', 6:'frog', 7:'horse', 8:'ship', 9:'truck'}"
   ]
  },
  {
   "cell_type": "markdown",
   "metadata": {},
   "source": [
    "## 10.7 查看预测概率\n",
    "### 有时候我们不只希望知道预测结果,还想要知道预测的每一种类别的概率"
   ]
  },
  {
   "cell_type": "code",
   "execution_count": 34,
   "metadata": {},
   "outputs": [],
   "source": [
    "# 1.使用测试数据进行预测\n",
    "predict_probablity = model.predict(x_test_img_normalize)"
   ]
  },
  {
   "cell_type": "code",
   "execution_count": 36,
   "metadata": {},
   "outputs": [],
   "source": [
    "label_dict = {0:'airplane', 1:'automobile', 2:'bird', 3:'cat', 4:'deer', 5:'dog', 6:'frog', 7:'horse', 8:'ship', 9:'truck'}"
   ]
  },
  {
   "cell_type": "code",
   "execution_count": 43,
   "metadata": {},
   "outputs": [],
   "source": [
    "# 建立显示函数\n",
    "def show_predict_probablity(y, prediction, x_img, predict_probablity, i):\n",
    "    print('label: ', label_dict[y[i][0]], ' predict: ', label_dict[prediction[i]])\n",
    "    plt.figure()\n",
    "    plt.imshow(np.reshape(x_test_img[i], (32, 32, 3)))\n",
    "    plt.show()\n",
    "    for j in range(10):\n",
    "        print(label_dict[j]+' Probability: %1.9f'%(predict_probablity[i][j]))\n",
    "    "
   ]
  },
  {
   "cell_type": "markdown",
   "metadata": {},
   "source": [
    "![](./lesson_img/24.jpg)"
   ]
  },
  {
   "cell_type": "code",
   "execution_count": 44,
   "metadata": {},
   "outputs": [
    {
     "name": "stdout",
     "output_type": "stream",
     "text": [
      "label:  cat  predict:  dog\n"
     ]
    },
    {
     "data": {
      "image/png": "[encoded data removed]",
      "text/plain": [
       "<Figure size 432x288 with 1 Axes>"
      ]
     },
     "metadata": {},
     "output_type": "display_data"
    },
    {
     "name": "stdout",
     "output_type": "stream",
     "text": [
      "airplane Probability: 0.000773145\n",
      "automobile Probability: 0.005310745\n",
      "bird Probability: 0.005663403\n",
      "cat Probability: 0.474814862\n",
      "deer Probability: 0.006578487\n",
      "dog Probability: 0.486657679\n",
      "frog Probability: 0.012345319\n",
      "horse Probability: 0.003436348\n",
      "ship Probability: 0.003919622\n",
      "truck Probability: 0.000500482\n"
     ]
    }
   ],
   "source": [
    "show_predict_probablity(y_test_label, prediction, x_test_img, predict_probablity, 0)"
   ]
  },
  {
   "cell_type": "markdown",
   "metadata": {},
   "source": [
    "#### 从以上结果可以看出，这张照片预测为“狗”的概率最高，预测为“猫”的概率次高，所以最后预测为狗\n",
    "\n",
    "#### 但是真实值是“猫”，所以此次预测错误"
   ]
  },
  {
   "cell_type": "markdown",
   "metadata": {},
   "source": [
    "## 10.8 显示混淆矩阵"
   ]
  },
  {
   "cell_type": "code",
   "execution_count": 45,
   "metadata": {},
   "outputs": [
    {
     "data": {
      "text/plain": [
       "(10000,)"
      ]
     },
     "execution_count": 45,
     "metadata": {},
     "output_type": "execute_result"
    }
   ],
   "source": [
    "prediction.shape"
   ]
  },
  {
   "cell_type": "code",
   "execution_count": 46,
   "metadata": {},
   "outputs": [
    {
     "data": {
      "text/plain": [
       "(10000, 1)"
      ]
     },
     "execution_count": 46,
     "metadata": {},
     "output_type": "execute_result"
    }
   ],
   "source": [
    "y_test_label.shape"
   ]
  },
  {
   "cell_type": "markdown",
   "metadata": {},
   "source": [
    "### 我们使用pd.crosstab 建立混淆矩阵，但是pd.crosstab的输入都必须是一维数组，所以必须先确认prediction(预测结果)和y_test_label(真实值)是一维数组，如果不是一维数组，则必须先转换为一维数组"
   ]
  },
  {
   "cell_type": "code",
   "execution_count": 54,
   "metadata": {},
   "outputs": [
    {
     "name": "stdout",
     "output_type": "stream",
     "text": [
      "[3 8 8 ... 5 1 7]\n",
      "(10000,)\n"
     ]
    }
   ],
   "source": [
    "# 转换为一维数组\n",
    "print(y_test_label.reshape(1, 10000)[0])\n",
    "print(y_test_label.reshape(1, 10000)[0].shape)"
   ]
  },
  {
   "cell_type": "code",
   "execution_count": 55,
   "metadata": {},
   "outputs": [],
   "source": [
    "import pandas as pd"
   ]
  },
  {
   "cell_type": "code",
   "execution_count": 57,
   "metadata": {},
   "outputs": [
    {
     "name": "stdout",
     "output_type": "stream",
     "text": [
      "10000\n",
      "10000\n"
     ]
    }
   ],
   "source": [
    "print(len(prediction))\n",
    "print(len(y_test_label.reshape(1, 10000)[0]))"
   ]
  },
  {
   "cell_type": "code",
   "execution_count": 58,
   "metadata": {},
   "outputs": [
    {
     "data": {
      "text/plain": [
       "array([5, 8, 8, ..., 5, 1, 7], dtype=int64)"
      ]
     },
     "execution_count": 58,
     "metadata": {},
     "output_type": "execute_result"
    }
   ],
   "source": [
    "prediction"
   ]
  },
  {
   "cell_type": "code",
   "execution_count": 59,
   "metadata": {},
   "outputs": [
    {
     "data": {
      "text/plain": [
       "array([3, 8, 8, ..., 5, 1, 7])"
      ]
     },
     "execution_count": 59,
     "metadata": {},
     "output_type": "execute_result"
    }
   ],
   "source": [
    "y_test_label.reshape(1, 10000)[0]"
   ]
  },
  {
   "cell_type": "code",
   "execution_count": 67,
   "metadata": {},
   "outputs": [
    {
     "name": "stdout",
     "output_type": "stream",
     "text": [
      "{0: 'airplane', 1: 'automobile', 2: 'bird', 3: 'cat', 4: 'deer', 5: 'dog', 6: 'frog', 7: 'horse', 8: 'ship', 9: 'truck'}\n"
     ]
    },
    {
     "data": {
      "text/html": [
       "<div>\n",
       "<style scoped>\n",
       "    .dataframe tbody tr th:only-of-type {\n",
       "        vertical-align: middle;\n",
       "    }\n",
       "\n",
       "    .dataframe tbody tr th {\n",
       "        vertical-align: top;\n",
       "    }\n",
       "\n",
       "    .dataframe thead th {\n",
       "        text-align: right;\n",
       "    }\n",
       "</style>\n",
       "<table border=\"1\" class=\"dataframe\">\n",
       "  <thead>\n",
       "    <tr style=\"text-align: right;\">\n",
       "      <th>prediction</th>\n",
       "      <th>0</th>\n",
       "      <th>1</th>\n",
       "      <th>2</th>\n",
       "      <th>3</th>\n",
       "      <th>4</th>\n",
       "      <th>5</th>\n",
       "      <th>6</th>\n",
       "      <th>7</th>\n",
       "      <th>8</th>\n",
       "      <th>9</th>\n",
       "    </tr>\n",
       "    <tr>\n",
       "      <th>label</th>\n",
       "      <th></th>\n",
       "      <th></th>\n",
       "      <th></th>\n",
       "      <th></th>\n",
       "      <th></th>\n",
       "      <th></th>\n",
       "      <th></th>\n",
       "      <th></th>\n",
       "      <th></th>\n",
       "      <th></th>\n",
       "    </tr>\n",
       "  </thead>\n",
       "  <tbody>\n",
       "    <tr>\n",
       "      <th>0</th>\n",
       "      <td>795</td>\n",
       "      <td>11</td>\n",
       "      <td>77</td>\n",
       "      <td>12</td>\n",
       "      <td>17</td>\n",
       "      <td>7</td>\n",
       "      <td>16</td>\n",
       "      <td>6</td>\n",
       "      <td>34</td>\n",
       "      <td>25</td>\n",
       "    </tr>\n",
       "    <tr>\n",
       "      <th>1</th>\n",
       "      <td>25</td>\n",
       "      <td>827</td>\n",
       "      <td>22</td>\n",
       "      <td>8</td>\n",
       "      <td>5</td>\n",
       "      <td>7</td>\n",
       "      <td>19</td>\n",
       "      <td>2</td>\n",
       "      <td>20</td>\n",
       "      <td>65</td>\n",
       "    </tr>\n",
       "    <tr>\n",
       "      <th>2</th>\n",
       "      <td>52</td>\n",
       "      <td>3</td>\n",
       "      <td>648</td>\n",
       "      <td>24</td>\n",
       "      <td>90</td>\n",
       "      <td>63</td>\n",
       "      <td>91</td>\n",
       "      <td>18</td>\n",
       "      <td>4</td>\n",
       "      <td>7</td>\n",
       "    </tr>\n",
       "    <tr>\n",
       "      <th>3</th>\n",
       "      <td>16</td>\n",
       "      <td>9</td>\n",
       "      <td>107</td>\n",
       "      <td>434</td>\n",
       "      <td>78</td>\n",
       "      <td>182</td>\n",
       "      <td>129</td>\n",
       "      <td>28</td>\n",
       "      <td>6</td>\n",
       "      <td>11</td>\n",
       "    </tr>\n",
       "    <tr>\n",
       "      <th>4</th>\n",
       "      <td>17</td>\n",
       "      <td>2</td>\n",
       "      <td>86</td>\n",
       "      <td>38</td>\n",
       "      <td>719</td>\n",
       "      <td>22</td>\n",
       "      <td>81</td>\n",
       "      <td>28</td>\n",
       "      <td>5</td>\n",
       "      <td>2</td>\n",
       "    </tr>\n",
       "    <tr>\n",
       "      <th>5</th>\n",
       "      <td>12</td>\n",
       "      <td>3</td>\n",
       "      <td>67</td>\n",
       "      <td>106</td>\n",
       "      <td>53</td>\n",
       "      <td>657</td>\n",
       "      <td>57</td>\n",
       "      <td>38</td>\n",
       "      <td>3</td>\n",
       "      <td>4</td>\n",
       "    </tr>\n",
       "    <tr>\n",
       "      <th>6</th>\n",
       "      <td>2</td>\n",
       "      <td>3</td>\n",
       "      <td>35</td>\n",
       "      <td>27</td>\n",
       "      <td>12</td>\n",
       "      <td>19</td>\n",
       "      <td>899</td>\n",
       "      <td>1</td>\n",
       "      <td>1</td>\n",
       "      <td>1</td>\n",
       "    </tr>\n",
       "    <tr>\n",
       "      <th>7</th>\n",
       "      <td>15</td>\n",
       "      <td>1</td>\n",
       "      <td>47</td>\n",
       "      <td>27</td>\n",
       "      <td>76</td>\n",
       "      <td>57</td>\n",
       "      <td>20</td>\n",
       "      <td>751</td>\n",
       "      <td>2</td>\n",
       "      <td>4</td>\n",
       "    </tr>\n",
       "    <tr>\n",
       "      <th>8</th>\n",
       "      <td>67</td>\n",
       "      <td>29</td>\n",
       "      <td>36</td>\n",
       "      <td>13</td>\n",
       "      <td>10</td>\n",
       "      <td>12</td>\n",
       "      <td>16</td>\n",
       "      <td>1</td>\n",
       "      <td>795</td>\n",
       "      <td>21</td>\n",
       "    </tr>\n",
       "    <tr>\n",
       "      <th>9</th>\n",
       "      <td>58</td>\n",
       "      <td>79</td>\n",
       "      <td>27</td>\n",
       "      <td>9</td>\n",
       "      <td>3</td>\n",
       "      <td>15</td>\n",
       "      <td>19</td>\n",
       "      <td>9</td>\n",
       "      <td>16</td>\n",
       "      <td>765</td>\n",
       "    </tr>\n",
       "  </tbody>\n",
       "</table>\n",
       "</div>"
      ],
      "text/plain": [
       "prediction    0    1    2    3    4    5    6    7    8    9\n",
       "label                                                       \n",
       "0           795   11   77   12   17    7   16    6   34   25\n",
       "1            25  827   22    8    5    7   19    2   20   65\n",
       "2            52    3  648   24   90   63   91   18    4    7\n",
       "3            16    9  107  434   78  182  129   28    6   11\n",
       "4            17    2   86   38  719   22   81   28    5    2\n",
       "5            12    3   67  106   53  657   57   38    3    4\n",
       "6             2    3   35   27   12   19  899    1    1    1\n",
       "7            15    1   47   27   76   57   20  751    2    4\n",
       "8            67   29   36   13   10   12   16    1  795   21\n",
       "9            58   79   27    9    3   15   19    9   16  765"
      ]
     },
     "execution_count": 67,
     "metadata": {},
     "output_type": "execute_result"
    }
   ],
   "source": [
    "# crosstab 第一个参数是列, 第二个参数是行\n",
    "# pd.crosstab(prediction, y_test_label.reshape(1, 10000)[0], rownames=['prediction'], colnames=['label'])\n",
    "print(label_dict)\n",
    "pd.crosstab(y_test_label.reshape(1, 10000)[0], prediction, rownames=['label'], colnames=['prediction'])"
   ]
  },
  {
   "cell_type": "markdown",
   "metadata": {},
   "source": [
    "### 从以上混淆矩阵，我们观察如下：\n",
    "- **对角线是预测正确的，我们发现**  \n",
    "    - 真实值是6“蛙”，被正确预测为6“蛙”的项数有899项，最高，最不容易混淆  \n",
    "    - 真实值是3“猫”，被正确预测为3“猫”的项数有434项，最低，也就是说最容易混淆  \n",
    "- **其他非对角线的数字代表将某一个标签预测为另一个标签，最容易混淆**\n",
    "    - 真实值是3“猫”，但预测是5“狗”，项数有182项，最高，也就是说“猫”很容易被认成“狗”\n",
    "    - 同理还可以发现“猫”也容易被认成“蛙”，有129项；以及“狗”容易被认成“猫”，有106项"
   ]
  },
  {
   "cell_type": "markdown",
   "metadata": {},
   "source": [
    "### 我们还发现了一些有趣的现象：\n",
    "![](./lesson_img/26.jpg)\n",
    "\n",
    "- **但是 8,9 被预测为1的概率都分别是十位数。也就是说，8（船），9（卡车）属于交通工具，容易混淆为1（汽车）**\n",
    "\n",
    "![](./lesson_img/27.jpg)"
   ]
  },
  {
   "cell_type": "markdown",
   "metadata": {},
   "source": [
    "## 10.9 建立3次的卷积运算神经网络\n",
    "\n",
    "### 之前建立的卷积神经网络执行结果的准确率只有0.729（10.5节），我们希望能通过更多次卷积运算提高准确率"
   ]
  },
  {
   "cell_type": "code",
   "execution_count": 70,
   "metadata": {},
   "outputs": [],
   "source": [
    "model = Sequential()"
   ]
  },
  {
   "cell_type": "markdown",
   "metadata": {},
   "source": [
    "#### 建立卷积层1与池化层1"
   ]
  },
  {
   "cell_type": "code",
   "execution_count": 71,
   "metadata": {},
   "outputs": [],
   "source": [
    "# 建立卷积层1\n",
    "model.add(Conv2D(filters=32,\n",
    "                                kernel_size=(3, 3),\n",
    "                                input_shape=(32, 32, 3),\n",
    "                                activation='relu',\n",
    "                                padding='same'))\n",
    "# 加入DropOut，避免过度拟合\n",
    "model.add(Dropout(rate=0.3))\n",
    "\n",
    "# 【新增加Conv2D 层】\n",
    "model.add(Conv2D(filters=32, kernel_size=(3, 3), activation='relu', padding='same'))\n",
    "\n",
    "# 建立池化层1，执行缩减采样\n",
    "model.add(MaxPooling2D(pool_size=(2,2)))"
   ]
  },
  {
   "cell_type": "markdown",
   "metadata": {},
   "source": [
    "#### 建立卷积层2与池化层2"
   ]
  },
  {
   "cell_type": "code",
   "execution_count": 72,
   "metadata": {},
   "outputs": [],
   "source": [
    "# 建立卷积层2\n",
    "model.add(Conv2D(filters=64,\n",
    "                                kernel_size=(3, 3),\n",
    "                                activation='relu',\n",
    "                                padding='same'))\n",
    "# 加入DropOut，避免过度拟合\n",
    "model.add(Dropout(rate=0.3))\n",
    "\n",
    "# 【新增加Conv2D 层】\n",
    "model.add(Conv2D(filters=64, kernel_size=(3, 3), activation='relu', padding='same'))\n",
    "\n",
    "# 建立池化层2，执行缩减采样\n",
    "model.add(MaxPooling2D(pool_size=(2,2)))"
   ]
  },
  {
   "cell_type": "markdown",
   "metadata": {},
   "source": [
    "#### 建立卷积层3和池化层3"
   ]
  },
  {
   "cell_type": "code",
   "execution_count": 73,
   "metadata": {},
   "outputs": [],
   "source": [
    "# 建立卷积层3\n",
    "model.add(Conv2D(filters=128,\n",
    "                                kernel_size=(3, 3),\n",
    "                                activation='relu',\n",
    "                                padding='same'))\n",
    "# 加入DropOut，避免过度拟合\n",
    "model.add(Dropout(rate=0.3))\n",
    "\n",
    "# 【新增加Conv2D 层】\n",
    "model.add(Conv2D(filters=128, kernel_size=(3, 3), activation='relu', padding='same'))\n",
    "\n",
    "# 建立池化层3，执行缩减采样\n",
    "model.add(MaxPooling2D(pool_size=(2,2)))"
   ]
  },
  {
   "cell_type": "markdown",
   "metadata": {},
   "source": [
    "#### 建立神经网络层（平坦层，隐藏层1，隐藏层2，输出层）\n",
    "\n",
    "**我们建立更宽，更深的神经网络， 加入隐藏层1（2500个神经元）和隐藏层2（1500个神经元）。**"
   ]
  },
  {
   "cell_type": "code",
   "execution_count": 74,
   "metadata": {},
   "outputs": [],
   "source": [
    "# 平坦层\n",
    "model.add(Flatten())\n",
    "model.add(Dropout(0.3))\n",
    "# 隐藏层1\n",
    "model.add(Dense(2500, activation='relu'))\n",
    "model.add(Dropout(0.3))\n",
    "# 隐藏层2\n",
    "model.add(Dense(1500, activation='relu'))\n",
    "model.add(Dropout(0.3))\n",
    "# 输出层\n",
    "model.add(Dense(10, activation='softmax'))"
   ]
  },
  {
   "cell_type": "markdown",
   "metadata": {},
   "source": [
    "#### 训练模型\n",
    "\n",
    "#### 为了增加准确率,执行50个训练周期，这需要花很长时间"
   ]
  },
  {
   "cell_type": "code",
   "execution_count": 76,
   "metadata": {},
   "outputs": [],
   "source": [
    "model.compile(loss='categorical_crossentropy', optimizer='adam', metrics=['accuracy'])"
   ]
  },
  {
   "cell_type": "markdown",
   "metadata": {},
   "source": [
    "### 这里默认tensorflow是CPU版本，训练模型时间太长，转到 10.1Keras-gpu 文件中训练，以下是训练结果\n",
    "\n",
    "![](./lesson_img/28.jpg)"
   ]
  },
  {
   "cell_type": "markdown",
   "metadata": {},
   "source": [
    "![](./lesson_img/29.jpg)"
   ]
  },
  {
   "cell_type": "code",
   "execution_count": null,
   "metadata": {},
   "outputs": [],
   "source": []
  },
  {
   "cell_type": "code",
   "execution_count": null,
   "metadata": {},
   "outputs": [],
   "source": []
  },
  {
   "cell_type": "code",
   "execution_count": null,
   "metadata": {},
   "outputs": [],
   "source": []
  },
  {
   "cell_type": "code",
   "execution_count": null,
   "metadata": {},
   "outputs": [],
   "source": []
  },
  {
   "cell_type": "code",
   "execution_count": null,
   "metadata": {},
   "outputs": [],
   "source": []
  },
  {
   "cell_type": "code",
   "execution_count": null,
   "metadata": {},
   "outputs": [],
   "source": []
  },
  {
   "cell_type": "code",
   "execution_count": null,
   "metadata": {},
   "outputs": [],
   "source": []
  },
  {
   "cell_type": "code",
   "execution_count": null,
   "metadata": {},
   "outputs": [],
   "source": []
  },
  {
   "cell_type": "code",
   "execution_count": null,
   "metadata": {},
   "outputs": [],
   "source": []
  },
  {
   "cell_type": "code",
   "execution_count": null,
   "metadata": {},
   "outputs": [],
   "source": []
  },
  {
   "cell_type": "code",
   "execution_count": null,
   "metadata": {},
   "outputs": [],
   "source": []
  },
  {
   "cell_type": "code",
   "execution_count": null,
   "metadata": {},
   "outputs": [],
   "source": []
  },
  {
   "cell_type": "code",
   "execution_count": null,
   "metadata": {},
   "outputs": [],
   "source": []
  },
  {
   "cell_type": "code",
   "execution_count": null,
   "metadata": {},
   "outputs": [],
   "source": []
  },
  {
   "cell_type": "code",
   "execution_count": null,
   "metadata": {},
   "outputs": [],
   "source": []
  },
  {
   "cell_type": "code",
   "execution_count": null,
   "metadata": {},
   "outputs": [],
   "source": []
  }
 ],
 "metadata": {
  "kernelspec": {
   "display_name": "Python 3",
   "language": "python",
   "name": "python3"
  },
  "language_info": {
   "codemirror_mode": {
    "name": "ipython",
    "version": 3
   },
   "file_extension": ".py",
   "mimetype": "text/x-python",
   "name": "python",
   "nbconvert_exporter": "python",
   "pygments_lexer": "ipython3",
   "version": "3.6.5"
  }
 },
 "nbformat": 4,
 "nbformat_minor": 2
}
