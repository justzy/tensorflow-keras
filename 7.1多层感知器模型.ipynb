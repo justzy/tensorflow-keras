{
 "cells": [
  {
   "cell_type": "code",
   "execution_count": 4,
   "metadata": {},
   "outputs": [],
   "source": [
    "from keras.utils import np_utils\n",
    "import numpy as np\n",
    "np.random.seed(10)"
   ]
  },
  {
   "cell_type": "code",
   "execution_count": 5,
   "metadata": {},
   "outputs": [],
   "source": [
    "# 读取mnist数据集\n",
    "from keras.datasets import mnist\n",
    "(x_train_image, y_train_label), (x_test_image, y_test_label) = mnist.load_data()"
   ]
  },
  {
   "cell_type": "code",
   "execution_count": 6,
   "metadata": {},
   "outputs": [],
   "source": [
    "# 将features用reshape方式转换\n",
    "x_Train = x_train_image.reshape(60000, 784).astype('float32')\n",
    "x_Test = x_test_image.reshape(10000, 784).astype('float32')"
   ]
  },
  {
   "cell_type": "code",
   "execution_count": 7,
   "metadata": {},
   "outputs": [],
   "source": [
    "# 把数据标准化, 标准化可以提高训练的精度\n",
    "x_Train_normalize = x_Train/255\n",
    "x_Test_normalize = x_Test/255"
   ]
  },
  {
   "cell_type": "code",
   "execution_count": 17,
   "metadata": {},
   "outputs": [],
   "source": [
    "# 使用np_utils.to_categorial()将训练数据的label和测试数据的label进行 One-Hot Encoding 转换\n",
    "y_Train_OneHot = np_utils.to_categorical(y_train_label)\n",
    "y_Test_OneHot = np_utils.to_categorical(y_test_label)"
   ]
  },
  {
   "cell_type": "markdown",
   "metadata": {},
   "source": [
    "### 建立模型\n",
    "- 建立多层感知器模型，输入层（x）共有784的神经元，隐藏从（h）共有256个神经元，输出层（y）共有10个神经元"
   ]
  },
  {
   "cell_type": "code",
   "execution_count": 11,
   "metadata": {},
   "outputs": [],
   "source": [
    "# 导入所需模块\n",
    "from keras.models import Sequential\n",
    "from keras.layers import Dense"
   ]
  },
  {
   "cell_type": "code",
   "execution_count": 12,
   "metadata": {},
   "outputs": [],
   "source": [
    "# 建立Sequential模型\n",
    "# 建立一个线性堆叠模型，后续只需要使用 model.add() 方法将各个神经网络层加入模型即可\n",
    "model = Sequential()"
   ]
  },
  {
   "cell_type": "code",
   "execution_count": 13,
   "metadata": {},
   "outputs": [],
   "source": [
    "# 建立输入层与隐藏层\n",
    "# 以下代码将“输入层”与“隐藏层”加入模型，使用model.add()方法加入Dense神经网络层。\n",
    "# Dense神经网络层的特色是：所有的上一层与下一层神经元都完全连接\n",
    "model.add(Dense(units=256, \n",
    "                input_dim=784,\n",
    "                kernel_initializer='normal',\n",
    "                activation='relu'))"
   ]
  },
  {
   "cell_type": "markdown",
   "metadata": {},
   "source": [
    "- units=256 定义“隐藏层”神经元个数为256\n",
    "- input_dim=784 定义“输入层”神经元个数为784（因为原先28*28的二维图形数据被转换为784的一位向量）\n",
    "- kernel_initializer='normal' 使用normal distribution正态分布的随机数来初始化 weight（权重）和bias（偏差）\n",
    "- activation 定义激活函数为 relu"
   ]
  },
  {
   "cell_type": "code",
   "execution_count": 14,
   "metadata": {},
   "outputs": [],
   "source": [
    "# 建立输出层\n",
    "# 使用model.add 方法加入神经网络层，共有10个神经元，对应0-9十个数字，\n",
    "# 并且使用softmax激活函数进行转换，softmax可以将神经元的输出转换为预测每一个数字的概率\n",
    "model.add(Dense(units=10,\n",
    "                             kernel_initializer='normal',\n",
    "                             activation='softmax'))"
   ]
  },
  {
   "cell_type": "markdown",
   "metadata": {},
   "source": [
    "- units=10 定义“输出层”神经元个数为10\n",
    "- kernel_initializer='normal' 使用normal distribution正态分布的随机数来初始化 weight（权重）和bias（偏差）\n",
    "- activation 定义激活函数为 softmax\n",
    "\n",
    "### 以上建立Dense神经网络层不需要设置 input_dim, 因为 keras会自动按照上一层的units是256个神经元设置这一层的input_dim为256个神经元"
   ]
  },
  {
   "cell_type": "code",
   "execution_count": 15,
   "metadata": {},
   "outputs": [
    {
     "name": "stdout",
     "output_type": "stream",
     "text": [
      "_________________________________________________________________\n",
      "Layer (type)                 Output Shape              Param #   \n",
      "=================================================================\n",
      "dense_1 (Dense)              (None, 256)               200960    \n",
      "_________________________________________________________________\n",
      "dense_2 (Dense)              (None, 10)                2570      \n",
      "=================================================================\n",
      "Total params: 203,530\n",
      "Trainable params: 203,530\n",
      "Non-trainable params: 0\n",
      "_________________________________________________________________\n",
      "None\n"
     ]
    }
   ],
   "source": [
    "# 查看模型摘要\n",
    "print(model.summary())"
   ]
  },
  {
   "cell_type": "markdown",
   "metadata": {},
   "source": [
    "### 一共有以下两层\n",
    "- 隐藏层： 共256个神经元，因为输入层与隐藏层是一起建立的，所以没有显示输入层。\n",
    "- 输出层： 共10个神经元。"
   ]
  },
  {
   "cell_type": "markdown",
   "metadata": {},
   "source": [
    "### 模型摘要还有param字段\n",
    "Param计算方式： 784 × 256 + 256 = 200960；256 × 10 + 10 = 2570\n",
    "- 以上每一层的param都是超参数（Hyper-Parameters）。我们需要通过反向传播法更新神经元连接的权重与偏差"
   ]
  },
  {
   "cell_type": "markdown",
   "metadata": {},
   "source": [
    "--------------"
   ]
  },
  {
   "cell_type": "markdown",
   "metadata": {},
   "source": [
    "##  进行训练"
   ]
  },
  {
   "cell_type": "code",
   "execution_count": 16,
   "metadata": {},
   "outputs": [],
   "source": [
    "# 定义训练方式\n",
    "# 在训练之前，我们必须用compile 方法对训练模型进行设置\n",
    "model.compile(loss='categorical_crossentropy', optimizer='adam', metrics=['accuracy'])"
   ]
  },
  {
   "cell_type": "markdown",
   "metadata": {},
   "source": [
    "### compile 方法需输入以下参数\n",
    "- loss: 设置损失函数，在深度学习中使用 cross_entropy(交叉熵)训练的效果比较好\n",
    "- optimizer: 设置训练时，在深度学习中使用adam优化器可以让训练收敛更快，并提高准确率\n",
    "- metrics: 设置评估模型的方式是准确率"
   ]
  },
  {
   "cell_type": "code",
   "execution_count": 18,
   "metadata": {},
   "outputs": [
    {
     "name": "stdout",
     "output_type": "stream",
     "text": [
      "Train on 48000 samples, validate on 12000 samples\n",
      "Epoch 1/10\n",
      " - 3s - loss: 0.4398 - acc: 0.8825 - val_loss: 0.2184 - val_acc: 0.9408\n",
      "Epoch 2/10\n",
      " - 2s - loss: 0.1912 - acc: 0.9452 - val_loss: 0.1560 - val_acc: 0.9551\n",
      "Epoch 3/10\n",
      " - 3s - loss: 0.1359 - acc: 0.9615 - val_loss: 0.1260 - val_acc: 0.9646\n",
      "Epoch 4/10\n",
      " - 2s - loss: 0.1031 - acc: 0.9704 - val_loss: 0.1124 - val_acc: 0.9682\n",
      "Epoch 5/10\n",
      " - 2s - loss: 0.0814 - acc: 0.9771 - val_loss: 0.0980 - val_acc: 0.9716\n",
      "Epoch 6/10\n",
      " - 3s - loss: 0.0662 - acc: 0.9818 - val_loss: 0.0936 - val_acc: 0.9713\n",
      "Epoch 7/10\n",
      " - 2s - loss: 0.0546 - acc: 0.9852 - val_loss: 0.0909 - val_acc: 0.9743\n",
      "Epoch 8/10\n",
      " - 3s - loss: 0.0459 - acc: 0.9877 - val_loss: 0.0825 - val_acc: 0.9766\n",
      "Epoch 9/10\n",
      " - 3s - loss: 0.0380 - acc: 0.9906 - val_loss: 0.0816 - val_acc: 0.9768\n",
      "Epoch 10/10\n",
      " - 2s - loss: 0.0316 - acc: 0.9918 - val_loss: 0.0805 - val_acc: 0.9765\n"
     ]
    }
   ],
   "source": [
    "# 开始训练\n",
    "train_history = model.fit(x = x_Train_normalize,\n",
    "                                     y = y_Train_OneHot, validation_split=0.2,\n",
    "                                     epochs=10, batch_size=200, verbose=2)"
   ]
  },
  {
   "cell_type": "markdown",
   "metadata": {},
   "source": [
    "### 以上程序说明如下\n",
    "#### 使用model.fit 进行训练，训练过程会存储在train_history变量中，需输入下列参数。\n",
    "#### (1) 输入训练数据参数\n",
    "- x = x_Train_normalize （features 数字图像的特征值）\n",
    "- y = y_Train_Onehot （label 数字图像的真实值） \n",
    "\n",
    "#### (2) 设置训练与验证数据的比例\n",
    "- 设置参数validation_split=0.2\n",
    "\n",
    "    训练之前keras会自动将数据分成：80%作为训练集，20%作为验证集。（全部数据时60000， 所有训练集：60000×0.8=48000， 验证集12000）\n",
    "    \n",
    "#### (3) 设置epoch（训练周期）次数与每一批次项数\n",
    "- epochs=10: 执行10个训练周期\n",
    "- batch_size=200: 每一批次200项数据\n",
    "\n",
    "#### (4) 设置显示训练过程\n",
    "- verbose=2: 显示训练过程\n",
    "\n",
    "### 以上代码共执行了10次训练周期，每一次训练执行下列功能\n",
    "- 使用48000项数据进行训练，分每一批次200项，所有大约分为240个批次（48000/200=240）进行训练\n",
    "- 训练完成后，会计算这个训练周期的准确率与误差，并且在train_history中新增一项数据记录"
   ]
  },
  {
   "cell_type": "code",
   "execution_count": 19,
   "metadata": {},
   "outputs": [],
   "source": [
    "# 建立show_train_history显示训练过程\n",
    "# 可以使用如下方法，读取train_history，以图表显示训练过程。\n",
    "import matplotlib.pyplot as plt\n",
    "def show_train_history(train_history, train, validation):\n",
    "    plt.plot(train_history.history[train])\n",
    "    plt.plot(train_history.history[validation])\n",
    "    plt.title('Train History')\n",
    "    plt.xlabel('Epoch')\n",
    "    plt.ylabel('Train')\n",
    "    plt.legend(['train', 'validation'], loc='upper left')\n",
    "    plt.show()"
   ]
  },
  {
   "cell_type": "code",
   "execution_count": 20,
   "metadata": {},
   "outputs": [
    {
     "data": {
      "image/png": "[encoded data removed]",
      "text/plain": [
       "<Figure size 432x288 with 1 Axes>"
      ]
     },
     "metadata": {},
     "output_type": "display_data"
    }
   ],
   "source": [
    "show_train_history(train_history, 'acc', 'val_acc')"
   ]
  },
  {
   "cell_type": "code",
   "execution_count": 21,
   "metadata": {},
   "outputs": [
    {
     "data": {
      "image/png": "[encoded data removed]",
      "text/plain": [
       "<Figure size 432x288 with 1 Axes>"
      ]
     },
     "metadata": {},
     "output_type": "display_data"
    }
   ],
   "source": [
    "# 画出误差执行结果\n",
    "show_train_history(train_history, 'loss', 'val_loss')"
   ]
  },
  {
   "cell_type": "markdown",
   "metadata": {},
   "source": [
    "---"
   ]
  },
  {
   "cell_type": "markdown",
   "metadata": {},
   "source": [
    "## 以测试数据评估模型准确率"
   ]
  },
  {
   "cell_type": "code",
   "execution_count": 22,
   "metadata": {},
   "outputs": [
    {
     "name": "stdout",
     "output_type": "stream",
     "text": [
      "10000/10000 [==============================] - 0s 48us/step\n",
      "\n",
      "accuracy =  0.9764\n"
     ]
    }
   ],
   "source": [
    "# 评估模型准确率\n",
    "scores = model.evaluate(x_Test_normalize, y_Test_OneHot)\n",
    "print()\n",
    "print('accuracy = ', scores[1])"
   ]
  },
  {
   "cell_type": "markdown",
   "metadata": {},
   "source": [
    "### 以上程序代码的执行结果准确率为 0.97\n",
    "- scores = model.evaluate() 使用model.evaluate评估模型的准确率，评估后的准确率会存储在scores中\n",
    "- x = x_Test_normalize 测试数据的features（数字图像的特征值）\n",
    "- y = y_Test_Onehot 测试数据的label（数字图像的真实值）"
   ]
  },
  {
   "cell_type": "markdown",
   "metadata": {},
   "source": [
    "### 进行预测"
   ]
  },
  {
   "cell_type": "code",
   "execution_count": 31,
   "metadata": {},
   "outputs": [],
   "source": [
    "# 使用未标准化的数据进行预测\n",
    "prediction = model.predict_classes(x_Test)"
   ]
  },
  {
   "cell_type": "code",
   "execution_count": 32,
   "metadata": {},
   "outputs": [
    {
     "data": {
      "text/plain": [
       "array([7, 2, 1, ..., 4, 5, 6], dtype=int64)"
      ]
     },
     "execution_count": 32,
     "metadata": {},
     "output_type": "execute_result"
    }
   ],
   "source": [
    "prediction"
   ]
  },
  {
   "cell_type": "code",
   "execution_count": 33,
   "metadata": {},
   "outputs": [],
   "source": [
    "def plot_images_labels_prediction(images, labels, prediction, idx, num=10):\n",
    "    fig = plt.gcf()\n",
    "    fig.set_size_inches(12,14)\n",
    "    if num > 25:\n",
    "        num = 25\n",
    "        pass\n",
    "    for i in range(0, num):\n",
    "        ax = plt.subplot(5, 5, i+1) #建立 subgraph子图形 为 5行 5列\n",
    "        ax.imshow(images[idx], cmap='binary') # 画出 subgraph 子图形\n",
    "        title= 'label=' + str(labels[idx]) # 设置子图形的title， 显示标签字段\n",
    "        if len(prediction)>0: # 如果传入的预测结果\n",
    "            title += ', predict='+str(prediction[idx]) # 标题\n",
    "        ax.set_title(title, fontsize=10) # 设置子图形的标题\n",
    "        ax.set_xticks([]) # 设置不显示刻度\n",
    "        ax.set_yticks([])\n",
    "        idx+=1\n",
    "    plt.show()"
   ]
  },
  {
   "cell_type": "code",
   "execution_count": 34,
   "metadata": {},
   "outputs": [
    {
     "data": {
      "image/png": "[encoded data removed]",
      "text/plain": [
       "<Figure size 864x1008 with 10 Axes>"
      ]
     },
     "metadata": {},
     "output_type": "display_data"
    }
   ],
   "source": [
    "plot_images_labels_prediction(x_test_image, y_test_label, prediction, idx=340)"
   ]
  },
  {
   "cell_type": "code",
   "execution_count": null,
   "metadata": {},
   "outputs": [],
   "source": []
  },
  {
   "cell_type": "code",
   "execution_count": 37,
   "metadata": {},
   "outputs": [],
   "source": [
    "# 使用标准化后的数据进行预测\n",
    "prediction2 = model.predict_classes(x_Test_normalize)"
   ]
  },
  {
   "cell_type": "code",
   "execution_count": 38,
   "metadata": {},
   "outputs": [
    {
     "data": {
      "text/plain": [
       "array([7, 2, 1, ..., 4, 5, 6], dtype=int64)"
      ]
     },
     "execution_count": 38,
     "metadata": {},
     "output_type": "execute_result"
    }
   ],
   "source": [
    "prediction2"
   ]
  },
  {
   "cell_type": "code",
   "execution_count": 39,
   "metadata": {},
   "outputs": [
    {
     "data": {
      "image/png": "[encoded data removed]",
      "text/plain": [
       "<Figure size 864x1008 with 10 Axes>"
      ]
     },
     "metadata": {},
     "output_type": "display_data"
    }
   ],
   "source": [
    "plot_images_labels_prediction(x_test_image, y_test_label, prediction2, idx=340)"
   ]
  },
  {
   "cell_type": "markdown",
   "metadata": {},
   "source": [
    "---"
   ]
  },
  {
   "cell_type": "markdown",
   "metadata": {},
   "source": [
    "## 显示混淆矩阵\n",
    "    在上张图中有一个预测错误，真实值是5，但是预测值是3。如果我们想要进一步知道所建立的模型中哪些数字的预测准确率最高，哪些数字容易混淆（例如真实值是5，预测值是3），就可以使用混淆矩阵（CONFUSION MATRIX） 也成为误差矩阵（ERROR MATRIX）"
   ]
  },
  {
   "cell_type": "code",
   "execution_count": 40,
   "metadata": {},
   "outputs": [],
   "source": [
    "import pandas as pd"
   ]
  },
  {
   "cell_type": "code",
   "execution_count": 41,
   "metadata": {},
   "outputs": [
    {
     "data": {
      "text/html": [
       "<div>\n",
       "<style scoped>\n",
       "    .dataframe tbody tr th:only-of-type {\n",
       "        vertical-align: middle;\n",
       "    }\n",
       "\n",
       "    .dataframe tbody tr th {\n",
       "        vertical-align: top;\n",
       "    }\n",
       "\n",
       "    .dataframe thead th {\n",
       "        text-align: right;\n",
       "    }\n",
       "</style>\n",
       "<table border=\"1\" class=\"dataframe\">\n",
       "  <thead>\n",
       "    <tr style=\"text-align: right;\">\n",
       "      <th>predict</th>\n",
       "      <th>0</th>\n",
       "      <th>1</th>\n",
       "      <th>2</th>\n",
       "      <th>3</th>\n",
       "      <th>4</th>\n",
       "      <th>5</th>\n",
       "      <th>6</th>\n",
       "      <th>7</th>\n",
       "      <th>8</th>\n",
       "      <th>9</th>\n",
       "    </tr>\n",
       "    <tr>\n",
       "      <th>label</th>\n",
       "      <th></th>\n",
       "      <th></th>\n",
       "      <th></th>\n",
       "      <th></th>\n",
       "      <th></th>\n",
       "      <th></th>\n",
       "      <th></th>\n",
       "      <th></th>\n",
       "      <th></th>\n",
       "      <th></th>\n",
       "    </tr>\n",
       "  </thead>\n",
       "  <tbody>\n",
       "    <tr>\n",
       "      <th>0</th>\n",
       "      <td>971</td>\n",
       "      <td>0</td>\n",
       "      <td>1</td>\n",
       "      <td>1</td>\n",
       "      <td>1</td>\n",
       "      <td>0</td>\n",
       "      <td>2</td>\n",
       "      <td>1</td>\n",
       "      <td>3</td>\n",
       "      <td>0</td>\n",
       "    </tr>\n",
       "    <tr>\n",
       "      <th>1</th>\n",
       "      <td>0</td>\n",
       "      <td>1124</td>\n",
       "      <td>4</td>\n",
       "      <td>0</td>\n",
       "      <td>0</td>\n",
       "      <td>1</td>\n",
       "      <td>2</td>\n",
       "      <td>0</td>\n",
       "      <td>4</td>\n",
       "      <td>0</td>\n",
       "    </tr>\n",
       "    <tr>\n",
       "      <th>2</th>\n",
       "      <td>6</td>\n",
       "      <td>0</td>\n",
       "      <td>1011</td>\n",
       "      <td>1</td>\n",
       "      <td>1</td>\n",
       "      <td>0</td>\n",
       "      <td>2</td>\n",
       "      <td>3</td>\n",
       "      <td>8</td>\n",
       "      <td>0</td>\n",
       "    </tr>\n",
       "    <tr>\n",
       "      <th>3</th>\n",
       "      <td>0</td>\n",
       "      <td>0</td>\n",
       "      <td>4</td>\n",
       "      <td>994</td>\n",
       "      <td>0</td>\n",
       "      <td>0</td>\n",
       "      <td>0</td>\n",
       "      <td>3</td>\n",
       "      <td>5</td>\n",
       "      <td>4</td>\n",
       "    </tr>\n",
       "    <tr>\n",
       "      <th>4</th>\n",
       "      <td>1</td>\n",
       "      <td>0</td>\n",
       "      <td>5</td>\n",
       "      <td>1</td>\n",
       "      <td>961</td>\n",
       "      <td>0</td>\n",
       "      <td>3</td>\n",
       "      <td>0</td>\n",
       "      <td>3</td>\n",
       "      <td>8</td>\n",
       "    </tr>\n",
       "    <tr>\n",
       "      <th>5</th>\n",
       "      <td>3</td>\n",
       "      <td>0</td>\n",
       "      <td>0</td>\n",
       "      <td>16</td>\n",
       "      <td>1</td>\n",
       "      <td>852</td>\n",
       "      <td>7</td>\n",
       "      <td>1</td>\n",
       "      <td>9</td>\n",
       "      <td>3</td>\n",
       "    </tr>\n",
       "    <tr>\n",
       "      <th>6</th>\n",
       "      <td>6</td>\n",
       "      <td>3</td>\n",
       "      <td>3</td>\n",
       "      <td>1</td>\n",
       "      <td>3</td>\n",
       "      <td>3</td>\n",
       "      <td>937</td>\n",
       "      <td>0</td>\n",
       "      <td>2</td>\n",
       "      <td>0</td>\n",
       "    </tr>\n",
       "    <tr>\n",
       "      <th>7</th>\n",
       "      <td>0</td>\n",
       "      <td>5</td>\n",
       "      <td>14</td>\n",
       "      <td>6</td>\n",
       "      <td>1</td>\n",
       "      <td>0</td>\n",
       "      <td>0</td>\n",
       "      <td>990</td>\n",
       "      <td>4</td>\n",
       "      <td>8</td>\n",
       "    </tr>\n",
       "    <tr>\n",
       "      <th>8</th>\n",
       "      <td>5</td>\n",
       "      <td>0</td>\n",
       "      <td>3</td>\n",
       "      <td>5</td>\n",
       "      <td>1</td>\n",
       "      <td>1</td>\n",
       "      <td>1</td>\n",
       "      <td>2</td>\n",
       "      <td>955</td>\n",
       "      <td>1</td>\n",
       "    </tr>\n",
       "    <tr>\n",
       "      <th>9</th>\n",
       "      <td>4</td>\n",
       "      <td>5</td>\n",
       "      <td>0</td>\n",
       "      <td>10</td>\n",
       "      <td>8</td>\n",
       "      <td>2</td>\n",
       "      <td>0</td>\n",
       "      <td>4</td>\n",
       "      <td>4</td>\n",
       "      <td>972</td>\n",
       "    </tr>\n",
       "  </tbody>\n",
       "</table>\n",
       "</div>"
      ],
      "text/plain": [
       "predict    0     1     2    3    4    5    6    7    8    9\n",
       "label                                                      \n",
       "0        971     0     1    1    1    0    2    1    3    0\n",
       "1          0  1124     4    0    0    1    2    0    4    0\n",
       "2          6     0  1011    1    1    0    2    3    8    0\n",
       "3          0     0     4  994    0    0    0    3    5    4\n",
       "4          1     0     5    1  961    0    3    0    3    8\n",
       "5          3     0     0   16    1  852    7    1    9    3\n",
       "6          6     3     3    1    3    3  937    0    2    0\n",
       "7          0     5    14    6    1    0    0  990    4    8\n",
       "8          5     0     3    5    1    1    1    2  955    1\n",
       "9          4     5     0   10    8    2    0    4    4  972"
      ]
     },
     "execution_count": 41,
     "metadata": {},
     "output_type": "execute_result"
    }
   ],
   "source": [
    "pd.crosstab(y_test_label, prediction, rownames=['label'], colnames=['predict'])"
   ]
  },
  {
   "cell_type": "markdown",
   "metadata": {},
   "source": [
    "### 上面混淆矩阵，观察结果如下\n",
    "- 对角线是预测正确的数字，我们发现：真实值是“1”，被预测为“1”的项数有1124项，被预测准确率最高，最不容易混淆。真实值是5，被预测为5的项数是852项最低，也就是说最容易混淆\n",
    "- 其他非对角线的数字代表将某一个标签预测错误，成为另一个标签，我们发现：真实值是5，但是预测值是3"
   ]
  },
  {
   "cell_type": "code",
   "execution_count": 42,
   "metadata": {},
   "outputs": [],
   "source": [
    "# 建立真实值与预测值DataFrame\n",
    "df = pd.DataFrame({'label': y_test_label, 'predict': prediction})"
   ]
  },
  {
   "cell_type": "code",
   "execution_count": 44,
   "metadata": {},
   "outputs": [
    {
     "data": {
      "text/html": [
       "<div>\n",
       "<style scoped>\n",
       "    .dataframe tbody tr th:only-of-type {\n",
       "        vertical-align: middle;\n",
       "    }\n",
       "\n",
       "    .dataframe tbody tr th {\n",
       "        vertical-align: top;\n",
       "    }\n",
       "\n",
       "    .dataframe thead th {\n",
       "        text-align: right;\n",
       "    }\n",
       "</style>\n",
       "<table border=\"1\" class=\"dataframe\">\n",
       "  <thead>\n",
       "    <tr style=\"text-align: right;\">\n",
       "      <th></th>\n",
       "      <th>label</th>\n",
       "      <th>predict</th>\n",
       "    </tr>\n",
       "  </thead>\n",
       "  <tbody>\n",
       "    <tr>\n",
       "      <th>0</th>\n",
       "      <td>7</td>\n",
       "      <td>7</td>\n",
       "    </tr>\n",
       "    <tr>\n",
       "      <th>1</th>\n",
       "      <td>2</td>\n",
       "      <td>2</td>\n",
       "    </tr>\n",
       "    <tr>\n",
       "      <th>2</th>\n",
       "      <td>1</td>\n",
       "      <td>1</td>\n",
       "    </tr>\n",
       "    <tr>\n",
       "      <th>3</th>\n",
       "      <td>0</td>\n",
       "      <td>0</td>\n",
       "    </tr>\n",
       "    <tr>\n",
       "      <th>4</th>\n",
       "      <td>4</td>\n",
       "      <td>4</td>\n",
       "    </tr>\n",
       "  </tbody>\n",
       "</table>\n",
       "</div>"
      ],
      "text/plain": [
       "   label  predict\n",
       "0      7        7\n",
       "1      2        2\n",
       "2      1        1\n",
       "3      0        0\n",
       "4      4        4"
      ]
     },
     "execution_count": 44,
     "metadata": {},
     "output_type": "execute_result"
    }
   ],
   "source": [
    "df.head()"
   ]
  },
  {
   "cell_type": "code",
   "execution_count": 51,
   "metadata": {},
   "outputs": [
    {
     "data": {
      "text/html": [
       "<div>\n",
       "<style scoped>\n",
       "    .dataframe tbody tr th:only-of-type {\n",
       "        vertical-align: middle;\n",
       "    }\n",
       "\n",
       "    .dataframe tbody tr th {\n",
       "        vertical-align: top;\n",
       "    }\n",
       "\n",
       "    .dataframe thead th {\n",
       "        text-align: right;\n",
       "    }\n",
       "</style>\n",
       "<table border=\"1\" class=\"dataframe\">\n",
       "  <thead>\n",
       "    <tr style=\"text-align: right;\">\n",
       "      <th></th>\n",
       "      <th>label</th>\n",
       "      <th>predict</th>\n",
       "    </tr>\n",
       "  </thead>\n",
       "  <tbody>\n",
       "    <tr>\n",
       "      <th>340</th>\n",
       "      <td>5</td>\n",
       "      <td>3</td>\n",
       "    </tr>\n",
       "    <tr>\n",
       "      <th>1003</th>\n",
       "      <td>5</td>\n",
       "      <td>3</td>\n",
       "    </tr>\n",
       "    <tr>\n",
       "      <th>1393</th>\n",
       "      <td>5</td>\n",
       "      <td>3</td>\n",
       "    </tr>\n",
       "    <tr>\n",
       "      <th>2035</th>\n",
       "      <td>5</td>\n",
       "      <td>3</td>\n",
       "    </tr>\n",
       "    <tr>\n",
       "      <th>2526</th>\n",
       "      <td>5</td>\n",
       "      <td>3</td>\n",
       "    </tr>\n",
       "  </tbody>\n",
       "</table>\n",
       "</div>"
      ],
      "text/plain": [
       "      label  predict\n",
       "340       5        3\n",
       "1003      5        3\n",
       "1393      5        3\n",
       "2035      5        3\n",
       "2526      5        3"
      ]
     },
     "execution_count": 51,
     "metadata": {},
     "output_type": "execute_result"
    }
   ],
   "source": [
    "# 查询真实值是5， 但是预测值是3的数据\n",
    "df[(df.label==5) & (df.predict==3)].head()"
   ]
  },
  {
   "cell_type": "code",
   "execution_count": 54,
   "metadata": {},
   "outputs": [
    {
     "data": {
      "image/png": "[encoded data removed]",
      "text/plain": [
       "<Figure size 864x1008 with 1 Axes>"
      ]
     },
     "metadata": {},
     "output_type": "display_data"
    }
   ],
   "source": [
    "# 查看第340项数据\n",
    "plot_images_labels_prediction(x_test_image, y_test_label, prediction, 340, 1)"
   ]
  },
  {
   "cell_type": "markdown",
   "metadata": {},
   "source": [
    "### 从执行结果来看，这个数字看起来像5又像3，所以预测错误"
   ]
  },
  {
   "cell_type": "markdown",
   "metadata": {},
   "source": [
    "---"
   ]
  },
  {
   "cell_type": "markdown",
   "metadata": {},
   "source": [
    "## 隐藏层增加为1000个神经元\n",
    "- 为了增加多层感知模型的准确率，将原本256个神经元改为1000"
   ]
  },
  {
   "cell_type": "code",
   "execution_count": 55,
   "metadata": {},
   "outputs": [],
   "source": [
    "model = Sequential()"
   ]
  },
  {
   "cell_type": "code",
   "execution_count": 56,
   "metadata": {},
   "outputs": [],
   "source": [
    "# 将“输入层”与“隐藏层”加入模型\n",
    "model.add(Dense(units=1000, \n",
    "                input_dim=784,\n",
    "                kernel_initializer='normal',\n",
    "                activation='relu'))"
   ]
  },
  {
   "cell_type": "code",
   "execution_count": 57,
   "metadata": {},
   "outputs": [],
   "source": [
    "# 将“输出层”加入模型\n",
    "model.add(Dense(units=10,\n",
    "                             kernel_initializer='normal',\n",
    "                             activation='softmax'))"
   ]
  },
  {
   "cell_type": "code",
   "execution_count": 59,
   "metadata": {},
   "outputs": [
    {
     "name": "stdout",
     "output_type": "stream",
     "text": [
      "_________________________________________________________________\n",
      "Layer (type)                 Output Shape              Param #   \n",
      "=================================================================\n",
      "dense_3 (Dense)              (None, 1000)              785000    \n",
      "_________________________________________________________________\n",
      "dense_4 (Dense)              (None, 10)                10010     \n",
      "=================================================================\n",
      "Total params: 795,010\n",
      "Trainable params: 795,010\n",
      "Non-trainable params: 0\n",
      "_________________________________________________________________\n",
      "None\n"
     ]
    }
   ],
   "source": [
    "print(model.summary())"
   ]
  },
  {
   "cell_type": "code",
   "execution_count": 60,
   "metadata": {},
   "outputs": [],
   "source": [
    "model.compile(loss='categorical_crossentropy', optimizer='adam', metrics=['accuracy'])"
   ]
  },
  {
   "cell_type": "code",
   "execution_count": 61,
   "metadata": {},
   "outputs": [
    {
     "name": "stdout",
     "output_type": "stream",
     "text": [
      "Train on 48000 samples, validate on 12000 samples\n",
      "Epoch 1/10\n",
      " - 11s - loss: 0.2922 - acc: 0.9161 - val_loss: 0.1539 - val_acc: 0.9559\n",
      "Epoch 2/10\n",
      " - 9s - loss: 0.1150 - acc: 0.9670 - val_loss: 0.1204 - val_acc: 0.9643\n",
      "Epoch 3/10\n",
      " - 9s - loss: 0.0736 - acc: 0.9791 - val_loss: 0.0921 - val_acc: 0.9732\n",
      "Epoch 4/10\n",
      " - 9s - loss: 0.0519 - acc: 0.9855 - val_loss: 0.0820 - val_acc: 0.9747\n",
      "Epoch 5/10\n",
      " - 9s - loss: 0.0362 - acc: 0.9905 - val_loss: 0.0839 - val_acc: 0.9748\n",
      "Epoch 6/10\n",
      " - 10s - loss: 0.0249 - acc: 0.9938 - val_loss: 0.0732 - val_acc: 0.9784\n",
      "Epoch 7/10\n",
      " - 10s - loss: 0.0186 - acc: 0.9955 - val_loss: 0.0728 - val_acc: 0.9781\n",
      "Epoch 8/10\n",
      " - 9s - loss: 0.0136 - acc: 0.9971 - val_loss: 0.0742 - val_acc: 0.9794\n",
      "Epoch 9/10\n",
      " - 9s - loss: 0.0099 - acc: 0.9981 - val_loss: 0.0707 - val_acc: 0.9798\n",
      "Epoch 10/10\n",
      " - 9s - loss: 0.0069 - acc: 0.9991 - val_loss: 0.0785 - val_acc: 0.9776\n"
     ]
    }
   ],
   "source": [
    "train_history = model.fit(x = x_Train_normalize,\n",
    "                                     y = y_Train_OneHot, validation_split=0.2,\n",
    "                                     epochs=10, batch_size=200, verbose=2)"
   ]
  },
  {
   "cell_type": "code",
   "execution_count": 62,
   "metadata": {},
   "outputs": [
    {
     "data": {
      "image/png": "[encoded data removed]",
      "text/plain": [
       "<Figure size 432x288 with 1 Axes>"
      ]
     },
     "metadata": {},
     "output_type": "display_data"
    }
   ],
   "source": [
    "show_train_history(train_history, 'acc', 'val_acc')"
   ]
  },
  {
   "cell_type": "markdown",
   "metadata": {},
   "source": [
    "####  通过上图，可以看出训练集的正确性很高， 而验证集的准确性不太高，存在过拟合问题"
   ]
  },
  {
   "cell_type": "code",
   "execution_count": 64,
   "metadata": {},
   "outputs": [
    {
     "name": "stdout",
     "output_type": "stream",
     "text": [
      "10000/10000 [==============================] - 2s 150us/step\n",
      "\n",
      "accuracy =  0.9798\n"
     ]
    }
   ],
   "source": [
    "scores = model.evaluate(x_Test_normalize, y_Test_OneHot)\n",
    "print()\n",
    "print('accuracy = ', scores[1])"
   ]
  },
  {
   "cell_type": "markdown",
   "metadata": {},
   "source": [
    "---"
   ]
  },
  {
   "cell_type": "markdown",
   "metadata": {},
   "source": [
    "## 多层感知器加入DropOut功能，以避免过度拟合"
   ]
  },
  {
   "cell_type": "code",
   "execution_count": 65,
   "metadata": {},
   "outputs": [],
   "source": [
    "from keras.layers import Dropout"
   ]
  },
  {
   "cell_type": "code",
   "execution_count": 77,
   "metadata": {},
   "outputs": [],
   "source": [
    "model = Sequential()"
   ]
  },
  {
   "cell_type": "code",
   "execution_count": 78,
   "metadata": {},
   "outputs": [],
   "source": [
    "# 将输入层与隐藏层加入模型\n",
    "model.add(Dense(units=1000,\n",
    "                               input_dim=784,\n",
    "                               kernel_initializer='normal',\n",
    "                               activation='relu'))"
   ]
  },
  {
   "cell_type": "code",
   "execution_count": 79,
   "metadata": {},
   "outputs": [],
   "source": [
    "# 加入DropOut功能\n",
    "model.add(Dropout(0.5))"
   ]
  },
  {
   "cell_type": "code",
   "execution_count": 80,
   "metadata": {},
   "outputs": [],
   "source": [
    "# 将输出层加入模型\n",
    "model.add(Dense(units=10,\n",
    "                            kernel_initializer='normal',\n",
    "                           activation='softmax'))"
   ]
  },
  {
   "cell_type": "code",
   "execution_count": 81,
   "metadata": {},
   "outputs": [
    {
     "name": "stdout",
     "output_type": "stream",
     "text": [
      "_________________________________________________________________\n",
      "Layer (type)                 Output Shape              Param #   \n",
      "=================================================================\n",
      "dense_7 (Dense)              (None, 1000)              785000    \n",
      "_________________________________________________________________\n",
      "dropout_2 (Dropout)          (None, 1000)              0         \n",
      "_________________________________________________________________\n",
      "dense_8 (Dense)              (None, 10)                10010     \n",
      "=================================================================\n",
      "Total params: 795,010\n",
      "Trainable params: 795,010\n",
      "Non-trainable params: 0\n",
      "_________________________________________________________________\n",
      "None\n"
     ]
    }
   ],
   "source": [
    "# 查看模型摘要\n",
    "print(model.summary())"
   ]
  },
  {
   "cell_type": "code",
   "execution_count": 82,
   "metadata": {},
   "outputs": [],
   "source": [
    "# 执行模型的训练或验证之前需要compile模型\n",
    "model.compile(loss='categorical_crossentropy', optimizer='adam', metrics=['accuracy'])"
   ]
  },
  {
   "cell_type": "code",
   "execution_count": 83,
   "metadata": {},
   "outputs": [
    {
     "name": "stdout",
     "output_type": "stream",
     "text": [
      "Train on 48000 samples, validate on 12000 samples\n",
      "Epoch 1/10\n",
      " - 11s - loss: 0.3570 - acc: 0.8936 - val_loss: 0.1604 - val_acc: 0.9543\n",
      "Epoch 2/10\n",
      " - 11s - loss: 0.1577 - acc: 0.9541 - val_loss: 0.1199 - val_acc: 0.9660\n",
      "Epoch 3/10\n",
      " - 12s - loss: 0.1141 - acc: 0.9664 - val_loss: 0.0943 - val_acc: 0.9728\n",
      "Epoch 4/10\n",
      " - 11s - loss: 0.0891 - acc: 0.9735 - val_loss: 0.0870 - val_acc: 0.9738\n",
      "Epoch 5/10\n",
      " - 10s - loss: 0.0733 - acc: 0.9781 - val_loss: 0.0782 - val_acc: 0.9773\n",
      "Epoch 6/10\n",
      " - 10s - loss: 0.0630 - acc: 0.9809 - val_loss: 0.0771 - val_acc: 0.9763\n",
      "Epoch 7/10\n",
      " - 10s - loss: 0.0537 - acc: 0.9835 - val_loss: 0.0718 - val_acc: 0.9785\n",
      "Epoch 8/10\n",
      " - 10s - loss: 0.0456 - acc: 0.9858 - val_loss: 0.0726 - val_acc: 0.9786\n",
      "Epoch 9/10\n",
      " - 10s - loss: 0.0415 - acc: 0.9875 - val_loss: 0.0695 - val_acc: 0.9798\n",
      "Epoch 10/10\n",
      " - 11s - loss: 0.0375 - acc: 0.9882 - val_loss: 0.0718 - val_acc: 0.9803\n"
     ]
    }
   ],
   "source": [
    "train_history = model.fit(x = x_Train_normalize,\n",
    "                                     y = y_Train_OneHot, validation_split=0.2,\n",
    "                                     epochs=10, batch_size=200, verbose=2)"
   ]
  },
  {
   "cell_type": "markdown",
   "metadata": {},
   "source": [
    "#### acc 和 val_acc 的值差距很小，代表已经改善了过度拟合的问题"
   ]
  },
  {
   "cell_type": "code",
   "execution_count": 85,
   "metadata": {},
   "outputs": [
    {
     "data": {
      "image/png": "[encoded data removed]",
      "text/plain": [
       "<Figure size 432x288 with 1 Axes>"
      ]
     },
     "metadata": {},
     "output_type": "display_data"
    }
   ],
   "source": [
    "# 训练过程图示\n",
    "show_train_history(train_history, 'acc', 'val_acc')"
   ]
  },
  {
   "cell_type": "markdown",
   "metadata": {},
   "source": [
    "#### 训练的准确度和验证的准确度差距变小，过度拟合的程度已经减轻"
   ]
  },
  {
   "cell_type": "code",
   "execution_count": 86,
   "metadata": {},
   "outputs": [
    {
     "name": "stdout",
     "output_type": "stream",
     "text": [
      "10000/10000 [==============================] - 2s 154us/step\n",
      "\n",
      " accuracy =  0.9816\n"
     ]
    }
   ],
   "source": [
    "# 查看准确率\n",
    "scores = model.evaluate(x_Test_normalize, y_Test_OneHot)\n",
    "print()\n",
    "print(' accuracy = ', scores[1])"
   ]
  },
  {
   "cell_type": "markdown",
   "metadata": {},
   "source": [
    "#### 从以上结果可得准确率为0.98，比未加入DropOut时还高，代表加入DropOut不但可以解决过拟合问题，还可以提高准确率"
   ]
  },
  {
   "cell_type": "markdown",
   "metadata": {},
   "source": [
    "---"
   ]
  },
  {
   "cell_type": "markdown",
   "metadata": {},
   "source": [
    "## 建立多层感知器模型，包含两个隐藏层\n",
    "- 为了进一步增加多层感知器模型的准确率，本次将建立两个隐藏层"
   ]
  },
  {
   "cell_type": "code",
   "execution_count": 98,
   "metadata": {},
   "outputs": [],
   "source": [
    "model = Sequential()"
   ]
  },
  {
   "cell_type": "markdown",
   "metadata": {},
   "source": [
    "#### 加入输入层和隐藏层1"
   ]
  },
  {
   "cell_type": "code",
   "execution_count": 99,
   "metadata": {},
   "outputs": [],
   "source": [
    "model.add(Dense(units=1000,\n",
    "                               input_dim=784,\n",
    "                               kernel_initializer='normal',\n",
    "                               activation='relu'))"
   ]
  },
  {
   "cell_type": "code",
   "execution_count": 100,
   "metadata": {},
   "outputs": [],
   "source": [
    "model.add(Dropout(0.5))"
   ]
  },
  {
   "cell_type": "markdown",
   "metadata": {},
   "source": [
    "#### 加入隐藏层2"
   ]
  },
  {
   "cell_type": "code",
   "execution_count": 101,
   "metadata": {},
   "outputs": [],
   "source": [
    "model.add(Dense(units=1000,\n",
    "                               kernel_initializer='normal',\n",
    "                               activation='relu'))"
   ]
  },
  {
   "cell_type": "code",
   "execution_count": 102,
   "metadata": {},
   "outputs": [],
   "source": [
    "model.add(Dropout(0.5))"
   ]
  },
  {
   "cell_type": "markdown",
   "metadata": {},
   "source": [
    "#### 加入输出层"
   ]
  },
  {
   "cell_type": "code",
   "execution_count": 103,
   "metadata": {},
   "outputs": [],
   "source": [
    "model.add(Dense(units=10,\n",
    "                               kernel_initializer='normal',\n",
    "                               activation='softmax'))"
   ]
  },
  {
   "cell_type": "code",
   "execution_count": 104,
   "metadata": {},
   "outputs": [
    {
     "name": "stdout",
     "output_type": "stream",
     "text": [
      "_________________________________________________________________\n",
      "Layer (type)                 Output Shape              Param #   \n",
      "=================================================================\n",
      "dense_12 (Dense)             (None, 1000)              785000    \n",
      "_________________________________________________________________\n",
      "dropout_5 (Dropout)          (None, 1000)              0         \n",
      "_________________________________________________________________\n",
      "dense_13 (Dense)             (None, 1000)              1001000   \n",
      "_________________________________________________________________\n",
      "dropout_6 (Dropout)          (None, 1000)              0         \n",
      "_________________________________________________________________\n",
      "dense_14 (Dense)             (None, 10)                10010     \n",
      "=================================================================\n",
      "Total params: 1,796,010\n",
      "Trainable params: 1,796,010\n",
      "Non-trainable params: 0\n",
      "_________________________________________________________________\n",
      "None\n"
     ]
    }
   ],
   "source": [
    "# 查看模型摘要\n",
    "print(model.summary())"
   ]
  },
  {
   "cell_type": "code",
   "execution_count": 105,
   "metadata": {},
   "outputs": [],
   "source": [
    "# 先编译模型\n",
    "model.compile(loss='categorical_crossentropy', optimizer='adam', metrics=['accuracy'])"
   ]
  },
  {
   "cell_type": "code",
   "execution_count": 106,
   "metadata": {},
   "outputs": [
    {
     "name": "stdout",
     "output_type": "stream",
     "text": [
      "Train on 48000 samples, validate on 12000 samples\n",
      "Epoch 1/10\n",
      " - 28s - loss: 0.3681 - acc: 0.8857 - val_loss: 0.1324 - val_acc: 0.9606\n",
      "Epoch 2/10\n",
      " - 31s - loss: 0.1607 - acc: 0.9502 - val_loss: 0.1057 - val_acc: 0.9670\n",
      "Epoch 3/10\n",
      " - 29s - loss: 0.1211 - acc: 0.9624 - val_loss: 0.0868 - val_acc: 0.9736\n",
      "Epoch 4/10\n",
      " - 28s - loss: 0.1008 - acc: 0.9685 - val_loss: 0.0849 - val_acc: 0.9747\n",
      "Epoch 5/10\n",
      " - 30s - loss: 0.0828 - acc: 0.9740 - val_loss: 0.0740 - val_acc: 0.9780\n",
      "Epoch 6/10\n",
      " - 30s - loss: 0.0731 - acc: 0.9756 - val_loss: 0.0746 - val_acc: 0.9779\n",
      "Epoch 7/10\n",
      " - 24s - loss: 0.0690 - acc: 0.9779 - val_loss: 0.0701 - val_acc: 0.9788\n",
      "Epoch 8/10\n",
      " - 25s - loss: 0.0625 - acc: 0.9800 - val_loss: 0.0728 - val_acc: 0.9793\n",
      "Epoch 9/10\n",
      " - 24s - loss: 0.0563 - acc: 0.9817 - val_loss: 0.0753 - val_acc: 0.9791\n",
      "Epoch 10/10\n",
      " - 24s - loss: 0.0506 - acc: 0.9837 - val_loss: 0.0723 - val_acc: 0.9807\n"
     ]
    }
   ],
   "source": [
    "# 在训练模型\n",
    "train_history = model.fit(x=x_Train_normalize, y=y_Train_OneHot,\n",
    "                 validation_split=0.2, epochs=10, batch_size=200, verbose=2)"
   ]
  },
  {
   "cell_type": "code",
   "execution_count": 107,
   "metadata": {},
   "outputs": [
    {
     "data": {
      "image/png": "[encoded data removed]",
      "text/plain": [
       "<Figure size 432x288 with 1 Axes>"
      ]
     },
     "metadata": {},
     "output_type": "display_data"
    }
   ],
   "source": [
    "show_train_history(train_history, 'acc',  'val_acc')"
   ]
  },
  {
   "cell_type": "markdown",
   "metadata": {},
   "source": [
    "### Epoch训练后期，虽然“acc训练的准确率”比“val_acc训练的准确率”高，但是“训练的准确率”和“验证的准确率”差距变小，这代表已经大致解决的过度拟合的问题"
   ]
  },
  {
   "cell_type": "code",
   "execution_count": 109,
   "metadata": {},
   "outputs": [
    {
     "name": "stdout",
     "output_type": "stream",
     "text": [
      "10000/10000 [==============================] - 3s 290us/step\n",
      "\n",
      "accuracy =  0.9824\n"
     ]
    }
   ],
   "source": [
    "# 查看准确率\n",
    "scores = model.evaluate(x_Test_normalize, y_Test_OneHot)\n",
    "print()\n",
    "print('accuracy = ', scores[1])"
   ]
  },
  {
   "cell_type": "markdown",
   "metadata": {},
   "source": [
    "### 从以上结果可以看出准确率是0.98, 没有明显提升"
   ]
  },
  {
   "cell_type": "markdown",
   "metadata": {},
   "source": [
    "## 结论\n",
    "- ### 从以上例子中，我们使用多层感知器模型来识别MNIST数据集中的手写数字，并尝试将模型加宽，加深，以提高准确率，并且加入DropOut层，以避免过度拟合，准确率接近0.98。不过，多层感知器有其极限，如果还需要进一步提高准确率，就必须使用卷积神经网络。\n",
    "\n",
    "###  >> 卷积神经网络 <<"
   ]
  },
  {
   "cell_type": "code",
   "execution_count": null,
   "metadata": {},
   "outputs": [],
   "source": []
  },
  {
   "cell_type": "code",
   "execution_count": null,
   "metadata": {},
   "outputs": [],
   "source": []
  },
  {
   "cell_type": "code",
   "execution_count": null,
   "metadata": {},
   "outputs": [],
   "source": []
  },
  {
   "cell_type": "code",
   "execution_count": null,
   "metadata": {},
   "outputs": [],
   "source": []
  },
  {
   "cell_type": "code",
   "execution_count": null,
   "metadata": {},
   "outputs": [],
   "source": []
  },
  {
   "cell_type": "code",
   "execution_count": null,
   "metadata": {},
   "outputs": [],
   "source": []
  },
  {
   "cell_type": "code",
   "execution_count": null,
   "metadata": {},
   "outputs": [],
   "source": []
  }
 ],
 "metadata": {
  "kernelspec": {
   "display_name": "Python 3",
   "language": "python",
   "name": "python3"
  },
  "language_info": {
   "codemirror_mode": {
    "name": "ipython",
    "version": 3
   },
   "file_extension": ".py",
   "mimetype": "text/x-python",
   "name": "python",
   "nbconvert_exporter": "python",
   "pygments_lexer": "ipython3",
   "version": "3.6.5"
  }
 },
 "nbformat": 4,
 "nbformat_minor": 2
}
