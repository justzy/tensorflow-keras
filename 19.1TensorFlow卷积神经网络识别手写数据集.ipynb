{
 "cells": [
  {
   "cell_type": "markdown",
   "metadata": {},
   "source": [
    "# TensorFlow卷积神经网络识别数据集\n",
    "\n",
    "### 前面多层感知器模型的准确率大约在0.96，本次我们使用卷积神经网络（CNN）（Convolutional Neural Network）来识别手写数据集，最终达到的准确率接近0.99\n",
    "\n",
    "![](./lesson19/1.jpg)"
   ]
  },
  {
   "cell_type": "markdown",
   "metadata": {},
   "source": [
    "## 读取数据"
   ]
  },
  {
   "cell_type": "code",
   "execution_count": 2,
   "metadata": {},
   "outputs": [
    {
     "name": "stdout",
     "output_type": "stream",
     "text": [
      "Extracting data\\train-images-idx3-ubyte.gz\n",
      "Extracting data\\train-labels-idx1-ubyte.gz\n",
      "Extracting data\\t10k-images-idx3-ubyte.gz\n",
      "Extracting data\\t10k-labels-idx1-ubyte.gz\n"
     ]
    }
   ],
   "source": [
    "import tensorflow as tf\n",
    "from tensorflow.examples.tutorials.mnist import input_data as input_data\n",
    "\n",
    "mnist = input_data.read_data_sets('data', one_hot=True)"
   ]
  },
  {
   "cell_type": "markdown",
   "metadata": {},
   "source": [
    "## 建立函数： 为了后面方便建立模型，建立如下的函数"
   ]
  },
  {
   "cell_type": "code",
   "execution_count": 3,
   "metadata": {},
   "outputs": [],
   "source": [
    "\"\"\"1.定义weight函数，用于建立权重张量\n",
    "\n",
    "定义weight函数，输入参数shape，先以tf.truncated_normal随机方式初始化权重，然后使用tf.Variable建立TensorFlow变量\n",
    "\"\"\"\n",
    "def weight(shape):\n",
    "    return tf.Variable(tf.truncated_normal(shape, stddev=0.1), name='W')\n",
    "\n",
    "\"\"\"2.定义bias函数，用于建立偏差张量\"\"\"\n",
    "def bias(shape):\n",
    "    return tf.Variable(tf.constant(0.1, shape=shape), name='b')\n",
    "\n",
    "\"\"\"3.定义conv2d函数，用于卷积运算\"\"\"\n",
    "def conv2d(x, W):\n",
    "    return tf.nn.conv2d(x, W, strides=[1,1,1,1], padding='SAME')\n",
    "\n",
    "\"\"\"4.定义max_pool_2m2函数，用于建立池化层\"\"\"\n",
    "def max_pool_2m2(x):\n",
    "    return tf.nn.max_pool(x, ksize=[1,2,2,1], strides=[1,2,2,1], padding='SAME')\n",
    "    "
   ]
  },
  {
   "cell_type": "markdown",
   "metadata": {},
   "source": [
    "![](./lesson19/2.jpg)\n",
    "![](./lesson19/3.jpg)"
   ]
  },
  {
   "cell_type": "markdown",
   "metadata": {},
   "source": [
    "## 建立模型"
   ]
  },
  {
   "cell_type": "code",
   "execution_count": 4,
   "metadata": {},
   "outputs": [],
   "source": [
    "\"\"\"1 输入层\"\"\"\n",
    "with tf.name_scope('Input_Layer'):\n",
    "    x = tf.placeholder('float', shape=[None, 784], name='x')\n",
    "    x_image = tf.reshape(x, [-1, 28, 28, 1])"
   ]
  },
  {
   "cell_type": "markdown",
   "metadata": {},
   "source": [
    "![](./lesson19/4.jpg)"
   ]
  },
  {
   "cell_type": "code",
   "execution_count": 5,
   "metadata": {},
   "outputs": [],
   "source": [
    "\"\"\"2建立卷积层1\"\"\"\n",
    "with tf.name_scope('C1_Conv'):\n",
    "    W1 = weight([5,5,1,16])\n",
    "    b1 = bias([16])\n",
    "    Conv1 = conv2d(x_image, W1)+b1\n",
    "    C1_Conv = tf.nn.relu(Conv1)"
   ]
  },
  {
   "cell_type": "markdown",
   "metadata": {},
   "source": [
    "![](./lesson19/5.jpg)\n",
    "![](./lesson19/6.jpg)"
   ]
  },
  {
   "cell_type": "code",
   "execution_count": 6,
   "metadata": {},
   "outputs": [],
   "source": [
    "\"\"\"3.建立池化层1\"\"\"\n",
    "with tf.name_scope('C1_Pool'):\n",
    "    C1_Pool = max_pool_2m2(C1_Conv)"
   ]
  },
  {
   "cell_type": "code",
   "execution_count": 7,
   "metadata": {},
   "outputs": [],
   "source": [
    "\"\"\"4.建立卷积层2\"\"\"\n",
    "with tf.name_scope('C2_Conv'):\n",
    "    W2 = weight([5,5,16,36])\n",
    "    b2 = bias([36])\n",
    "    Conv2 = conv2d(C1_Pool, W2)+b2\n",
    "    C2_Conv = tf.nn.relu(Conv2)"
   ]
  },
  {
   "cell_type": "markdown",
   "metadata": {},
   "source": [
    "![](./lesson19/7.jpg)"
   ]
  },
  {
   "cell_type": "code",
   "execution_count": 8,
   "metadata": {},
   "outputs": [],
   "source": [
    "\"\"\"5.建立池化层2\"\"\"\n",
    "with tf.name_scope('C2_Pool'):\n",
    "    C2_Pool = max_pool_2m2(C2_Conv)"
   ]
  },
  {
   "cell_type": "code",
   "execution_count": 9,
   "metadata": {},
   "outputs": [],
   "source": [
    "\"\"\"6.建立平坦层\n",
    "平坦层将池化层2的36个7*7的图像转换为一维向量，长度是 36*7*7 = 1764，作为神经元输入下一层也就是平坦层\n",
    "\"\"\"\n",
    "with tf.name_scope('D_Flat'):\n",
    "    D_Flat = tf.reshape(C2_Pool, [-1, 1764])"
   ]
  },
  {
   "cell_type": "markdown",
   "metadata": {},
   "source": [
    "![](./lesson19/8.jpg)"
   ]
  },
  {
   "cell_type": "code",
   "execution_count": 10,
   "metadata": {},
   "outputs": [],
   "source": [
    "\"\"\"7.建立隐藏层\"\"\"\n",
    "with tf.name_scope('D_Hidden_Layer'):\n",
    "    W3 = weight([1764, 128])\n",
    "    b3 = bias([128])\n",
    "    D_Hidden = tf.nn.relu(tf.matmul(D_Flat, W3)+b3)\n",
    "    D_Hidden_Dropout = tf.nn.dropout(D_Hidden, keep_prob=0.8)"
   ]
  },
  {
   "cell_type": "code",
   "execution_count": 11,
   "metadata": {},
   "outputs": [],
   "source": [
    "\"\"\"8.建立输出层\"\"\"\n",
    "with tf.name_scope('Output_Layer'):\n",
    "    W4 = weight([128, 10])\n",
    "    b4 = bias([10])\n",
    "    y_predict = tf.nn.softmax(tf.matmul(D_Hidden_Dropout, W4)+b4)"
   ]
  },
  {
   "cell_type": "code",
   "execution_count": 12,
   "metadata": {},
   "outputs": [
    {
     "name": "stdout",
     "output_type": "stream",
     "text": [
      "WARNING:tensorflow:From <ipython-input-12-e2654b8f4c1d>:4: softmax_cross_entropy_with_logits (from tensorflow.python.ops.nn_ops) is deprecated and will be removed in a future version.\n",
      "Instructions for updating:\n",
      "\n",
      "Future major versions of TensorFlow will allow gradients to flow\n",
      "into the labels input on backprop by default.\n",
      "\n",
      "See `tf.nn.softmax_cross_entropy_with_logits_v2`.\n",
      "\n"
     ]
    }
   ],
   "source": [
    "\"\"\"9.定义训练方式\"\"\"\n",
    "with tf.name_scope('optimizer'):\n",
    "    y_label = tf.placeholder('float', [None, 10], name='y_label')\n",
    "    loss_function = tf.reduce_mean(tf.nn.softmax_cross_entropy_with_logits(logits=y_predict, labels=y_label))\n",
    "    optimizer = tf.train.AdamOptimizer(learning_rate=0.001).minimize(loss_function)"
   ]
  },
  {
   "cell_type": "code",
   "execution_count": 13,
   "metadata": {},
   "outputs": [],
   "source": [
    "\"\"\"10.定义评估模型准确率的方式\"\"\"\n",
    "with tf.name_scope('evaluate_model'):\n",
    "    correct_prediction = tf.equal(tf.argmax(y_label, 1), tf.argmax(y_predict, 1))\n",
    "    accuracy = tf.reduce_mean(tf.cast(correct_prediction, 'float'))"
   ]
  },
  {
   "cell_type": "code",
   "execution_count": 14,
   "metadata": {},
   "outputs": [],
   "source": [
    "\"\"\"11.进行训练\"\"\"\n",
    "trainEpochs = 30\n",
    "batchSize = 100\n",
    "totalBatch = int(mnist.train.num_examples/batchSize)\n",
    "epoch_list = []; loss_list = []; accuracy_list = []\n",
    "from time import time"
   ]
  },
  {
   "cell_type": "code",
   "execution_count": 15,
   "metadata": {},
   "outputs": [
    {
     "name": "stdout",
     "output_type": "stream",
     "text": [
      "Train Epoch: 01 , Loss= 1.496068358 , Accuracy= 0.9674\n",
      "Train Epoch: 02 , Loss= 1.487309098 , Accuracy= 0.976\n",
      "Train Epoch: 03 , Loss= 1.481405139 , Accuracy= 0.9808\n",
      "Train Epoch: 04 , Loss= 1.480825901 , Accuracy= 0.9808\n",
      "Train Epoch: 05 , Loss= 1.479656696 , Accuracy= 0.9818\n",
      "Train Epoch: 06 , Loss= 1.475872993 , Accuracy= 0.9858\n",
      "Train Epoch: 07 , Loss= 1.477794647 , Accuracy= 0.9832\n",
      "Train Epoch: 08 , Loss= 1.475344777 , Accuracy= 0.986\n",
      "Train Epoch: 09 , Loss= 1.474202871 , Accuracy= 0.987\n",
      "Train Epoch: 10 , Loss= 1.472779155 , Accuracy= 0.9888\n",
      "Train Epoch: 11 , Loss= 1.472494721 , Accuracy= 0.9894\n",
      "Train Epoch: 12 , Loss= 1.471516371 , Accuracy= 0.99\n",
      "Train Epoch: 13 , Loss= 1.472739816 , Accuracy= 0.9878\n",
      "Train Epoch: 14 , Loss= 1.472038865 , Accuracy= 0.989\n",
      "Train Epoch: 15 , Loss= 1.472733617 , Accuracy= 0.9884\n",
      "Train Epoch: 16 , Loss= 1.475625634 , Accuracy= 0.9858\n",
      "Train Epoch: 17 , Loss= 1.471102715 , Accuracy= 0.99\n",
      "Train Epoch: 18 , Loss= 1.471778989 , Accuracy= 0.989\n",
      "Train Epoch: 19 , Loss= 1.472327590 , Accuracy= 0.9888\n",
      "Train Epoch: 20 , Loss= 1.471513629 , Accuracy= 0.9898\n",
      "Train Epoch: 21 , Loss= 1.471791267 , Accuracy= 0.9894\n",
      "Train Epoch: 22 , Loss= 1.472916603 , Accuracy= 0.9884\n",
      "Train Epoch: 23 , Loss= 1.471568465 , Accuracy= 0.9898\n",
      "Train Epoch: 24 , Loss= 1.472592831 , Accuracy= 0.9886\n",
      "Train Epoch: 25 , Loss= 1.471999288 , Accuracy= 0.9896\n",
      "Train Epoch: 26 , Loss= 1.472772837 , Accuracy= 0.9882\n",
      "Train Epoch: 27 , Loss= 1.472273350 , Accuracy= 0.9888\n",
      "Train Epoch: 28 , Loss= 1.472692013 , Accuracy= 0.9886\n",
      "Train Epoch: 29 , Loss= 1.473045707 , Accuracy= 0.9882\n",
      "Train Epoch: 30 , Loss= 1.472456098 , Accuracy= 0.9888\n",
      "Train Finished Takes:  358.90728664398193\n"
     ]
    }
   ],
   "source": [
    "startTime = time()\n",
    "sess = tf.Session()\n",
    "sess.run(tf.global_variables_initializer())\n",
    "for epoch in range(trainEpochs):\n",
    "    for i in range(totalBatch):\n",
    "        batch_x, batch_y = mnist.train.next_batch(batch_size=batchSize)\n",
    "        sess.run(optimizer, feed_dict={x:batch_x, y_label:batch_y})\n",
    "    loss, acc = sess.run([loss_function, accuracy], feed_dict={x:mnist.validation.images, y_label:mnist.validation.labels})\n",
    "    epoch_list.append(epoch)\n",
    "    loss_list.append(loss)\n",
    "    accuracy_list.append(acc)\n",
    "    print('Train Epoch: %02d' % (epoch+1), ', Loss=', '{:.9f}'.format(loss), ', Accuracy=', acc)\n",
    "    pass\n",
    "\n",
    "duration = time() - startTime\n",
    "print('Train Finished Takes: ', duration)"
   ]
  },
  {
   "cell_type": "code",
   "execution_count": 16,
   "metadata": {},
   "outputs": [
    {
     "data": {
      "text/plain": [
       "<matplotlib.legend.Legend at 0x270a2a1cef0>"
      ]
     },
     "execution_count": 16,
     "metadata": {},
     "output_type": "execute_result"
    },
    {
     "data": {
      "image/png": "[encoded data removed]",
      "text/plain": [
       "<Figure size 288x144 with 1 Axes>"
      ]
     },
     "metadata": {
      "needs_background": "light"
     },
     "output_type": "display_data"
    }
   ],
   "source": [
    "\"\"\"画出误差执行结果\"\"\"\n",
    "%matplotlib inline\n",
    "import matplotlib.pyplot as plt\n",
    "fig = plt.gcf()\n",
    "fig.set_size_inches(4,2)\n",
    "plt.plot(epoch_list, loss_list, label='loss')\n",
    "plt.xlabel('epoch')\n",
    "plt.ylabel('loss')\n",
    "plt.legend(['loss'], loc='upper left')"
   ]
  },
  {
   "cell_type": "code",
   "execution_count": 17,
   "metadata": {},
   "outputs": [
    {
     "data": {
      "text/plain": [
       "<matplotlib.legend.Legend at 0x270a5951a58>"
      ]
     },
     "execution_count": 17,
     "metadata": {},
     "output_type": "execute_result"
    },
    {
     "data": {
      "image/png": "[encoded data removed]",
      "text/plain": [
       "<Figure size 288x144 with 1 Axes>"
      ]
     },
     "metadata": {
      "needs_background": "light"
     },
     "output_type": "display_data"
    }
   ],
   "source": [
    "\"\"\"画出准确率执行结果\"\"\"\n",
    "fig = plt.gcf()\n",
    "fig.set_size_inches(4,2)\n",
    "plt.plot(epoch_list, accuracy_list, label='accuracy')\n",
    "plt.xlabel('epoch')\n",
    "plt.ylabel('acc')\n",
    "plt.legend(['accuracy'], loc='upper left')"
   ]
  },
  {
   "cell_type": "code",
   "execution_count": 18,
   "metadata": {},
   "outputs": [
    {
     "name": "stdout",
     "output_type": "stream",
     "text": [
      "Accuracy:  0.988\n"
     ]
    }
   ],
   "source": [
    "\"\"\"评估模型的准确率\"\"\"\n",
    "score = sess.run(accuracy, feed_dict={x:mnist.test.images, y_label:mnist.test.labels})\n",
    "print('Accuracy: ', score)"
   ]
  },
  {
   "cell_type": "markdown",
   "metadata": {},
   "source": [
    "### 准确率为0.98，接近0.99"
   ]
  },
  {
   "cell_type": "code",
   "execution_count": 19,
   "metadata": {},
   "outputs": [],
   "source": [
    "\"\"\"执行预测\"\"\"\n",
    "prediction_result = sess.run(tf.argmax(y_predict, 1), feed_dict={x:mnist.test.images, y_label:mnist.test.labels})"
   ]
  },
  {
   "cell_type": "markdown",
   "metadata": {},
   "source": [
    "### tf.argmax(y_predict, 1), 因为y是one-hot编码，所以必须先使用tf.argmax进行转换"
   ]
  },
  {
   "cell_type": "code",
   "execution_count": 20,
   "metadata": {},
   "outputs": [
    {
     "data": {
      "text/plain": [
       "array([7, 2, 1, 0, 4, 1, 4, 9, 5, 9], dtype=int64)"
      ]
     },
     "execution_count": 20,
     "metadata": {},
     "output_type": "execute_result"
    }
   ],
   "source": [
    "\"\"\"查看预测结果\"\"\"\n",
    "prediction_result[:10]"
   ]
  },
  {
   "cell_type": "markdown",
   "metadata": {},
   "source": [
    "### 画出前10项预测图片"
   ]
  },
  {
   "cell_type": "code",
   "execution_count": 21,
   "metadata": {},
   "outputs": [],
   "source": [
    "import numpy as np\n",
    "def plot_images_labels_prediction(images, labels, prediction, idx, num=10):\n",
    "    fig = plt.gcf()\n",
    "    fig.set_size_inches(12, 14)\n",
    "    if num>25:\n",
    "        num = 25\n",
    "    for i in range(0, num):\n",
    "        ax = plt.subplot(5, 5, i+1)\n",
    "        ax.imshow(np.reshape(images[idx], (28, 28)),cmap='binary')\n",
    "        title = 'label='+ str(np.argmax(labels[idx]))\n",
    "        if len(prediction) >0:\n",
    "            title += ', predict='+ str(prediction[idx])\n",
    "        ax.set_title(title, fontsize=10)\n",
    "        ax.set_xticks([]); ax.set_yticks([])\n",
    "        idx+=1\n",
    "    plt.show()"
   ]
  },
  {
   "cell_type": "code",
   "execution_count": 22,
   "metadata": {},
   "outputs": [
    {
     "data": {
      "image/png": "[encoded data removed]",
      "text/plain": [
       "<Figure size 864x1008 with 10 Axes>"
      ]
     },
     "metadata": {},
     "output_type": "display_data"
    }
   ],
   "source": [
    "plot_images_labels_prediction(mnist.test.images, mnist.test.labels, prediction_result, 0)"
   ]
  },
  {
   "cell_type": "markdown",
   "metadata": {},
   "source": [
    "### tensor board\n",
    "\n",
    "#### TensorFlow提供了tensor board，可以让我们以可视化的方式查看所建立的“计算流程图”"
   ]
  },
  {
   "cell_type": "code",
   "execution_count": 23,
   "metadata": {},
   "outputs": [],
   "source": [
    "merged = tf.summary.merge_all()\n",
    "train_writer = tf.summary.FileWriter('log/CNN', sess.graph)"
   ]
  },
  {
   "cell_type": "markdown",
   "metadata": {},
   "source": [
    "### 生成“计算流程图”后，可以启动tensorboard查看\n",
    "\n",
    "## 使用卷积神经网络来识别MNIST数据集，准确率达到了将近0.99"
   ]
  },
  {
   "cell_type": "code",
   "execution_count": null,
   "metadata": {},
   "outputs": [],
   "source": []
  },
  {
   "cell_type": "code",
   "execution_count": null,
   "metadata": {},
   "outputs": [],
   "source": []
  },
  {
   "cell_type": "code",
   "execution_count": null,
   "metadata": {},
   "outputs": [],
   "source": []
  },
  {
   "cell_type": "code",
   "execution_count": null,
   "metadata": {},
   "outputs": [],
   "source": []
  }
 ],
 "metadata": {
  "kernelspec": {
   "display_name": "Python tf-gpu",
   "language": "python",
   "name": "tensorflow-gpu"
  },
  "language_info": {
   "codemirror_mode": {
    "name": "ipython",
    "version": 3
   },
   "file_extension": ".py",
   "mimetype": "text/x-python",
   "name": "python",
   "nbconvert_exporter": "python",
   "pygments_lexer": "ipython3",
   "version": "3.6.12"
  }
 },
 "nbformat": 4,
 "nbformat_minor": 2
}
