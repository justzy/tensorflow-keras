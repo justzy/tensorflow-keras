{
 "cells": [
  {
   "cell_type": "markdown",
   "metadata": {},
   "source": [
    "# 以TensorFlow张量运算仿真神经网络的运行\n",
    "\n",
    "### 以TensorFlow张量（矩阵）运算仿真神经网络的运行"
   ]
  },
  {
   "cell_type": "markdown",
   "metadata": {},
   "source": [
    "## 16.1 矩阵运算仿真神经网络\n"
   ]
  },
  {
   "cell_type": "code",
   "execution_count": 1,
   "metadata": {},
   "outputs": [
    {
     "name": "stderr",
     "output_type": "stream",
     "text": [
      "F:\\python\\Anaconda3\\envs\\tensorFLow-gpu\\lib\\site-packages\\tensorflow\\python\\framework\\dtypes.py:523: FutureWarning: Passing (type, 1) or '1type' as a synonym of type is deprecated; in a future version of numpy, it will be understood as (type, (1,)) / '(1,)type'.\n",
      "  _np_qint8 = np.dtype([(\"qint8\", np.int8, 1)])\n",
      "F:\\python\\Anaconda3\\envs\\tensorFLow-gpu\\lib\\site-packages\\tensorflow\\python\\framework\\dtypes.py:524: FutureWarning: Passing (type, 1) or '1type' as a synonym of type is deprecated; in a future version of numpy, it will be understood as (type, (1,)) / '(1,)type'.\n",
      "  _np_quint8 = np.dtype([(\"quint8\", np.uint8, 1)])\n",
      "F:\\python\\Anaconda3\\envs\\tensorFLow-gpu\\lib\\site-packages\\tensorflow\\python\\framework\\dtypes.py:525: FutureWarning: Passing (type, 1) or '1type' as a synonym of type is deprecated; in a future version of numpy, it will be understood as (type, (1,)) / '(1,)type'.\n",
      "  _np_qint16 = np.dtype([(\"qint16\", np.int16, 1)])\n",
      "F:\\python\\Anaconda3\\envs\\tensorFLow-gpu\\lib\\site-packages\\tensorflow\\python\\framework\\dtypes.py:526: FutureWarning: Passing (type, 1) or '1type' as a synonym of type is deprecated; in a future version of numpy, it will be understood as (type, (1,)) / '(1,)type'.\n",
      "  _np_quint16 = np.dtype([(\"quint16\", np.uint16, 1)])\n",
      "F:\\python\\Anaconda3\\envs\\tensorFLow-gpu\\lib\\site-packages\\tensorflow\\python\\framework\\dtypes.py:527: FutureWarning: Passing (type, 1) or '1type' as a synonym of type is deprecated; in a future version of numpy, it will be understood as (type, (1,)) / '(1,)type'.\n",
      "  _np_qint32 = np.dtype([(\"qint32\", np.int32, 1)])\n",
      "F:\\python\\Anaconda3\\envs\\tensorFLow-gpu\\lib\\site-packages\\tensorflow\\python\\framework\\dtypes.py:532: FutureWarning: Passing (type, 1) or '1type' as a synonym of type is deprecated; in a future version of numpy, it will be understood as (type, (1,)) / '(1,)type'.\n",
      "  np_resource = np.dtype([(\"resource\", np.ubyte, 1)])\n"
     ]
    }
   ],
   "source": [
    "import tensorflow as tf"
   ]
  },
  {
   "cell_type": "code",
   "execution_count": 4,
   "metadata": {},
   "outputs": [
    {
     "name": "stdout",
     "output_type": "stream",
     "text": [
      "[-1.2197871   0.77829456 -2.0108018  -0.07075689  0.81475645]\n",
      "1000\n"
     ]
    }
   ],
   "source": [
    "\"\"\"\n",
    "正态分布的随机数 tf.random_normal\n",
    "\"\"\"\n",
    "ts_normal = tf.random_normal([1000])\n",
    "\n",
    "with tf.Session() as ss:\n",
    "    norm_data = ts_normal.eval()\n",
    "    print(norm_data[:5])\n",
    "    print(len(norm_data))\n",
    "    "
   ]
  },
  {
   "cell_type": "code",
   "execution_count": 12,
   "metadata": {},
   "outputs": [
    {
     "data": {
      "image/png": "[encoded data removed]",
      "text/plain": [
       "<Figure size 432x288 with 1 Axes>"
      ]
     },
     "metadata": {
      "needs_background": "light"
     },
     "output_type": "display_data"
    }
   ],
   "source": [
    "# 显示直方图\n",
    "import matplotlib.pyplot as plt\n",
    "plt.hist(norm_data)\n",
    "plt.show()"
   ]
  },
  {
   "cell_type": "markdown",
   "metadata": {},
   "source": [
    "## 16.2 以placeholder传入X的值"
   ]
  },
  {
   "cell_type": "markdown",
   "metadata": {},
   "source": [
    "## 16.3 创建layer函数以矩阵运算仿真神经网络\n",
    "\n",
    "### 神经网络其实就是以矩阵的运算来实现仿真，后续将以相同的方式来建立类神经网络的多层感知器，定义layer函数"
   ]
  },
  {
   "cell_type": "code",
   "execution_count": 14,
   "metadata": {},
   "outputs": [],
   "source": [
    "\"\"\"\n",
    "1. layer函数\n",
    "创建下面的layer函数，其功能是建立两层神经网络。\n",
    "\"\"\"\n",
    "def layer(output_dim, input_dim, inputs, activation=None):\n",
    "    W = tf.Variable(tf.random_normal([input_dim, output_dim]))\n",
    "    b = tf.Variable(tf.random_normal([1, output_dim]))\n",
    "    XWb = tf.matmul(inputs, W)+b\n",
    "    \n",
    "    if activation is None:\n",
    "        outputs = XWb\n",
    "    else:\n",
    "        outputs = activation(XWb)\n",
    "    return outputs"
   ]
  },
  {
   "cell_type": "markdown",
   "metadata": {},
   "source": [
    "### 参数解释\n",
    "- ### layer参数\n",
    "    - #### output_dim: 输出的神经元数量\n",
    "    - #### input_dim: 输入的神经元数量\n",
    "    - #### inputs: 输入的二维数组 placeholder\n",
    "    - #### acivation： 激活函数\n",
    "- ### 以正态分布的随机数建立并且初始化W（权重）\n",
    "- ### 以正态分布的随机数建立B（偏差）\n",
    "- ### 建立矩阵表达式 XWb = (inputs×W) + b\n",
    "- ### 设置activation激活函数\n",
    "- ### 返回建立的神经网络层"
   ]
  },
  {
   "cell_type": "code",
   "execution_count": 15,
   "metadata": {},
   "outputs": [
    {
     "name": "stdout",
     "output_type": "stream",
     "text": [
      "input Layer X: \n",
      "[[0.4 0.2 0.4 0.5]]\n",
      "hidden Layer h: \n",
      "[[0.6120038  0.6514859  0.32273287]]\n",
      "output Layer y: \n",
      "[[-0.37276685 -0.6398309 ]]\n"
     ]
    }
   ],
   "source": [
    "\"\"\"\n",
    "2. 使用layer函数建立3层类神经网络\n",
    "\n",
    "以layer函数建立3层类神经网络，输入层有4个神经元，隐藏层有3个神经元，输出层有2个神经元\n",
    "\"\"\"\n",
    "X = tf.placeholder('float', [None, 4])\n",
    "h = layer(output_dim=3, input_dim=4, inputs=X, activation=tf.nn.relu)\n",
    "y = layer(output_dim=2, input_dim=3, inputs=h)\n",
    "\n",
    "with tf.Session() as ses:\n",
    "    init = tf.global_variables_initializer()\n",
    "    ses.run(init)\n",
    "    X_array = [[0.4,0.2,0.4,0.5]]\n",
    "    (layer_X, layer_h, layer_y) =ses.run((X, h, y), feed_dict={X: X_array})\n",
    "    \n",
    "    print('input Layer X: ');print(layer_X)\n",
    "    print('hidden Layer h: '); print(layer_h)\n",
    "    print('output Layer y: ');print(layer_y)"
   ]
  },
  {
   "cell_type": "markdown",
   "metadata": {},
   "source": [
    "## 16.4 建立layer_debugger函数显示权重与偏差"
   ]
  },
  {
   "cell_type": "code",
   "execution_count": 16,
   "metadata": {},
   "outputs": [],
   "source": [
    "\"\"\"\n",
    "1. layer_debug函数\n",
    "创建下面的layer函数，其功能是建立两层神经网络。\n",
    "\"\"\"\n",
    "def layer_debug(output_dim, input_dim, inputs, activation=None):\n",
    "    W = tf.Variable(tf.random_normal([input_dim, output_dim]))\n",
    "    b = tf.Variable(tf.random_normal([1, output_dim]))\n",
    "    XWb = tf.matmul(inputs, W)+b\n",
    "    \n",
    "    if activation is None:\n",
    "        outputs = XWb\n",
    "    else:\n",
    "        outputs = activation(XWb)\n",
    "    return outputs,W,b"
   ]
  },
  {
   "cell_type": "code",
   "execution_count": 17,
   "metadata": {},
   "outputs": [
    {
     "name": "stdout",
     "output_type": "stream",
     "text": [
      "input Layer X: \n",
      "[[0.4 0.2 0.4 0.5]]\n",
      "W1: \n",
      "[[-0.34356958  1.2257221  -0.29909852]\n",
      " [ 1.392562   -1.088177    0.79162246]\n",
      " [-0.05123042 -2.7557263   0.28963724]\n",
      " [-0.68746614 -1.9787539  -1.8302162 ]]\n",
      "b1: \n",
      "[[ 1.1649603  0.2690359 -0.5653124]]\n",
      "hidden Layer h: \n",
      "[[0.9418196 0.        0.       ]]\n",
      "W2: \n",
      "[[ 1.1129116  -0.7450077 ]\n",
      " [-0.05862506 -0.04040814]\n",
      " [ 0.5331398  -1.5139902 ]]\n",
      "b2: \n",
      "[[-1.2057776   0.22692391]]\n",
      "output Layer y: \n",
      "[[-0.15761566 -0.47473893]]\n"
     ]
    }
   ],
   "source": [
    "X = tf.placeholder('float', [None, 4])\n",
    "h, W1, b1 = layer_debug(output_dim=3, input_dim=4, inputs=X, activation=tf.nn.relu)\n",
    "y, W2, b2 = layer_debug(output_dim=2, input_dim=3, inputs=h)\n",
    "\n",
    "with tf.Session() as ses:\n",
    "    init = tf.global_variables_initializer()\n",
    "    ses.run(init)\n",
    "    X_array = [[0.4,0.2,0.4,0.5]]\n",
    "    (layer_X, layer_h, layer_y, W1, b1, W2, b2) =ses.run((X, h, y, W1, b1, W2, b2), feed_dict={X: X_array})\n",
    "    \n",
    "    print('input Layer X: ');print(layer_X)\n",
    "    print('W1: '); print(W1)\n",
    "    print('b1: '); print(b1)\n",
    "    print('hidden Layer h: '); print(layer_h)\n",
    "    print('W2: '); print(W2)\n",
    "    print('b2: '); print(b2)\n",
    "    print('output Layer y: ');print(layer_y)"
   ]
  },
  {
   "cell_type": "markdown",
   "metadata": {},
   "source": [
    "### 执行结果详细说明如下：\n",
    "![](./lesson16/1.jpg)\n",
    "![](./lesson16/2.jpg)"
   ]
  },
  {
   "cell_type": "code",
   "execution_count": null,
   "metadata": {},
   "outputs": [],
   "source": []
  },
  {
   "cell_type": "code",
   "execution_count": null,
   "metadata": {},
   "outputs": [],
   "source": []
  },
  {
   "cell_type": "code",
   "execution_count": null,
   "metadata": {},
   "outputs": [],
   "source": []
  },
  {
   "cell_type": "code",
   "execution_count": null,
   "metadata": {},
   "outputs": [],
   "source": []
  },
  {
   "cell_type": "code",
   "execution_count": null,
   "metadata": {},
   "outputs": [],
   "source": []
  },
  {
   "cell_type": "code",
   "execution_count": null,
   "metadata": {},
   "outputs": [],
   "source": []
  },
  {
   "cell_type": "code",
   "execution_count": null,
   "metadata": {},
   "outputs": [],
   "source": []
  }
 ],
 "metadata": {
  "kernelspec": {
   "display_name": "Python tf-gpu",
   "language": "python",
   "name": "tensorflow-gpu"
  },
  "language_info": {
   "codemirror_mode": {
    "name": "ipython",
    "version": 3
   },
   "file_extension": ".py",
   "mimetype": "text/x-python",
   "name": "python",
   "nbconvert_exporter": "python",
   "pygments_lexer": "ipython3",
   "version": "3.6.12"
  }
 },
 "nbformat": 4,
 "nbformat_minor": 2
}
